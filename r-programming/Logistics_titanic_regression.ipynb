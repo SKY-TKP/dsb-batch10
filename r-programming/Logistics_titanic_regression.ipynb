{
  "nbformat": 4,
  "nbformat_minor": 0,
  "metadata": {
    "colab": {
      "provenance": []
    },
    "kernelspec": {
      "name": "ir",
      "display_name": "R"
    },
    "language_info": {
      "name": "R"
    }
  },
  "cells": [
    {
      "cell_type": "code",
      "execution_count": null,
      "metadata": {
        "colab": {
          "base_uri": "https://localhost:8080/"
        },
        "id": "QMsYPDu0L5K5",
        "outputId": "3cd2dc4f-7b34-4d4f-ed30-d2fa081e1b08"
      },
      "outputs": [
        {
          "output_type": "stream",
          "name": "stderr",
          "text": [
            "Installing package into ‘/usr/local/lib/R/site-library’\n",
            "(as ‘lib’ is unspecified)\n",
            "\n"
          ]
        }
      ],
      "source": [
        "install.packages(\"titanic\")\n",
        "library(titanic)"
      ]
    },
    {
      "cell_type": "code",
      "source": [
        "data(titanic_train)"
      ],
      "metadata": {
        "id": "C2hiWJ01MxSf"
      },
      "execution_count": null,
      "outputs": []
    },
    {
      "cell_type": "code",
      "source": [
        "install.packages(\"tidyverse\")\n",
        "install.packages(\"caret\")\n",
        "install.packages(\"mlbench\")"
      ],
      "metadata": {
        "colab": {
          "base_uri": "https://localhost:8080/"
        },
        "id": "XeK1H2bqTiTL",
        "outputId": "158d90ca-223b-4201-8e57-03b3d6d2a6e2"
      },
      "execution_count": null,
      "outputs": [
        {
          "output_type": "stream",
          "name": "stderr",
          "text": [
            "Installing package into ‘/usr/local/lib/R/site-library’\n",
            "(as ‘lib’ is unspecified)\n",
            "\n",
            "Installing package into ‘/usr/local/lib/R/site-library’\n",
            "(as ‘lib’ is unspecified)\n",
            "\n",
            "Installing package into ‘/usr/local/lib/R/site-library’\n",
            "(as ‘lib’ is unspecified)\n",
            "\n"
          ]
        }
      ]
    },
    {
      "cell_type": "code",
      "source": [
        "library(tidyverse)\n",
        "library(caret)\n",
        "library(mlbench)"
      ],
      "metadata": {
        "colab": {
          "base_uri": "https://localhost:8080/"
        },
        "id": "wj9T5cDlVCzy",
        "outputId": "4296f47b-92f9-4353-c808-3060bf17c1f1"
      },
      "execution_count": null,
      "outputs": [
        {
          "output_type": "stream",
          "name": "stderr",
          "text": [
            "── \u001b[1mAttaching core tidyverse packages\u001b[22m ──────────────────────── tidyverse 2.0.0 ──\n",
            "\u001b[32m✔\u001b[39m \u001b[34mdplyr    \u001b[39m 1.1.4     \u001b[32m✔\u001b[39m \u001b[34mreadr    \u001b[39m 2.1.5\n",
            "\u001b[32m✔\u001b[39m \u001b[34mforcats  \u001b[39m 1.0.0     \u001b[32m✔\u001b[39m \u001b[34mstringr  \u001b[39m 1.5.1\n",
            "\u001b[32m✔\u001b[39m \u001b[34mggplot2  \u001b[39m 3.5.1     \u001b[32m✔\u001b[39m \u001b[34mtibble   \u001b[39m 3.2.1\n",
            "\u001b[32m✔\u001b[39m \u001b[34mlubridate\u001b[39m 1.9.3     \u001b[32m✔\u001b[39m \u001b[34mtidyr    \u001b[39m 1.3.1\n",
            "\u001b[32m✔\u001b[39m \u001b[34mpurrr    \u001b[39m 1.0.2     \n",
            "── \u001b[1mConflicts\u001b[22m ────────────────────────────────────────── tidyverse_conflicts() ──\n",
            "\u001b[31m✖\u001b[39m \u001b[34mdplyr\u001b[39m::\u001b[32mfilter()\u001b[39m masks \u001b[34mstats\u001b[39m::filter()\n",
            "\u001b[31m✖\u001b[39m \u001b[34mdplyr\u001b[39m::\u001b[32mlag()\u001b[39m    masks \u001b[34mstats\u001b[39m::lag()\n",
            "\u001b[36mℹ\u001b[39m Use the conflicted package (\u001b[3m\u001b[34m<http://conflicted.r-lib.org/>\u001b[39m\u001b[23m) to force all conflicts to become errors\n",
            "Loading required package: lattice\n",
            "\n",
            "\n",
            "Attaching package: ‘caret’\n",
            "\n",
            "\n",
            "The following object is masked from ‘package:purrr’:\n",
            "\n",
            "    lift\n",
            "\n",
            "\n"
          ]
        }
      ]
    },
    {
      "cell_type": "code",
      "source": [
        "## drop N/A\n",
        "titanic_train = na.omit(titanic_train)\n",
        "nrow(titanic_train)   #check nrows"
      ],
      "metadata": {
        "colab": {
          "base_uri": "https://localhost:8080/",
          "height": 34
        },
        "id": "MFsk1-SUMjhv",
        "outputId": "afe70b71-9f66-40e5-fa86-0360268c107e"
      },
      "execution_count": null,
      "outputs": [
        {
          "output_type": "display_data",
          "data": {
            "text/html": [
              "714"
            ],
            "text/markdown": "714",
            "text/latex": "714",
            "text/plain": [
              "[1] 714"
            ]
          },
          "metadata": {}
        }
      ]
    },
    {
      "cell_type": "code",
      "source": [
        "## factor gender\n",
        "titanic_train$Sex = factor(titanic_train$Sex,\n",
        "levels = c(\"female\", \"male\"),\n",
        "labels = c(0,1))"
      ],
      "metadata": {
        "id": "zPPD7YP7g1pr"
      },
      "execution_count": null,
      "outputs": []
    },
    {
      "cell_type": "markdown",
      "source": [
        "1. split"
      ],
      "metadata": {
        "id": "RA0deHpiOBNL"
      }
    },
    {
      "cell_type": "code",
      "source": [
        "## 1.split\n",
        "set.seed(42)\n",
        "n = nrow(titanic_train)\n",
        "id = sample(1:n, size=n*0.7)\n",
        "traindata = titanic_train[id, ]\n",
        "testdata = titanic_train[-id, ]"
      ],
      "metadata": {
        "id": "uTtqpaRiNKw8"
      },
      "execution_count": null,
      "outputs": []
    },
    {
      "cell_type": "markdown",
      "source": [
        "2. train"
      ],
      "metadata": {
        "id": "Bdh6b6MaN7sh"
      }
    },
    {
      "cell_type": "code",
      "source": [
        "## 2.1 create train_model\n",
        "train_model = glm(Survived ~ Pclass + Sex + Age + SibSp + Parch,\n",
        "data = traindata,\n",
        "family = \"binomial\")"
      ],
      "metadata": {
        "id": "hJhOCH18NjNF"
      },
      "execution_count": null,
      "outputs": []
    },
    {
      "cell_type": "code",
      "source": [
        "# check and clear N/A in traindata again\n",
        "nrow(traindata)\n",
        "traindata\n",
        "traindata = na.omit(traindata)\n",
        "nrow(traindata)"
      ],
      "metadata": {
        "id": "6jZ9T1T1Qj7o",
        "colab": {
          "base_uri": "https://localhost:8080/",
          "height": 1000
        },
        "collapsed": true,
        "outputId": "e8103a30-a1b2-4f65-ac1c-1523739b95a8"
      },
      "execution_count": null,
      "outputs": [
        {
          "output_type": "display_data",
          "data": {
            "text/html": [
              "499"
            ],
            "text/markdown": "499",
            "text/latex": "499",
            "text/plain": [
              "[1] 499"
            ]
          },
          "metadata": {}
        },
        {
          "output_type": "display_data",
          "data": {
            "text/html": [
              "<table class=\"dataframe\">\n",
              "<caption>A data.frame: 499 × 12</caption>\n",
              "<thead>\n",
              "\t<tr><th></th><th scope=col>PassengerId</th><th scope=col>Survived</th><th scope=col>Pclass</th><th scope=col>Name</th><th scope=col>Sex</th><th scope=col>Age</th><th scope=col>SibSp</th><th scope=col>Parch</th><th scope=col>Ticket</th><th scope=col>Fare</th><th scope=col>Cabin</th><th scope=col>Embarked</th></tr>\n",
              "\t<tr><th></th><th scope=col>&lt;int&gt;</th><th scope=col>&lt;int&gt;</th><th scope=col>&lt;int&gt;</th><th scope=col>&lt;chr&gt;</th><th scope=col>&lt;fct&gt;</th><th scope=col>&lt;dbl&gt;</th><th scope=col>&lt;int&gt;</th><th scope=col>&lt;int&gt;</th><th scope=col>&lt;chr&gt;</th><th scope=col>&lt;dbl&gt;</th><th scope=col>&lt;chr&gt;</th><th scope=col>&lt;chr&gt;</th></tr>\n",
              "</thead>\n",
              "<tbody>\n",
              "\t<tr><th scope=row>706</th><td>706</td><td>0</td><td>2</td><td>Morley, Mr. Henry Samuel (\"Mr Henry Marshall\")       </td><td>1</td><td>39</td><td>0</td><td>0</td><td>250655         </td><td> 26.0000</td><td>           </td><td>S</td></tr>\n",
              "\t<tr><th scope=row>399</th><td>399</td><td>0</td><td>2</td><td>Pain, Dr. Alfred                                     </td><td>1</td><td>23</td><td>0</td><td>0</td><td>244278         </td><td> 10.5000</td><td>           </td><td>S</td></tr>\n",
              "\t<tr><th scope=row>192</th><td>192</td><td>0</td><td>2</td><td>Carbines, Mr. William                                </td><td>1</td><td>19</td><td>0</td><td>0</td><td>28424          </td><td> 13.0000</td><td>           </td><td>S</td></tr>\n",
              "\t<tr><th scope=row>95</th><td> 95</td><td>0</td><td>3</td><td>Coxon, Mr. Daniel                                    </td><td>1</td><td>59</td><td>0</td><td>0</td><td>364500         </td><td>  7.2500</td><td>           </td><td>S</td></tr>\n",
              "\t<tr><th scope=row>283</th><td>283</td><td>0</td><td>3</td><td>de Pelsmaeker, Mr. Alfons                            </td><td>1</td><td>16</td><td>0</td><td>0</td><td>345778         </td><td>  9.5000</td><td>           </td><td>S</td></tr>\n",
              "\t<tr><th scope=row>183</th><td>183</td><td>0</td><td>3</td><td>Asplund, Master. Clarence Gustaf Hugo                </td><td>1</td><td> 9</td><td>4</td><td>2</td><td>347077         </td><td> 31.3875</td><td>           </td><td>S</td></tr>\n",
              "\t<tr><th scope=row>797</th><td>797</td><td>1</td><td>1</td><td>Leader, Dr. Alice (Farnham)                          </td><td>0</td><td>49</td><td>0</td><td>0</td><td>17465          </td><td> 25.9292</td><td>D17        </td><td>S</td></tr>\n",
              "\t<tr><th scope=row>64</th><td> 64</td><td>0</td><td>3</td><td>Skoog, Master. Harald                                </td><td>1</td><td> 4</td><td>3</td><td>2</td><td>347088         </td><td> 27.9000</td><td>           </td><td>S</td></tr>\n",
              "\t<tr><th scope=row>158</th><td>158</td><td>0</td><td>3</td><td>Corn, Mr. Harry                                      </td><td>1</td><td>30</td><td>0</td><td>0</td><td>SOTON/OQ 392090</td><td>  8.0500</td><td>           </td><td>S</td></tr>\n",
              "\t<tr><th scope=row>379</th><td>379</td><td>0</td><td>3</td><td>Betros, Mr. Tannous                                  </td><td>1</td><td>20</td><td>0</td><td>0</td><td>2648           </td><td>  4.0125</td><td>           </td><td>C</td></tr>\n",
              "\t<tr><th scope=row>28</th><td> 28</td><td>0</td><td>1</td><td>Fortune, Mr. Charles Alexander                       </td><td>1</td><td>19</td><td>3</td><td>2</td><td>19950          </td><td>263.0000</td><td>C23 C25 C27</td><td>S</td></tr>\n",
              "\t<tr><th scope=row>443</th><td>443</td><td>0</td><td>3</td><td>Petterson, Mr. Johan Emil                            </td><td>1</td><td>25</td><td>1</td><td>0</td><td>347076         </td><td>  7.7750</td><td>           </td><td>S</td></tr>\n",
              "\t<tr><th scope=row>754</th><td>754</td><td>0</td><td>3</td><td>Jonkoff, Mr. Lalio                                   </td><td>1</td><td>23</td><td>0</td><td>0</td><td>349204         </td><td>  7.8958</td><td>           </td><td>S</td></tr>\n",
              "\t<tr><th scope=row>207</th><td>207</td><td>0</td><td>3</td><td>Backstrom, Mr. Karl Alfred                           </td><td>1</td><td>32</td><td>1</td><td>0</td><td>3101278        </td><td> 15.8500</td><td>           </td><td>S</td></tr>\n",
              "\t<tr><th scope=row>781</th><td>781</td><td>1</td><td>3</td><td>Ayoub, Miss. Banoura                                 </td><td>0</td><td>13</td><td>0</td><td>0</td><td>2687           </td><td>  7.2292</td><td>           </td><td>C</td></tr>\n",
              "\t<tr><th scope=row>673</th><td>673</td><td>0</td><td>2</td><td>Mitchell, Mr. Henry Michael                          </td><td>1</td><td>70</td><td>0</td><td>0</td><td>C.A. 24580     </td><td> 10.5000</td><td>           </td><td>S</td></tr>\n",
              "\t<tr><th scope=row>515</th><td>515</td><td>0</td><td>3</td><td>Coleff, Mr. Satio                                    </td><td>1</td><td>24</td><td>0</td><td>0</td><td>349209         </td><td>  7.4958</td><td>           </td><td>S</td></tr>\n",
              "\t<tr><th scope=row>372</th><td>372</td><td>0</td><td>3</td><td>Wiklund, Mr. Jakob Alfred                            </td><td>1</td><td>18</td><td>1</td><td>0</td><td>3101267        </td><td>  6.4958</td><td>           </td><td>S</td></tr>\n",
              "\t<tr><th scope=row>877</th><td>877</td><td>0</td><td>3</td><td>Gustafsson, Mr. Alfred Ossian                        </td><td>1</td><td>20</td><td>0</td><td>0</td><td>7534           </td><td>  9.8458</td><td>           </td><td>S</td></tr>\n",
              "\t<tr><th scope=row>351</th><td>351</td><td>0</td><td>3</td><td>Odahl, Mr. Nils Martin                               </td><td>1</td><td>23</td><td>0</td><td>0</td><td>7267           </td><td>  9.2250</td><td>           </td><td>S</td></tr>\n",
              "\t<tr><th scope=row>780</th><td>780</td><td>1</td><td>1</td><td>Robert, Mrs. Edward Scott (Elisabeth Walton McMillan)</td><td>0</td><td>43</td><td>0</td><td>1</td><td>24160          </td><td>211.3375</td><td>B3         </td><td>S</td></tr>\n",
              "\t<tr><th scope=row>655</th><td>655</td><td>0</td><td>3</td><td>Hegarty, Miss. Hanora \"Nora\"                         </td><td>0</td><td>18</td><td>0</td><td>0</td><td>365226         </td><td>  6.7500</td><td>           </td><td>Q</td></tr>\n",
              "\t<tr><th scope=row>263</th><td>263</td><td>0</td><td>1</td><td>Taussig, Mr. Emil                                    </td><td>1</td><td>52</td><td>1</td><td>1</td><td>110413         </td><td> 79.6500</td><td>E67        </td><td>S</td></tr>\n",
              "\t<tr><th scope=row>322</th><td>322</td><td>0</td><td>3</td><td>Danoff, Mr. Yoto                                     </td><td>1</td><td>27</td><td>0</td><td>0</td><td>349219         </td><td>  7.8958</td><td>           </td><td>S</td></tr>\n",
              "\t<tr><th scope=row>392</th><td>392</td><td>1</td><td>3</td><td>Jansson, Mr. Carl Olof                               </td><td>1</td><td>21</td><td>0</td><td>0</td><td>350034         </td><td>  7.7958</td><td>           </td><td>S</td></tr>\n",
              "\t<tr><th scope=row>609</th><td>609</td><td>1</td><td>2</td><td>Laroche, Mrs. Joseph (Juliette Marie Louise Lafargue)</td><td>0</td><td>22</td><td>1</td><td>2</td><td>SC/Paris 2123  </td><td> 41.5792</td><td>           </td><td>C</td></tr>\n",
              "\t<tr><th scope=row>373</th><td>373</td><td>0</td><td>3</td><td>Beavan, Mr. William Thomas                           </td><td>1</td><td>19</td><td>0</td><td>0</td><td>323951         </td><td>  8.0500</td><td>           </td><td>S</td></tr>\n",
              "\t<tr><th scope=row>880</th><td>880</td><td>1</td><td>1</td><td>Potter, Mrs. Thomas Jr (Lily Alexenia Wilson)        </td><td>0</td><td>56</td><td>0</td><td>1</td><td>11767          </td><td> 83.1583</td><td>C50        </td><td>C</td></tr>\n",
              "\t<tr><th scope=row>198</th><td>198</td><td>0</td><td>3</td><td>Olsen, Mr. Karl Siegwart Andreas                     </td><td>1</td><td>42</td><td>0</td><td>1</td><td>4579           </td><td>  8.4042</td><td>           </td><td>S</td></tr>\n",
              "\t<tr><th scope=row>374</th><td>374</td><td>0</td><td>1</td><td>Ringhini, Mr. Sante                                  </td><td>1</td><td>22</td><td>0</td><td>0</td><td>PC 17760       </td><td>135.6333</td><td>           </td><td>C</td></tr>\n",
              "\t<tr><th scope=row>⋮</th><td>⋮</td><td>⋮</td><td>⋮</td><td>⋮</td><td>⋮</td><td>⋮</td><td>⋮</td><td>⋮</td><td>⋮</td><td>⋮</td><td>⋮</td><td>⋮</td></tr>\n",
              "\t<tr><th scope=row>437</th><td>437</td><td>0</td><td>3</td><td>Ford, Miss. Doolina Margaret \"Daisy\"             </td><td>0</td><td>21.0</td><td>2</td><td>2</td><td>W./C. 6608  </td><td> 34.3750</td><td>           </td><td>S</td></tr>\n",
              "\t<tr><th scope=row>248</th><td>248</td><td>1</td><td>2</td><td>Hamalainen, Mrs. William (Anna)                  </td><td>0</td><td>24.0</td><td>0</td><td>2</td><td>250649      </td><td> 14.5000</td><td>           </td><td>S</td></tr>\n",
              "\t<tr><th scope=row>277</th><td>277</td><td>0</td><td>3</td><td>Lindblom, Miss. Augusta Charlotta                </td><td>0</td><td>45.0</td><td>0</td><td>0</td><td>347073      </td><td>  7.7500</td><td>           </td><td>S</td></tr>\n",
              "\t<tr><th scope=row>643</th><td>643</td><td>0</td><td>3</td><td>Skoog, Miss. Margit Elizabeth                    </td><td>0</td><td> 2.0</td><td>3</td><td>2</td><td>347088      </td><td> 27.9000</td><td>           </td><td>S</td></tr>\n",
              "\t<tr><th scope=row>125</th><td>125</td><td>0</td><td>1</td><td>White, Mr. Percival Wayland                      </td><td>1</td><td>54.0</td><td>0</td><td>1</td><td>35281       </td><td> 77.2875</td><td>D26        </td><td>S</td></tr>\n",
              "\t<tr><th scope=row>342</th><td>342</td><td>1</td><td>1</td><td>Fortune, Miss. Alice Elizabeth                   </td><td>0</td><td>24.0</td><td>3</td><td>2</td><td>19950       </td><td>263.0000</td><td>C23 C25 C27</td><td>S</td></tr>\n",
              "\t<tr><th scope=row>581</th><td>581</td><td>1</td><td>2</td><td>Christy, Miss. Julie Rachel                      </td><td>0</td><td>25.0</td><td>1</td><td>1</td><td>237789      </td><td> 30.0000</td><td>           </td><td>S</td></tr>\n",
              "\t<tr><th scope=row>227</th><td>227</td><td>1</td><td>2</td><td>Mellors, Mr. William John                        </td><td>1</td><td>19.0</td><td>0</td><td>0</td><td>SW/PP 751   </td><td> 10.5000</td><td>           </td><td>S</td></tr>\n",
              "\t<tr><th scope=row>149</th><td>149</td><td>0</td><td>2</td><td>Navratil, Mr. Michel (\"Louis M Hoffman\")         </td><td>1</td><td>36.5</td><td>0</td><td>2</td><td>230080      </td><td> 26.0000</td><td>F2         </td><td>S</td></tr>\n",
              "\t<tr><th scope=row>219</th><td>219</td><td>1</td><td>1</td><td>Bazzani, Miss. Albina                            </td><td>0</td><td>32.0</td><td>0</td><td>0</td><td>11813       </td><td> 76.2917</td><td>D15        </td><td>C</td></tr>\n",
              "\t<tr><th scope=row>9</th><td>  9</td><td>1</td><td>3</td><td>Johnson, Mrs. Oscar W (Elisabeth Vilhelmina Berg)</td><td>0</td><td>27.0</td><td>0</td><td>2</td><td>347742      </td><td> 11.1333</td><td>           </td><td>S</td></tr>\n",
              "\t<tr><th scope=row>121</th><td>121</td><td>0</td><td>2</td><td>Hickman, Mr. Stanley George                      </td><td>1</td><td>21.0</td><td>2</td><td>0</td><td>S.O.C. 14879</td><td> 73.5000</td><td>           </td><td>S</td></tr>\n",
              "\t<tr><th scope=row>605</th><td>605</td><td>1</td><td>1</td><td>Homer, Mr. Harry (\"Mr E Haven\")                  </td><td>1</td><td>35.0</td><td>0</td><td>0</td><td>111426      </td><td> 26.5500</td><td>           </td><td>C</td></tr>\n",
              "\t<tr><th scope=row>718</th><td>718</td><td>1</td><td>2</td><td>Troutt, Miss. Edwina Celia \"Winnie\"              </td><td>0</td><td>27.0</td><td>0</td><td>0</td><td>34218       </td><td> 10.5000</td><td>E101       </td><td>S</td></tr>\n",
              "\t<tr><th scope=row>619</th><td>619</td><td>1</td><td>2</td><td>Becker, Miss. Marion Louise                      </td><td>0</td><td> 4.0</td><td>2</td><td>1</td><td>230136      </td><td> 39.0000</td><td>F4         </td><td>S</td></tr>\n",
              "\t<tr><th scope=row>436</th><td>436</td><td>1</td><td>1</td><td>Carter, Miss. Lucile Polk                        </td><td>0</td><td>14.0</td><td>1</td><td>2</td><td>113760      </td><td>120.0000</td><td>B96 B98    </td><td>S</td></tr>\n",
              "\t<tr><th scope=row>400</th><td>400</td><td>1</td><td>2</td><td>Trout, Mrs. William H (Jessie L)                 </td><td>0</td><td>28.0</td><td>0</td><td>0</td><td>240929      </td><td> 12.6500</td><td>           </td><td>S</td></tr>\n",
              "\t<tr><th scope=row>527</th><td>527</td><td>1</td><td>2</td><td>Ridsdale, Miss. Lucy                             </td><td>0</td><td>50.0</td><td>0</td><td>0</td><td>W./C. 14258 </td><td> 10.5000</td><td>           </td><td>S</td></tr>\n",
              "\t<tr><th scope=row>21</th><td> 21</td><td>0</td><td>2</td><td>Fynney, Mr. Joseph J                             </td><td>1</td><td>35.0</td><td>0</td><td>0</td><td>239865      </td><td> 26.0000</td><td>           </td><td>S</td></tr>\n",
              "\t<tr><th scope=row>447</th><td>447</td><td>1</td><td>2</td><td>Mellinger, Miss. Madeleine Violet                </td><td>0</td><td>13.0</td><td>0</td><td>1</td><td>250644      </td><td> 19.5000</td><td>           </td><td>S</td></tr>\n",
              "\t<tr><th scope=row>345</th><td>345</td><td>0</td><td>2</td><td>Fox, Mr. Stanley Hubert                          </td><td>1</td><td>36.0</td><td>0</td><td>0</td><td>229236      </td><td> 13.0000</td><td>           </td><td>S</td></tr>\n",
              "\t<tr><th scope=row>165</th><td>165</td><td>0</td><td>3</td><td>Panula, Master. Eino Viljami                     </td><td>1</td><td> 1.0</td><td>4</td><td>1</td><td>3101295     </td><td> 39.6875</td><td>           </td><td>S</td></tr>\n",
              "\t<tr><th scope=row>40</th><td> 40</td><td>1</td><td>3</td><td>Nicola-Yarred, Miss. Jamila                      </td><td>0</td><td>14.0</td><td>1</td><td>0</td><td>2651        </td><td> 11.2417</td><td>           </td><td>C</td></tr>\n",
              "\t<tr><th scope=row>73</th><td> 73</td><td>0</td><td>2</td><td>Hood, Mr. Ambrose Jr                             </td><td>1</td><td>21.0</td><td>0</td><td>0</td><td>S.O.C. 14879</td><td> 73.5000</td><td>           </td><td>S</td></tr>\n",
              "\t<tr><th scope=row>521</th><td>521</td><td>1</td><td>1</td><td>Perreault, Miss. Anne                            </td><td>0</td><td>30.0</td><td>0</td><td>0</td><td>12749       </td><td> 93.5000</td><td>B73        </td><td>S</td></tr>\n",
              "\t<tr><th scope=row>260</th><td>260</td><td>1</td><td>2</td><td>Parrish, Mrs. (Lutie Davis)                      </td><td>0</td><td>50.0</td><td>0</td><td>1</td><td>230433      </td><td> 26.0000</td><td>           </td><td>S</td></tr>\n",
              "\t<tr><th scope=row>704</th><td>704</td><td>0</td><td>3</td><td>Gallagher, Mr. Martin                            </td><td>1</td><td>25.0</td><td>0</td><td>0</td><td>36864       </td><td>  7.7417</td><td>           </td><td>Q</td></tr>\n",
              "\t<tr><th scope=row>576</th><td>576</td><td>0</td><td>3</td><td>Patchett, Mr. George                             </td><td>1</td><td>19.0</td><td>0</td><td>0</td><td>358585      </td><td> 14.5000</td><td>           </td><td>S</td></tr>\n",
              "\t<tr><th scope=row>309</th><td>309</td><td>0</td><td>2</td><td>Abelson, Mr. Samuel                              </td><td>1</td><td>30.0</td><td>1</td><td>0</td><td>P/PP 3381   </td><td> 24.0000</td><td>           </td><td>C</td></tr>\n",
              "\t<tr><th scope=row>22</th><td> 22</td><td>1</td><td>2</td><td>Beesley, Mr. Lawrence                            </td><td>1</td><td>34.0</td><td>0</td><td>0</td><td>248698      </td><td> 13.0000</td><td>D56        </td><td>S</td></tr>\n",
              "</tbody>\n",
              "</table>\n"
            ],
            "text/markdown": "\nA data.frame: 499 × 12\n\n| <!--/--> | PassengerId &lt;int&gt; | Survived &lt;int&gt; | Pclass &lt;int&gt; | Name &lt;chr&gt; | Sex &lt;fct&gt; | Age &lt;dbl&gt; | SibSp &lt;int&gt; | Parch &lt;int&gt; | Ticket &lt;chr&gt; | Fare &lt;dbl&gt; | Cabin &lt;chr&gt; | Embarked &lt;chr&gt; |\n|---|---|---|---|---|---|---|---|---|---|---|---|---|\n| 706 | 706 | 0 | 2 | Morley, Mr. Henry Samuel (\"Mr Henry Marshall\")        | 1 | 39 | 0 | 0 | 250655          |  26.0000 | <!----> | S |\n| 399 | 399 | 0 | 2 | Pain, Dr. Alfred                                      | 1 | 23 | 0 | 0 | 244278          |  10.5000 | <!----> | S |\n| 192 | 192 | 0 | 2 | Carbines, Mr. William                                 | 1 | 19 | 0 | 0 | 28424           |  13.0000 | <!----> | S |\n| 95 |  95 | 0 | 3 | Coxon, Mr. Daniel                                     | 1 | 59 | 0 | 0 | 364500          |   7.2500 | <!----> | S |\n| 283 | 283 | 0 | 3 | de Pelsmaeker, Mr. Alfons                             | 1 | 16 | 0 | 0 | 345778          |   9.5000 | <!----> | S |\n| 183 | 183 | 0 | 3 | Asplund, Master. Clarence Gustaf Hugo                 | 1 |  9 | 4 | 2 | 347077          |  31.3875 | <!----> | S |\n| 797 | 797 | 1 | 1 | Leader, Dr. Alice (Farnham)                           | 0 | 49 | 0 | 0 | 17465           |  25.9292 | D17         | S |\n| 64 |  64 | 0 | 3 | Skoog, Master. Harald                                 | 1 |  4 | 3 | 2 | 347088          |  27.9000 | <!----> | S |\n| 158 | 158 | 0 | 3 | Corn, Mr. Harry                                       | 1 | 30 | 0 | 0 | SOTON/OQ 392090 |   8.0500 | <!----> | S |\n| 379 | 379 | 0 | 3 | Betros, Mr. Tannous                                   | 1 | 20 | 0 | 0 | 2648            |   4.0125 | <!----> | C |\n| 28 |  28 | 0 | 1 | Fortune, Mr. Charles Alexander                        | 1 | 19 | 3 | 2 | 19950           | 263.0000 | C23 C25 C27 | S |\n| 443 | 443 | 0 | 3 | Petterson, Mr. Johan Emil                             | 1 | 25 | 1 | 0 | 347076          |   7.7750 | <!----> | S |\n| 754 | 754 | 0 | 3 | Jonkoff, Mr. Lalio                                    | 1 | 23 | 0 | 0 | 349204          |   7.8958 | <!----> | S |\n| 207 | 207 | 0 | 3 | Backstrom, Mr. Karl Alfred                            | 1 | 32 | 1 | 0 | 3101278         |  15.8500 | <!----> | S |\n| 781 | 781 | 1 | 3 | Ayoub, Miss. Banoura                                  | 0 | 13 | 0 | 0 | 2687            |   7.2292 | <!----> | C |\n| 673 | 673 | 0 | 2 | Mitchell, Mr. Henry Michael                           | 1 | 70 | 0 | 0 | C.A. 24580      |  10.5000 | <!----> | S |\n| 515 | 515 | 0 | 3 | Coleff, Mr. Satio                                     | 1 | 24 | 0 | 0 | 349209          |   7.4958 | <!----> | S |\n| 372 | 372 | 0 | 3 | Wiklund, Mr. Jakob Alfred                             | 1 | 18 | 1 | 0 | 3101267         |   6.4958 | <!----> | S |\n| 877 | 877 | 0 | 3 | Gustafsson, Mr. Alfred Ossian                         | 1 | 20 | 0 | 0 | 7534            |   9.8458 | <!----> | S |\n| 351 | 351 | 0 | 3 | Odahl, Mr. Nils Martin                                | 1 | 23 | 0 | 0 | 7267            |   9.2250 | <!----> | S |\n| 780 | 780 | 1 | 1 | Robert, Mrs. Edward Scott (Elisabeth Walton McMillan) | 0 | 43 | 0 | 1 | 24160           | 211.3375 | B3          | S |\n| 655 | 655 | 0 | 3 | Hegarty, Miss. Hanora \"Nora\"                          | 0 | 18 | 0 | 0 | 365226          |   6.7500 | <!----> | Q |\n| 263 | 263 | 0 | 1 | Taussig, Mr. Emil                                     | 1 | 52 | 1 | 1 | 110413          |  79.6500 | E67         | S |\n| 322 | 322 | 0 | 3 | Danoff, Mr. Yoto                                      | 1 | 27 | 0 | 0 | 349219          |   7.8958 | <!----> | S |\n| 392 | 392 | 1 | 3 | Jansson, Mr. Carl Olof                                | 1 | 21 | 0 | 0 | 350034          |   7.7958 | <!----> | S |\n| 609 | 609 | 1 | 2 | Laroche, Mrs. Joseph (Juliette Marie Louise Lafargue) | 0 | 22 | 1 | 2 | SC/Paris 2123   |  41.5792 | <!----> | C |\n| 373 | 373 | 0 | 3 | Beavan, Mr. William Thomas                            | 1 | 19 | 0 | 0 | 323951          |   8.0500 | <!----> | S |\n| 880 | 880 | 1 | 1 | Potter, Mrs. Thomas Jr (Lily Alexenia Wilson)         | 0 | 56 | 0 | 1 | 11767           |  83.1583 | C50         | C |\n| 198 | 198 | 0 | 3 | Olsen, Mr. Karl Siegwart Andreas                      | 1 | 42 | 0 | 1 | 4579            |   8.4042 | <!----> | S |\n| 374 | 374 | 0 | 1 | Ringhini, Mr. Sante                                   | 1 | 22 | 0 | 0 | PC 17760        | 135.6333 | <!----> | C |\n| ⋮ | ⋮ | ⋮ | ⋮ | ⋮ | ⋮ | ⋮ | ⋮ | ⋮ | ⋮ | ⋮ | ⋮ | ⋮ |\n| 437 | 437 | 0 | 3 | Ford, Miss. Doolina Margaret \"Daisy\"              | 0 | 21.0 | 2 | 2 | W./C. 6608   |  34.3750 | <!----> | S |\n| 248 | 248 | 1 | 2 | Hamalainen, Mrs. William (Anna)                   | 0 | 24.0 | 0 | 2 | 250649       |  14.5000 | <!----> | S |\n| 277 | 277 | 0 | 3 | Lindblom, Miss. Augusta Charlotta                 | 0 | 45.0 | 0 | 0 | 347073       |   7.7500 | <!----> | S |\n| 643 | 643 | 0 | 3 | Skoog, Miss. Margit Elizabeth                     | 0 |  2.0 | 3 | 2 | 347088       |  27.9000 | <!----> | S |\n| 125 | 125 | 0 | 1 | White, Mr. Percival Wayland                       | 1 | 54.0 | 0 | 1 | 35281        |  77.2875 | D26         | S |\n| 342 | 342 | 1 | 1 | Fortune, Miss. Alice Elizabeth                    | 0 | 24.0 | 3 | 2 | 19950        | 263.0000 | C23 C25 C27 | S |\n| 581 | 581 | 1 | 2 | Christy, Miss. Julie Rachel                       | 0 | 25.0 | 1 | 1 | 237789       |  30.0000 | <!----> | S |\n| 227 | 227 | 1 | 2 | Mellors, Mr. William John                         | 1 | 19.0 | 0 | 0 | SW/PP 751    |  10.5000 | <!----> | S |\n| 149 | 149 | 0 | 2 | Navratil, Mr. Michel (\"Louis M Hoffman\")          | 1 | 36.5 | 0 | 2 | 230080       |  26.0000 | F2          | S |\n| 219 | 219 | 1 | 1 | Bazzani, Miss. Albina                             | 0 | 32.0 | 0 | 0 | 11813        |  76.2917 | D15         | C |\n| 9 |   9 | 1 | 3 | Johnson, Mrs. Oscar W (Elisabeth Vilhelmina Berg) | 0 | 27.0 | 0 | 2 | 347742       |  11.1333 | <!----> | S |\n| 121 | 121 | 0 | 2 | Hickman, Mr. Stanley George                       | 1 | 21.0 | 2 | 0 | S.O.C. 14879 |  73.5000 | <!----> | S |\n| 605 | 605 | 1 | 1 | Homer, Mr. Harry (\"Mr E Haven\")                   | 1 | 35.0 | 0 | 0 | 111426       |  26.5500 | <!----> | C |\n| 718 | 718 | 1 | 2 | Troutt, Miss. Edwina Celia \"Winnie\"               | 0 | 27.0 | 0 | 0 | 34218        |  10.5000 | E101        | S |\n| 619 | 619 | 1 | 2 | Becker, Miss. Marion Louise                       | 0 |  4.0 | 2 | 1 | 230136       |  39.0000 | F4          | S |\n| 436 | 436 | 1 | 1 | Carter, Miss. Lucile Polk                         | 0 | 14.0 | 1 | 2 | 113760       | 120.0000 | B96 B98     | S |\n| 400 | 400 | 1 | 2 | Trout, Mrs. William H (Jessie L)                  | 0 | 28.0 | 0 | 0 | 240929       |  12.6500 | <!----> | S |\n| 527 | 527 | 1 | 2 | Ridsdale, Miss. Lucy                              | 0 | 50.0 | 0 | 0 | W./C. 14258  |  10.5000 | <!----> | S |\n| 21 |  21 | 0 | 2 | Fynney, Mr. Joseph J                              | 1 | 35.0 | 0 | 0 | 239865       |  26.0000 | <!----> | S |\n| 447 | 447 | 1 | 2 | Mellinger, Miss. Madeleine Violet                 | 0 | 13.0 | 0 | 1 | 250644       |  19.5000 | <!----> | S |\n| 345 | 345 | 0 | 2 | Fox, Mr. Stanley Hubert                           | 1 | 36.0 | 0 | 0 | 229236       |  13.0000 | <!----> | S |\n| 165 | 165 | 0 | 3 | Panula, Master. Eino Viljami                      | 1 |  1.0 | 4 | 1 | 3101295      |  39.6875 | <!----> | S |\n| 40 |  40 | 1 | 3 | Nicola-Yarred, Miss. Jamila                       | 0 | 14.0 | 1 | 0 | 2651         |  11.2417 | <!----> | C |\n| 73 |  73 | 0 | 2 | Hood, Mr. Ambrose Jr                              | 1 | 21.0 | 0 | 0 | S.O.C. 14879 |  73.5000 | <!----> | S |\n| 521 | 521 | 1 | 1 | Perreault, Miss. Anne                             | 0 | 30.0 | 0 | 0 | 12749        |  93.5000 | B73         | S |\n| 260 | 260 | 1 | 2 | Parrish, Mrs. (Lutie Davis)                       | 0 | 50.0 | 0 | 1 | 230433       |  26.0000 | <!----> | S |\n| 704 | 704 | 0 | 3 | Gallagher, Mr. Martin                             | 1 | 25.0 | 0 | 0 | 36864        |   7.7417 | <!----> | Q |\n| 576 | 576 | 0 | 3 | Patchett, Mr. George                              | 1 | 19.0 | 0 | 0 | 358585       |  14.5000 | <!----> | S |\n| 309 | 309 | 0 | 2 | Abelson, Mr. Samuel                               | 1 | 30.0 | 1 | 0 | P/PP 3381    |  24.0000 | <!----> | C |\n| 22 |  22 | 1 | 2 | Beesley, Mr. Lawrence                             | 1 | 34.0 | 0 | 0 | 248698       |  13.0000 | D56         | S |\n\n",
            "text/latex": "A data.frame: 499 × 12\n\\begin{tabular}{r|llllllllllll}\n  & PassengerId & Survived & Pclass & Name & Sex & Age & SibSp & Parch & Ticket & Fare & Cabin & Embarked\\\\\n  & <int> & <int> & <int> & <chr> & <fct> & <dbl> & <int> & <int> & <chr> & <dbl> & <chr> & <chr>\\\\\n\\hline\n\t706 & 706 & 0 & 2 & Morley, Mr. Henry Samuel (\"Mr Henry Marshall\")        & 1 & 39 & 0 & 0 & 250655          &  26.0000 &             & S\\\\\n\t399 & 399 & 0 & 2 & Pain, Dr. Alfred                                      & 1 & 23 & 0 & 0 & 244278          &  10.5000 &             & S\\\\\n\t192 & 192 & 0 & 2 & Carbines, Mr. William                                 & 1 & 19 & 0 & 0 & 28424           &  13.0000 &             & S\\\\\n\t95 &  95 & 0 & 3 & Coxon, Mr. Daniel                                     & 1 & 59 & 0 & 0 & 364500          &   7.2500 &             & S\\\\\n\t283 & 283 & 0 & 3 & de Pelsmaeker, Mr. Alfons                             & 1 & 16 & 0 & 0 & 345778          &   9.5000 &             & S\\\\\n\t183 & 183 & 0 & 3 & Asplund, Master. Clarence Gustaf Hugo                 & 1 &  9 & 4 & 2 & 347077          &  31.3875 &             & S\\\\\n\t797 & 797 & 1 & 1 & Leader, Dr. Alice (Farnham)                           & 0 & 49 & 0 & 0 & 17465           &  25.9292 & D17         & S\\\\\n\t64 &  64 & 0 & 3 & Skoog, Master. Harald                                 & 1 &  4 & 3 & 2 & 347088          &  27.9000 &             & S\\\\\n\t158 & 158 & 0 & 3 & Corn, Mr. Harry                                       & 1 & 30 & 0 & 0 & SOTON/OQ 392090 &   8.0500 &             & S\\\\\n\t379 & 379 & 0 & 3 & Betros, Mr. Tannous                                   & 1 & 20 & 0 & 0 & 2648            &   4.0125 &             & C\\\\\n\t28 &  28 & 0 & 1 & Fortune, Mr. Charles Alexander                        & 1 & 19 & 3 & 2 & 19950           & 263.0000 & C23 C25 C27 & S\\\\\n\t443 & 443 & 0 & 3 & Petterson, Mr. Johan Emil                             & 1 & 25 & 1 & 0 & 347076          &   7.7750 &             & S\\\\\n\t754 & 754 & 0 & 3 & Jonkoff, Mr. Lalio                                    & 1 & 23 & 0 & 0 & 349204          &   7.8958 &             & S\\\\\n\t207 & 207 & 0 & 3 & Backstrom, Mr. Karl Alfred                            & 1 & 32 & 1 & 0 & 3101278         &  15.8500 &             & S\\\\\n\t781 & 781 & 1 & 3 & Ayoub, Miss. Banoura                                  & 0 & 13 & 0 & 0 & 2687            &   7.2292 &             & C\\\\\n\t673 & 673 & 0 & 2 & Mitchell, Mr. Henry Michael                           & 1 & 70 & 0 & 0 & C.A. 24580      &  10.5000 &             & S\\\\\n\t515 & 515 & 0 & 3 & Coleff, Mr. Satio                                     & 1 & 24 & 0 & 0 & 349209          &   7.4958 &             & S\\\\\n\t372 & 372 & 0 & 3 & Wiklund, Mr. Jakob Alfred                             & 1 & 18 & 1 & 0 & 3101267         &   6.4958 &             & S\\\\\n\t877 & 877 & 0 & 3 & Gustafsson, Mr. Alfred Ossian                         & 1 & 20 & 0 & 0 & 7534            &   9.8458 &             & S\\\\\n\t351 & 351 & 0 & 3 & Odahl, Mr. Nils Martin                                & 1 & 23 & 0 & 0 & 7267            &   9.2250 &             & S\\\\\n\t780 & 780 & 1 & 1 & Robert, Mrs. Edward Scott (Elisabeth Walton McMillan) & 0 & 43 & 0 & 1 & 24160           & 211.3375 & B3          & S\\\\\n\t655 & 655 & 0 & 3 & Hegarty, Miss. Hanora \"Nora\"                          & 0 & 18 & 0 & 0 & 365226          &   6.7500 &             & Q\\\\\n\t263 & 263 & 0 & 1 & Taussig, Mr. Emil                                     & 1 & 52 & 1 & 1 & 110413          &  79.6500 & E67         & S\\\\\n\t322 & 322 & 0 & 3 & Danoff, Mr. Yoto                                      & 1 & 27 & 0 & 0 & 349219          &   7.8958 &             & S\\\\\n\t392 & 392 & 1 & 3 & Jansson, Mr. Carl Olof                                & 1 & 21 & 0 & 0 & 350034          &   7.7958 &             & S\\\\\n\t609 & 609 & 1 & 2 & Laroche, Mrs. Joseph (Juliette Marie Louise Lafargue) & 0 & 22 & 1 & 2 & SC/Paris 2123   &  41.5792 &             & C\\\\\n\t373 & 373 & 0 & 3 & Beavan, Mr. William Thomas                            & 1 & 19 & 0 & 0 & 323951          &   8.0500 &             & S\\\\\n\t880 & 880 & 1 & 1 & Potter, Mrs. Thomas Jr (Lily Alexenia Wilson)         & 0 & 56 & 0 & 1 & 11767           &  83.1583 & C50         & C\\\\\n\t198 & 198 & 0 & 3 & Olsen, Mr. Karl Siegwart Andreas                      & 1 & 42 & 0 & 1 & 4579            &   8.4042 &             & S\\\\\n\t374 & 374 & 0 & 1 & Ringhini, Mr. Sante                                   & 1 & 22 & 0 & 0 & PC 17760        & 135.6333 &             & C\\\\\n\t⋮ & ⋮ & ⋮ & ⋮ & ⋮ & ⋮ & ⋮ & ⋮ & ⋮ & ⋮ & ⋮ & ⋮ & ⋮\\\\\n\t437 & 437 & 0 & 3 & Ford, Miss. Doolina Margaret \"Daisy\"              & 0 & 21.0 & 2 & 2 & W./C. 6608   &  34.3750 &             & S\\\\\n\t248 & 248 & 1 & 2 & Hamalainen, Mrs. William (Anna)                   & 0 & 24.0 & 0 & 2 & 250649       &  14.5000 &             & S\\\\\n\t277 & 277 & 0 & 3 & Lindblom, Miss. Augusta Charlotta                 & 0 & 45.0 & 0 & 0 & 347073       &   7.7500 &             & S\\\\\n\t643 & 643 & 0 & 3 & Skoog, Miss. Margit Elizabeth                     & 0 &  2.0 & 3 & 2 & 347088       &  27.9000 &             & S\\\\\n\t125 & 125 & 0 & 1 & White, Mr. Percival Wayland                       & 1 & 54.0 & 0 & 1 & 35281        &  77.2875 & D26         & S\\\\\n\t342 & 342 & 1 & 1 & Fortune, Miss. Alice Elizabeth                    & 0 & 24.0 & 3 & 2 & 19950        & 263.0000 & C23 C25 C27 & S\\\\\n\t581 & 581 & 1 & 2 & Christy, Miss. Julie Rachel                       & 0 & 25.0 & 1 & 1 & 237789       &  30.0000 &             & S\\\\\n\t227 & 227 & 1 & 2 & Mellors, Mr. William John                         & 1 & 19.0 & 0 & 0 & SW/PP 751    &  10.5000 &             & S\\\\\n\t149 & 149 & 0 & 2 & Navratil, Mr. Michel (\"Louis M Hoffman\")          & 1 & 36.5 & 0 & 2 & 230080       &  26.0000 & F2          & S\\\\\n\t219 & 219 & 1 & 1 & Bazzani, Miss. Albina                             & 0 & 32.0 & 0 & 0 & 11813        &  76.2917 & D15         & C\\\\\n\t9 &   9 & 1 & 3 & Johnson, Mrs. Oscar W (Elisabeth Vilhelmina Berg) & 0 & 27.0 & 0 & 2 & 347742       &  11.1333 &             & S\\\\\n\t121 & 121 & 0 & 2 & Hickman, Mr. Stanley George                       & 1 & 21.0 & 2 & 0 & S.O.C. 14879 &  73.5000 &             & S\\\\\n\t605 & 605 & 1 & 1 & Homer, Mr. Harry (\"Mr E Haven\")                   & 1 & 35.0 & 0 & 0 & 111426       &  26.5500 &             & C\\\\\n\t718 & 718 & 1 & 2 & Troutt, Miss. Edwina Celia \"Winnie\"               & 0 & 27.0 & 0 & 0 & 34218        &  10.5000 & E101        & S\\\\\n\t619 & 619 & 1 & 2 & Becker, Miss. Marion Louise                       & 0 &  4.0 & 2 & 1 & 230136       &  39.0000 & F4          & S\\\\\n\t436 & 436 & 1 & 1 & Carter, Miss. Lucile Polk                         & 0 & 14.0 & 1 & 2 & 113760       & 120.0000 & B96 B98     & S\\\\\n\t400 & 400 & 1 & 2 & Trout, Mrs. William H (Jessie L)                  & 0 & 28.0 & 0 & 0 & 240929       &  12.6500 &             & S\\\\\n\t527 & 527 & 1 & 2 & Ridsdale, Miss. Lucy                              & 0 & 50.0 & 0 & 0 & W./C. 14258  &  10.5000 &             & S\\\\\n\t21 &  21 & 0 & 2 & Fynney, Mr. Joseph J                              & 1 & 35.0 & 0 & 0 & 239865       &  26.0000 &             & S\\\\\n\t447 & 447 & 1 & 2 & Mellinger, Miss. Madeleine Violet                 & 0 & 13.0 & 0 & 1 & 250644       &  19.5000 &             & S\\\\\n\t345 & 345 & 0 & 2 & Fox, Mr. Stanley Hubert                           & 1 & 36.0 & 0 & 0 & 229236       &  13.0000 &             & S\\\\\n\t165 & 165 & 0 & 3 & Panula, Master. Eino Viljami                      & 1 &  1.0 & 4 & 1 & 3101295      &  39.6875 &             & S\\\\\n\t40 &  40 & 1 & 3 & Nicola-Yarred, Miss. Jamila                       & 0 & 14.0 & 1 & 0 & 2651         &  11.2417 &             & C\\\\\n\t73 &  73 & 0 & 2 & Hood, Mr. Ambrose Jr                              & 1 & 21.0 & 0 & 0 & S.O.C. 14879 &  73.5000 &             & S\\\\\n\t521 & 521 & 1 & 1 & Perreault, Miss. Anne                             & 0 & 30.0 & 0 & 0 & 12749        &  93.5000 & B73         & S\\\\\n\t260 & 260 & 1 & 2 & Parrish, Mrs. (Lutie Davis)                       & 0 & 50.0 & 0 & 1 & 230433       &  26.0000 &             & S\\\\\n\t704 & 704 & 0 & 3 & Gallagher, Mr. Martin                             & 1 & 25.0 & 0 & 0 & 36864        &   7.7417 &             & Q\\\\\n\t576 & 576 & 0 & 3 & Patchett, Mr. George                              & 1 & 19.0 & 0 & 0 & 358585       &  14.5000 &             & S\\\\\n\t309 & 309 & 0 & 2 & Abelson, Mr. Samuel                               & 1 & 30.0 & 1 & 0 & P/PP 3381    &  24.0000 &             & C\\\\\n\t22 &  22 & 1 & 2 & Beesley, Mr. Lawrence                             & 1 & 34.0 & 0 & 0 & 248698       &  13.0000 & D56         & S\\\\\n\\end{tabular}\n",
            "text/plain": [
              "    PassengerId Survived Pclass\n",
              "706 706         0        2     \n",
              "399 399         0        2     \n",
              "192 192         0        2     \n",
              "95   95         0        3     \n",
              "283 283         0        3     \n",
              "183 183         0        3     \n",
              "797 797         1        1     \n",
              "64   64         0        3     \n",
              "158 158         0        3     \n",
              "379 379         0        3     \n",
              "28   28         0        1     \n",
              "443 443         0        3     \n",
              "754 754         0        3     \n",
              "207 207         0        3     \n",
              "781 781         1        3     \n",
              "673 673         0        2     \n",
              "515 515         0        3     \n",
              "372 372         0        3     \n",
              "877 877         0        3     \n",
              "351 351         0        3     \n",
              "780 780         1        1     \n",
              "655 655         0        3     \n",
              "263 263         0        1     \n",
              "322 322         0        3     \n",
              "392 392         1        3     \n",
              "609 609         1        2     \n",
              "373 373         0        3     \n",
              "880 880         1        1     \n",
              "198 198         0        3     \n",
              "374 374         0        1     \n",
              "⋮   ⋮           ⋮        ⋮     \n",
              "437 437         0        3     \n",
              "248 248         1        2     \n",
              "277 277         0        3     \n",
              "643 643         0        3     \n",
              "125 125         0        1     \n",
              "342 342         1        1     \n",
              "581 581         1        2     \n",
              "227 227         1        2     \n",
              "149 149         0        2     \n",
              "219 219         1        1     \n",
              "9     9         1        3     \n",
              "121 121         0        2     \n",
              "605 605         1        1     \n",
              "718 718         1        2     \n",
              "619 619         1        2     \n",
              "436 436         1        1     \n",
              "400 400         1        2     \n",
              "527 527         1        2     \n",
              "21   21         0        2     \n",
              "447 447         1        2     \n",
              "345 345         0        2     \n",
              "165 165         0        3     \n",
              "40   40         1        3     \n",
              "73   73         0        2     \n",
              "521 521         1        1     \n",
              "260 260         1        2     \n",
              "704 704         0        3     \n",
              "576 576         0        3     \n",
              "309 309         0        2     \n",
              "22   22         1        2     \n",
              "    Name                                                  Sex Age  SibSp Parch\n",
              "706 Morley, Mr. Henry Samuel (\"Mr Henry Marshall\")        1   39   0     0    \n",
              "399 Pain, Dr. Alfred                                      1   23   0     0    \n",
              "192 Carbines, Mr. William                                 1   19   0     0    \n",
              "95  Coxon, Mr. Daniel                                     1   59   0     0    \n",
              "283 de Pelsmaeker, Mr. Alfons                             1   16   0     0    \n",
              "183 Asplund, Master. Clarence Gustaf Hugo                 1    9   4     2    \n",
              "797 Leader, Dr. Alice (Farnham)                           0   49   0     0    \n",
              "64  Skoog, Master. Harald                                 1    4   3     2    \n",
              "158 Corn, Mr. Harry                                       1   30   0     0    \n",
              "379 Betros, Mr. Tannous                                   1   20   0     0    \n",
              "28  Fortune, Mr. Charles Alexander                        1   19   3     2    \n",
              "443 Petterson, Mr. Johan Emil                             1   25   1     0    \n",
              "754 Jonkoff, Mr. Lalio                                    1   23   0     0    \n",
              "207 Backstrom, Mr. Karl Alfred                            1   32   1     0    \n",
              "781 Ayoub, Miss. Banoura                                  0   13   0     0    \n",
              "673 Mitchell, Mr. Henry Michael                           1   70   0     0    \n",
              "515 Coleff, Mr. Satio                                     1   24   0     0    \n",
              "372 Wiklund, Mr. Jakob Alfred                             1   18   1     0    \n",
              "877 Gustafsson, Mr. Alfred Ossian                         1   20   0     0    \n",
              "351 Odahl, Mr. Nils Martin                                1   23   0     0    \n",
              "780 Robert, Mrs. Edward Scott (Elisabeth Walton McMillan) 0   43   0     1    \n",
              "655 Hegarty, Miss. Hanora \"Nora\"                          0   18   0     0    \n",
              "263 Taussig, Mr. Emil                                     1   52   1     1    \n",
              "322 Danoff, Mr. Yoto                                      1   27   0     0    \n",
              "392 Jansson, Mr. Carl Olof                                1   21   0     0    \n",
              "609 Laroche, Mrs. Joseph (Juliette Marie Louise Lafargue) 0   22   1     2    \n",
              "373 Beavan, Mr. William Thomas                            1   19   0     0    \n",
              "880 Potter, Mrs. Thomas Jr (Lily Alexenia Wilson)         0   56   0     1    \n",
              "198 Olsen, Mr. Karl Siegwart Andreas                      1   42   0     1    \n",
              "374 Ringhini, Mr. Sante                                   1   22   0     0    \n",
              "⋮   ⋮                                                     ⋮   ⋮    ⋮     ⋮    \n",
              "437 Ford, Miss. Doolina Margaret \"Daisy\"                  0   21.0 2     2    \n",
              "248 Hamalainen, Mrs. William (Anna)                       0   24.0 0     2    \n",
              "277 Lindblom, Miss. Augusta Charlotta                     0   45.0 0     0    \n",
              "643 Skoog, Miss. Margit Elizabeth                         0    2.0 3     2    \n",
              "125 White, Mr. Percival Wayland                           1   54.0 0     1    \n",
              "342 Fortune, Miss. Alice Elizabeth                        0   24.0 3     2    \n",
              "581 Christy, Miss. Julie Rachel                           0   25.0 1     1    \n",
              "227 Mellors, Mr. William John                             1   19.0 0     0    \n",
              "149 Navratil, Mr. Michel (\"Louis M Hoffman\")              1   36.5 0     2    \n",
              "219 Bazzani, Miss. Albina                                 0   32.0 0     0    \n",
              "9   Johnson, Mrs. Oscar W (Elisabeth Vilhelmina Berg)     0   27.0 0     2    \n",
              "121 Hickman, Mr. Stanley George                           1   21.0 2     0    \n",
              "605 Homer, Mr. Harry (\"Mr E Haven\")                       1   35.0 0     0    \n",
              "718 Troutt, Miss. Edwina Celia \"Winnie\"                   0   27.0 0     0    \n",
              "619 Becker, Miss. Marion Louise                           0    4.0 2     1    \n",
              "436 Carter, Miss. Lucile Polk                             0   14.0 1     2    \n",
              "400 Trout, Mrs. William H (Jessie L)                      0   28.0 0     0    \n",
              "527 Ridsdale, Miss. Lucy                                  0   50.0 0     0    \n",
              "21  Fynney, Mr. Joseph J                                  1   35.0 0     0    \n",
              "447 Mellinger, Miss. Madeleine Violet                     0   13.0 0     1    \n",
              "345 Fox, Mr. Stanley Hubert                               1   36.0 0     0    \n",
              "165 Panula, Master. Eino Viljami                          1    1.0 4     1    \n",
              "40  Nicola-Yarred, Miss. Jamila                           0   14.0 1     0    \n",
              "73  Hood, Mr. Ambrose Jr                                  1   21.0 0     0    \n",
              "521 Perreault, Miss. Anne                                 0   30.0 0     0    \n",
              "260 Parrish, Mrs. (Lutie Davis)                           0   50.0 0     1    \n",
              "704 Gallagher, Mr. Martin                                 1   25.0 0     0    \n",
              "576 Patchett, Mr. George                                  1   19.0 0     0    \n",
              "309 Abelson, Mr. Samuel                                   1   30.0 1     0    \n",
              "22  Beesley, Mr. Lawrence                                 1   34.0 0     0    \n",
              "    Ticket          Fare     Cabin       Embarked\n",
              "706 250655           26.0000             S       \n",
              "399 244278           10.5000             S       \n",
              "192 28424            13.0000             S       \n",
              "95  364500            7.2500             S       \n",
              "283 345778            9.5000             S       \n",
              "183 347077           31.3875             S       \n",
              "797 17465            25.9292 D17         S       \n",
              "64  347088           27.9000             S       \n",
              "158 SOTON/OQ 392090   8.0500             S       \n",
              "379 2648              4.0125             C       \n",
              "28  19950           263.0000 C23 C25 C27 S       \n",
              "443 347076            7.7750             S       \n",
              "754 349204            7.8958             S       \n",
              "207 3101278          15.8500             S       \n",
              "781 2687              7.2292             C       \n",
              "673 C.A. 24580       10.5000             S       \n",
              "515 349209            7.4958             S       \n",
              "372 3101267           6.4958             S       \n",
              "877 7534              9.8458             S       \n",
              "351 7267              9.2250             S       \n",
              "780 24160           211.3375 B3          S       \n",
              "655 365226            6.7500             Q       \n",
              "263 110413           79.6500 E67         S       \n",
              "322 349219            7.8958             S       \n",
              "392 350034            7.7958             S       \n",
              "609 SC/Paris 2123    41.5792             C       \n",
              "373 323951            8.0500             S       \n",
              "880 11767            83.1583 C50         C       \n",
              "198 4579              8.4042             S       \n",
              "374 PC 17760        135.6333             C       \n",
              "⋮   ⋮               ⋮        ⋮           ⋮       \n",
              "437 W./C. 6608       34.3750             S       \n",
              "248 250649           14.5000             S       \n",
              "277 347073            7.7500             S       \n",
              "643 347088           27.9000             S       \n",
              "125 35281            77.2875 D26         S       \n",
              "342 19950           263.0000 C23 C25 C27 S       \n",
              "581 237789           30.0000             S       \n",
              "227 SW/PP 751        10.5000             S       \n",
              "149 230080           26.0000 F2          S       \n",
              "219 11813            76.2917 D15         C       \n",
              "9   347742           11.1333             S       \n",
              "121 S.O.C. 14879     73.5000             S       \n",
              "605 111426           26.5500             C       \n",
              "718 34218            10.5000 E101        S       \n",
              "619 230136           39.0000 F4          S       \n",
              "436 113760          120.0000 B96 B98     S       \n",
              "400 240929           12.6500             S       \n",
              "527 W./C. 14258      10.5000             S       \n",
              "21  239865           26.0000             S       \n",
              "447 250644           19.5000             S       \n",
              "345 229236           13.0000             S       \n",
              "165 3101295          39.6875             S       \n",
              "40  2651             11.2417             C       \n",
              "73  S.O.C. 14879     73.5000             S       \n",
              "521 12749            93.5000 B73         S       \n",
              "260 230433           26.0000             S       \n",
              "704 36864             7.7417             Q       \n",
              "576 358585           14.5000             S       \n",
              "309 P/PP 3381        24.0000             C       \n",
              "22  248698           13.0000 D56         S       "
            ]
          },
          "metadata": {}
        },
        {
          "output_type": "display_data",
          "data": {
            "text/html": [
              "499"
            ],
            "text/markdown": "499",
            "text/latex": "499",
            "text/plain": [
              "[1] 499"
            ]
          },
          "metadata": {}
        }
      ]
    },
    {
      "cell_type": "code",
      "source": [
        "# check and clear N/A in testdata again\n",
        "testdata\n",
        "testdata = na.omit(testdata)"
      ],
      "metadata": {
        "colab": {
          "base_uri": "https://localhost:8080/",
          "height": 1000
        },
        "id": "qAdVNS2jRIpc",
        "outputId": "18c717da-a811-47b8-c679-1157562e35df",
        "collapsed": true
      },
      "execution_count": null,
      "outputs": [
        {
          "output_type": "display_data",
          "data": {
            "text/html": [
              "<table class=\"dataframe\">\n",
              "<caption>A data.frame: 215 × 12</caption>\n",
              "<thead>\n",
              "\t<tr><th></th><th scope=col>PassengerId</th><th scope=col>Survived</th><th scope=col>Pclass</th><th scope=col>Name</th><th scope=col>Sex</th><th scope=col>Age</th><th scope=col>SibSp</th><th scope=col>Parch</th><th scope=col>Ticket</th><th scope=col>Fare</th><th scope=col>Cabin</th><th scope=col>Embarked</th></tr>\n",
              "\t<tr><th></th><th scope=col>&lt;int&gt;</th><th scope=col>&lt;int&gt;</th><th scope=col>&lt;int&gt;</th><th scope=col>&lt;chr&gt;</th><th scope=col>&lt;fct&gt;</th><th scope=col>&lt;dbl&gt;</th><th scope=col>&lt;int&gt;</th><th scope=col>&lt;int&gt;</th><th scope=col>&lt;chr&gt;</th><th scope=col>&lt;dbl&gt;</th><th scope=col>&lt;chr&gt;</th><th scope=col>&lt;chr&gt;</th></tr>\n",
              "</thead>\n",
              "<tbody>\n",
              "\t<tr><th scope=row>1</th><td> 1</td><td>0</td><td>3</td><td>Braund, Mr. Owen Harris                                </td><td>1</td><td>22.0</td><td>1</td><td>0</td><td>A/5 21171    </td><td> 7.2500</td><td>    </td><td>S</td></tr>\n",
              "\t<tr><th scope=row>4</th><td> 4</td><td>1</td><td>1</td><td>Futrelle, Mrs. Jacques Heath (Lily May Peel)           </td><td>0</td><td>35.0</td><td>1</td><td>0</td><td>113803       </td><td>53.1000</td><td>C123</td><td>S</td></tr>\n",
              "\t<tr><th scope=row>5</th><td> 5</td><td>0</td><td>3</td><td>Allen, Mr. William Henry                               </td><td>1</td><td>35.0</td><td>0</td><td>0</td><td>373450       </td><td> 8.0500</td><td>    </td><td>S</td></tr>\n",
              "\t<tr><th scope=row>7</th><td> 7</td><td>0</td><td>1</td><td>McCarthy, Mr. Timothy J                                </td><td>1</td><td>54.0</td><td>0</td><td>0</td><td>17463        </td><td>51.8625</td><td>E46 </td><td>S</td></tr>\n",
              "\t<tr><th scope=row>8</th><td> 8</td><td>0</td><td>3</td><td>Palsson, Master. Gosta Leonard                         </td><td>1</td><td> 2.0</td><td>3</td><td>1</td><td>349909       </td><td>21.0750</td><td>    </td><td>S</td></tr>\n",
              "\t<tr><th scope=row>10</th><td>10</td><td>1</td><td>2</td><td>Nasser, Mrs. Nicholas (Adele Achem)                    </td><td>0</td><td>14.0</td><td>1</td><td>0</td><td>237736       </td><td>30.0708</td><td>    </td><td>C</td></tr>\n",
              "\t<tr><th scope=row>12</th><td>12</td><td>1</td><td>1</td><td>Bonnell, Miss. Elizabeth                               </td><td>0</td><td>58.0</td><td>0</td><td>0</td><td>113783       </td><td>26.5500</td><td>C103</td><td>S</td></tr>\n",
              "\t<tr><th scope=row>14</th><td>14</td><td>0</td><td>3</td><td>Andersson, Mr. Anders Johan                            </td><td>1</td><td>39.0</td><td>1</td><td>5</td><td>347082       </td><td>31.2750</td><td>    </td><td>S</td></tr>\n",
              "\t<tr><th scope=row>24</th><td>24</td><td>1</td><td>1</td><td>Sloper, Mr. William Thompson                           </td><td>1</td><td>28.0</td><td>0</td><td>0</td><td>113788       </td><td>35.5000</td><td>A6  </td><td>S</td></tr>\n",
              "\t<tr><th scope=row>38</th><td>38</td><td>0</td><td>3</td><td>Cann, Mr. Ernest Charles                               </td><td>1</td><td>21.0</td><td>0</td><td>0</td><td>A./5. 2152   </td><td> 8.0500</td><td>    </td><td>S</td></tr>\n",
              "\t<tr><th scope=row>41</th><td>41</td><td>0</td><td>3</td><td>Ahlin, Mrs. Johan (Johanna Persdotter Larsson)         </td><td>0</td><td>40.0</td><td>1</td><td>0</td><td>7546         </td><td> 9.4750</td><td>    </td><td>S</td></tr>\n",
              "\t<tr><th scope=row>44</th><td>44</td><td>1</td><td>2</td><td>Laroche, Miss. Simonne Marie Anne Andree               </td><td>0</td><td> 3.0</td><td>1</td><td>2</td><td>SC/Paris 2123</td><td>41.5792</td><td>    </td><td>C</td></tr>\n",
              "\t<tr><th scope=row>50</th><td>50</td><td>0</td><td>3</td><td>Arnold-Franchi, Mrs. Josef (Josefine Franchi)          </td><td>0</td><td>18.0</td><td>1</td><td>0</td><td>349237       </td><td>17.8000</td><td>    </td><td>S</td></tr>\n",
              "\t<tr><th scope=row>52</th><td>52</td><td>0</td><td>3</td><td>Nosworthy, Mr. Richard Cater                           </td><td>1</td><td>21.0</td><td>0</td><td>0</td><td>A/4. 39886   </td><td> 7.8000</td><td>    </td><td>S</td></tr>\n",
              "\t<tr><th scope=row>53</th><td>53</td><td>1</td><td>1</td><td>Harper, Mrs. Henry Sleeper (Myna Haxtun)               </td><td>0</td><td>49.0</td><td>1</td><td>0</td><td>PC 17572     </td><td>76.7292</td><td>D33 </td><td>C</td></tr>\n",
              "\t<tr><th scope=row>58</th><td>58</td><td>0</td><td>3</td><td>Novel, Mr. Mansouer                                    </td><td>1</td><td>28.5</td><td>0</td><td>0</td><td>2697         </td><td> 7.2292</td><td>    </td><td>C</td></tr>\n",
              "\t<tr><th scope=row>59</th><td>59</td><td>1</td><td>2</td><td>West, Miss. Constance Mirium                           </td><td>0</td><td> 5.0</td><td>1</td><td>2</td><td>C.A. 34651   </td><td>27.7500</td><td>    </td><td>S</td></tr>\n",
              "\t<tr><th scope=row>63</th><td>63</td><td>0</td><td>1</td><td>Harris, Mr. Henry Birkhardt                            </td><td>1</td><td>45.0</td><td>1</td><td>0</td><td>36973        </td><td>83.4750</td><td>C83 </td><td>S</td></tr>\n",
              "\t<tr><th scope=row>67</th><td>67</td><td>1</td><td>2</td><td>Nye, Mrs. (Elizabeth Ramell)                           </td><td>0</td><td>29.0</td><td>0</td><td>0</td><td>C.A. 29395   </td><td>10.5000</td><td>F33 </td><td>S</td></tr>\n",
              "\t<tr><th scope=row>68</th><td>68</td><td>0</td><td>3</td><td>Crease, Mr. Ernest James                               </td><td>1</td><td>19.0</td><td>0</td><td>0</td><td>S.P. 3464    </td><td> 8.1583</td><td>    </td><td>S</td></tr>\n",
              "\t<tr><th scope=row>69</th><td>69</td><td>1</td><td>3</td><td>Andersson, Miss. Erna Alexandra                        </td><td>0</td><td>17.0</td><td>4</td><td>2</td><td>3101281      </td><td> 7.9250</td><td>    </td><td>S</td></tr>\n",
              "\t<tr><th scope=row>72</th><td>72</td><td>0</td><td>3</td><td>Goodwin, Miss. Lillian Amy                             </td><td>0</td><td>16.0</td><td>5</td><td>2</td><td>CA 2144      </td><td>46.9000</td><td>    </td><td>S</td></tr>\n",
              "\t<tr><th scope=row>75</th><td>75</td><td>1</td><td>3</td><td>Bing, Mr. Lee                                          </td><td>1</td><td>32.0</td><td>0</td><td>0</td><td>1601         </td><td>56.4958</td><td>    </td><td>S</td></tr>\n",
              "\t<tr><th scope=row>84</th><td>84</td><td>0</td><td>1</td><td>Carrau, Mr. Francisco M                                </td><td>1</td><td>28.0</td><td>0</td><td>0</td><td>113059       </td><td>47.1000</td><td>    </td><td>S</td></tr>\n",
              "\t<tr><th scope=row>85</th><td>85</td><td>1</td><td>2</td><td>Ilett, Miss. Bertha                                    </td><td>0</td><td>17.0</td><td>0</td><td>0</td><td>SO/C 14885   </td><td>10.5000</td><td>    </td><td>S</td></tr>\n",
              "\t<tr><th scope=row>86</th><td>86</td><td>1</td><td>3</td><td>Backstrom, Mrs. Karl Alfred (Maria Mathilda Gustafsson)</td><td>0</td><td>33.0</td><td>3</td><td>0</td><td>3101278      </td><td>15.8500</td><td>    </td><td>S</td></tr>\n",
              "\t<tr><th scope=row>90</th><td>90</td><td>0</td><td>3</td><td>Celotti, Mr. Francesco                                 </td><td>1</td><td>24.0</td><td>0</td><td>0</td><td>343275       </td><td> 8.0500</td><td>    </td><td>S</td></tr>\n",
              "\t<tr><th scope=row>91</th><td>91</td><td>0</td><td>3</td><td>Christmann, Mr. Emil                                   </td><td>1</td><td>29.0</td><td>0</td><td>0</td><td>343276       </td><td> 8.0500</td><td>    </td><td>S</td></tr>\n",
              "\t<tr><th scope=row>92</th><td>92</td><td>0</td><td>3</td><td>Andreasson, Mr. Paul Edvin                             </td><td>1</td><td>20.0</td><td>0</td><td>0</td><td>347466       </td><td> 7.8542</td><td>    </td><td>S</td></tr>\n",
              "\t<tr><th scope=row>93</th><td>93</td><td>0</td><td>1</td><td>Chaffee, Mr. Herbert Fuller                            </td><td>1</td><td>46.0</td><td>1</td><td>0</td><td>W.E.P. 5734  </td><td>61.1750</td><td>E31 </td><td>S</td></tr>\n",
              "\t<tr><th scope=row>⋮</th><td>⋮</td><td>⋮</td><td>⋮</td><td>⋮</td><td>⋮</td><td>⋮</td><td>⋮</td><td>⋮</td><td>⋮</td><td>⋮</td><td>⋮</td><td>⋮</td></tr>\n",
              "\t<tr><th scope=row>776</th><td>776</td><td>0</td><td>3</td><td>Myhrman, Mr. Pehr Fabian Oliver Malkolm             </td><td>1</td><td>18.00</td><td>0</td><td>0</td><td>347078          </td><td> 7.7500</td><td>    </td><td>S</td></tr>\n",
              "\t<tr><th scope=row>783</th><td>783</td><td>0</td><td>1</td><td>Long, Mr. Milton Clyde                              </td><td>1</td><td>29.00</td><td>0</td><td>0</td><td>113501          </td><td>30.0000</td><td>D6  </td><td>S</td></tr>\n",
              "\t<tr><th scope=row>787</th><td>787</td><td>1</td><td>3</td><td>Sjoblom, Miss. Anna Sofia                           </td><td>0</td><td>18.00</td><td>0</td><td>0</td><td>3101265         </td><td> 7.4958</td><td>    </td><td>S</td></tr>\n",
              "\t<tr><th scope=row>789</th><td>789</td><td>1</td><td>3</td><td>Dean, Master. Bertram Vere                          </td><td>1</td><td> 1.00</td><td>1</td><td>2</td><td>C.A. 2315       </td><td>20.5750</td><td>    </td><td>S</td></tr>\n",
              "\t<tr><th scope=row>796</th><td>796</td><td>0</td><td>2</td><td>Otter, Mr. Richard                                  </td><td>1</td><td>39.00</td><td>0</td><td>0</td><td>28213           </td><td>13.0000</td><td>    </td><td>S</td></tr>\n",
              "\t<tr><th scope=row>800</th><td>800</td><td>0</td><td>3</td><td>Van Impe, Mrs. Jean Baptiste (Rosalie Paula Govaert)</td><td>0</td><td>30.00</td><td>1</td><td>1</td><td>345773          </td><td>24.1500</td><td>    </td><td>S</td></tr>\n",
              "\t<tr><th scope=row>801</th><td>801</td><td>0</td><td>2</td><td>Ponesell, Mr. Martin                                </td><td>1</td><td>34.00</td><td>0</td><td>0</td><td>250647          </td><td>13.0000</td><td>    </td><td>S</td></tr>\n",
              "\t<tr><th scope=row>810</th><td>810</td><td>1</td><td>1</td><td>Chambers, Mrs. Norman Campbell (Bertha Griggs)      </td><td>0</td><td>33.00</td><td>1</td><td>0</td><td>113806          </td><td>53.1000</td><td>E8  </td><td>S</td></tr>\n",
              "\t<tr><th scope=row>814</th><td>814</td><td>0</td><td>3</td><td>Andersson, Miss. Ebba Iris Alfrida                  </td><td>0</td><td> 6.00</td><td>4</td><td>2</td><td>347082          </td><td>31.2750</td><td>    </td><td>S</td></tr>\n",
              "\t<tr><th scope=row>818</th><td>818</td><td>0</td><td>2</td><td>Mallet, Mr. Albert                                  </td><td>1</td><td>31.00</td><td>1</td><td>1</td><td>S.C./PARIS 2079 </td><td>37.0042</td><td>    </td><td>C</td></tr>\n",
              "\t<tr><th scope=row>819</th><td>819</td><td>0</td><td>3</td><td>Holm, Mr. John Fredrik Alexander                    </td><td>1</td><td>43.00</td><td>0</td><td>0</td><td>C 7075          </td><td> 6.4500</td><td>    </td><td>S</td></tr>\n",
              "\t<tr><th scope=row>820</th><td>820</td><td>0</td><td>3</td><td>Skoog, Master. Karl Thorsten                        </td><td>1</td><td>10.00</td><td>3</td><td>2</td><td>347088          </td><td>27.9000</td><td>    </td><td>S</td></tr>\n",
              "\t<tr><th scope=row>821</th><td>821</td><td>1</td><td>1</td><td>Hays, Mrs. Charles Melville (Clara Jennings Gregg)  </td><td>0</td><td>52.00</td><td>1</td><td>1</td><td>12749           </td><td>93.5000</td><td>B69 </td><td>S</td></tr>\n",
              "\t<tr><th scope=row>828</th><td>828</td><td>1</td><td>2</td><td>Mallet, Master. Andre                               </td><td>1</td><td> 1.00</td><td>0</td><td>2</td><td>S.C./PARIS 2079 </td><td>37.0042</td><td>    </td><td>C</td></tr>\n",
              "\t<tr><th scope=row>830</th><td>830</td><td>1</td><td>1</td><td>Stone, Mrs. George Nelson (Martha Evelyn)           </td><td>0</td><td>62.00</td><td>0</td><td>0</td><td>113572          </td><td>80.0000</td><td>B28 </td><td> </td></tr>\n",
              "\t<tr><th scope=row>832</th><td>832</td><td>1</td><td>2</td><td>Richards, Master. George Sibley                     </td><td>1</td><td> 0.83</td><td>1</td><td>1</td><td>29106           </td><td>18.7500</td><td>    </td><td>S</td></tr>\n",
              "\t<tr><th scope=row>837</th><td>837</td><td>0</td><td>3</td><td>Pasic, Mr. Jakob                                    </td><td>1</td><td>21.00</td><td>0</td><td>0</td><td>315097          </td><td> 8.6625</td><td>    </td><td>S</td></tr>\n",
              "\t<tr><th scope=row>841</th><td>841</td><td>0</td><td>3</td><td>Alhomaki, Mr. Ilmari Rudolf                         </td><td>1</td><td>20.00</td><td>0</td><td>0</td><td>SOTON/O2 3101287</td><td> 7.9250</td><td>    </td><td>S</td></tr>\n",
              "\t<tr><th scope=row>842</th><td>842</td><td>0</td><td>2</td><td>Mudd, Mr. Thomas Charles                            </td><td>1</td><td>16.00</td><td>0</td><td>0</td><td>S.O./P.P. 3     </td><td>10.5000</td><td>    </td><td>S</td></tr>\n",
              "\t<tr><th scope=row>846</th><td>846</td><td>0</td><td>3</td><td>Abbing, Mr. Anthony                                 </td><td>1</td><td>42.00</td><td>0</td><td>0</td><td>C.A. 5547       </td><td> 7.5500</td><td>    </td><td>S</td></tr>\n",
              "\t<tr><th scope=row>851</th><td>851</td><td>0</td><td>3</td><td>Andersson, Master. Sigvard Harald Elias             </td><td>1</td><td> 4.00</td><td>4</td><td>2</td><td>347082          </td><td>31.2750</td><td>    </td><td>S</td></tr>\n",
              "\t<tr><th scope=row>852</th><td>852</td><td>0</td><td>3</td><td>Svensson, Mr. Johan                                 </td><td>1</td><td>74.00</td><td>0</td><td>0</td><td>347060          </td><td> 7.7750</td><td>    </td><td>S</td></tr>\n",
              "\t<tr><th scope=row>855</th><td>855</td><td>0</td><td>2</td><td>Carter, Mrs. Ernest Courtenay (Lilian Hughes)       </td><td>0</td><td>44.00</td><td>1</td><td>0</td><td>244252          </td><td>26.0000</td><td>    </td><td>S</td></tr>\n",
              "\t<tr><th scope=row>865</th><td>865</td><td>0</td><td>2</td><td>Gill, Mr. John William                              </td><td>1</td><td>24.00</td><td>0</td><td>0</td><td>233866          </td><td>13.0000</td><td>    </td><td>S</td></tr>\n",
              "\t<tr><th scope=row>871</th><td>871</td><td>0</td><td>3</td><td>Balkic, Mr. Cerin                                   </td><td>1</td><td>26.00</td><td>0</td><td>0</td><td>349248          </td><td> 7.8958</td><td>    </td><td>S</td></tr>\n",
              "\t<tr><th scope=row>872</th><td>872</td><td>1</td><td>1</td><td>Beckwith, Mrs. Richard Leonard (Sallie Monypeny)    </td><td>0</td><td>47.00</td><td>1</td><td>1</td><td>11751           </td><td>52.5542</td><td>D35 </td><td>S</td></tr>\n",
              "\t<tr><th scope=row>876</th><td>876</td><td>1</td><td>3</td><td>Najib, Miss. Adele Kiamie \"Jane\"                    </td><td>0</td><td>15.00</td><td>0</td><td>0</td><td>2667            </td><td> 7.2250</td><td>    </td><td>C</td></tr>\n",
              "\t<tr><th scope=row>881</th><td>881</td><td>1</td><td>2</td><td>Shelley, Mrs. William (Imanita Parrish Hall)        </td><td>0</td><td>25.00</td><td>0</td><td>1</td><td>230433          </td><td>26.0000</td><td>    </td><td>S</td></tr>\n",
              "\t<tr><th scope=row>882</th><td>882</td><td>0</td><td>3</td><td>Markun, Mr. Johann                                  </td><td>1</td><td>33.00</td><td>0</td><td>0</td><td>349257          </td><td> 7.8958</td><td>    </td><td>S</td></tr>\n",
              "\t<tr><th scope=row>890</th><td>890</td><td>1</td><td>1</td><td>Behr, Mr. Karl Howell                               </td><td>1</td><td>26.00</td><td>0</td><td>0</td><td>111369          </td><td>30.0000</td><td>C148</td><td>C</td></tr>\n",
              "</tbody>\n",
              "</table>\n"
            ],
            "text/markdown": "\nA data.frame: 215 × 12\n\n| <!--/--> | PassengerId &lt;int&gt; | Survived &lt;int&gt; | Pclass &lt;int&gt; | Name &lt;chr&gt; | Sex &lt;fct&gt; | Age &lt;dbl&gt; | SibSp &lt;int&gt; | Parch &lt;int&gt; | Ticket &lt;chr&gt; | Fare &lt;dbl&gt; | Cabin &lt;chr&gt; | Embarked &lt;chr&gt; |\n|---|---|---|---|---|---|---|---|---|---|---|---|---|\n| 1 |  1 | 0 | 3 | Braund, Mr. Owen Harris                                 | 1 | 22.0 | 1 | 0 | A/5 21171     |  7.2500 | <!----> | S |\n| 4 |  4 | 1 | 1 | Futrelle, Mrs. Jacques Heath (Lily May Peel)            | 0 | 35.0 | 1 | 0 | 113803        | 53.1000 | C123 | S |\n| 5 |  5 | 0 | 3 | Allen, Mr. William Henry                                | 1 | 35.0 | 0 | 0 | 373450        |  8.0500 | <!----> | S |\n| 7 |  7 | 0 | 1 | McCarthy, Mr. Timothy J                                 | 1 | 54.0 | 0 | 0 | 17463         | 51.8625 | E46  | S |\n| 8 |  8 | 0 | 3 | Palsson, Master. Gosta Leonard                          | 1 |  2.0 | 3 | 1 | 349909        | 21.0750 | <!----> | S |\n| 10 | 10 | 1 | 2 | Nasser, Mrs. Nicholas (Adele Achem)                     | 0 | 14.0 | 1 | 0 | 237736        | 30.0708 | <!----> | C |\n| 12 | 12 | 1 | 1 | Bonnell, Miss. Elizabeth                                | 0 | 58.0 | 0 | 0 | 113783        | 26.5500 | C103 | S |\n| 14 | 14 | 0 | 3 | Andersson, Mr. Anders Johan                             | 1 | 39.0 | 1 | 5 | 347082        | 31.2750 | <!----> | S |\n| 24 | 24 | 1 | 1 | Sloper, Mr. William Thompson                            | 1 | 28.0 | 0 | 0 | 113788        | 35.5000 | A6   | S |\n| 38 | 38 | 0 | 3 | Cann, Mr. Ernest Charles                                | 1 | 21.0 | 0 | 0 | A./5. 2152    |  8.0500 | <!----> | S |\n| 41 | 41 | 0 | 3 | Ahlin, Mrs. Johan (Johanna Persdotter Larsson)          | 0 | 40.0 | 1 | 0 | 7546          |  9.4750 | <!----> | S |\n| 44 | 44 | 1 | 2 | Laroche, Miss. Simonne Marie Anne Andree                | 0 |  3.0 | 1 | 2 | SC/Paris 2123 | 41.5792 | <!----> | C |\n| 50 | 50 | 0 | 3 | Arnold-Franchi, Mrs. Josef (Josefine Franchi)           | 0 | 18.0 | 1 | 0 | 349237        | 17.8000 | <!----> | S |\n| 52 | 52 | 0 | 3 | Nosworthy, Mr. Richard Cater                            | 1 | 21.0 | 0 | 0 | A/4. 39886    |  7.8000 | <!----> | S |\n| 53 | 53 | 1 | 1 | Harper, Mrs. Henry Sleeper (Myna Haxtun)                | 0 | 49.0 | 1 | 0 | PC 17572      | 76.7292 | D33  | C |\n| 58 | 58 | 0 | 3 | Novel, Mr. Mansouer                                     | 1 | 28.5 | 0 | 0 | 2697          |  7.2292 | <!----> | C |\n| 59 | 59 | 1 | 2 | West, Miss. Constance Mirium                            | 0 |  5.0 | 1 | 2 | C.A. 34651    | 27.7500 | <!----> | S |\n| 63 | 63 | 0 | 1 | Harris, Mr. Henry Birkhardt                             | 1 | 45.0 | 1 | 0 | 36973         | 83.4750 | C83  | S |\n| 67 | 67 | 1 | 2 | Nye, Mrs. (Elizabeth Ramell)                            | 0 | 29.0 | 0 | 0 | C.A. 29395    | 10.5000 | F33  | S |\n| 68 | 68 | 0 | 3 | Crease, Mr. Ernest James                                | 1 | 19.0 | 0 | 0 | S.P. 3464     |  8.1583 | <!----> | S |\n| 69 | 69 | 1 | 3 | Andersson, Miss. Erna Alexandra                         | 0 | 17.0 | 4 | 2 | 3101281       |  7.9250 | <!----> | S |\n| 72 | 72 | 0 | 3 | Goodwin, Miss. Lillian Amy                              | 0 | 16.0 | 5 | 2 | CA 2144       | 46.9000 | <!----> | S |\n| 75 | 75 | 1 | 3 | Bing, Mr. Lee                                           | 1 | 32.0 | 0 | 0 | 1601          | 56.4958 | <!----> | S |\n| 84 | 84 | 0 | 1 | Carrau, Mr. Francisco M                                 | 1 | 28.0 | 0 | 0 | 113059        | 47.1000 | <!----> | S |\n| 85 | 85 | 1 | 2 | Ilett, Miss. Bertha                                     | 0 | 17.0 | 0 | 0 | SO/C 14885    | 10.5000 | <!----> | S |\n| 86 | 86 | 1 | 3 | Backstrom, Mrs. Karl Alfred (Maria Mathilda Gustafsson) | 0 | 33.0 | 3 | 0 | 3101278       | 15.8500 | <!----> | S |\n| 90 | 90 | 0 | 3 | Celotti, Mr. Francesco                                  | 1 | 24.0 | 0 | 0 | 343275        |  8.0500 | <!----> | S |\n| 91 | 91 | 0 | 3 | Christmann, Mr. Emil                                    | 1 | 29.0 | 0 | 0 | 343276        |  8.0500 | <!----> | S |\n| 92 | 92 | 0 | 3 | Andreasson, Mr. Paul Edvin                              | 1 | 20.0 | 0 | 0 | 347466        |  7.8542 | <!----> | S |\n| 93 | 93 | 0 | 1 | Chaffee, Mr. Herbert Fuller                             | 1 | 46.0 | 1 | 0 | W.E.P. 5734   | 61.1750 | E31  | S |\n| ⋮ | ⋮ | ⋮ | ⋮ | ⋮ | ⋮ | ⋮ | ⋮ | ⋮ | ⋮ | ⋮ | ⋮ | ⋮ |\n| 776 | 776 | 0 | 3 | Myhrman, Mr. Pehr Fabian Oliver Malkolm              | 1 | 18.00 | 0 | 0 | 347078           |  7.7500 | <!----> | S |\n| 783 | 783 | 0 | 1 | Long, Mr. Milton Clyde                               | 1 | 29.00 | 0 | 0 | 113501           | 30.0000 | D6   | S |\n| 787 | 787 | 1 | 3 | Sjoblom, Miss. Anna Sofia                            | 0 | 18.00 | 0 | 0 | 3101265          |  7.4958 | <!----> | S |\n| 789 | 789 | 1 | 3 | Dean, Master. Bertram Vere                           | 1 |  1.00 | 1 | 2 | C.A. 2315        | 20.5750 | <!----> | S |\n| 796 | 796 | 0 | 2 | Otter, Mr. Richard                                   | 1 | 39.00 | 0 | 0 | 28213            | 13.0000 | <!----> | S |\n| 800 | 800 | 0 | 3 | Van Impe, Mrs. Jean Baptiste (Rosalie Paula Govaert) | 0 | 30.00 | 1 | 1 | 345773           | 24.1500 | <!----> | S |\n| 801 | 801 | 0 | 2 | Ponesell, Mr. Martin                                 | 1 | 34.00 | 0 | 0 | 250647           | 13.0000 | <!----> | S |\n| 810 | 810 | 1 | 1 | Chambers, Mrs. Norman Campbell (Bertha Griggs)       | 0 | 33.00 | 1 | 0 | 113806           | 53.1000 | E8   | S |\n| 814 | 814 | 0 | 3 | Andersson, Miss. Ebba Iris Alfrida                   | 0 |  6.00 | 4 | 2 | 347082           | 31.2750 | <!----> | S |\n| 818 | 818 | 0 | 2 | Mallet, Mr. Albert                                   | 1 | 31.00 | 1 | 1 | S.C./PARIS 2079  | 37.0042 | <!----> | C |\n| 819 | 819 | 0 | 3 | Holm, Mr. John Fredrik Alexander                     | 1 | 43.00 | 0 | 0 | C 7075           |  6.4500 | <!----> | S |\n| 820 | 820 | 0 | 3 | Skoog, Master. Karl Thorsten                         | 1 | 10.00 | 3 | 2 | 347088           | 27.9000 | <!----> | S |\n| 821 | 821 | 1 | 1 | Hays, Mrs. Charles Melville (Clara Jennings Gregg)   | 0 | 52.00 | 1 | 1 | 12749            | 93.5000 | B69  | S |\n| 828 | 828 | 1 | 2 | Mallet, Master. Andre                                | 1 |  1.00 | 0 | 2 | S.C./PARIS 2079  | 37.0042 | <!----> | C |\n| 830 | 830 | 1 | 1 | Stone, Mrs. George Nelson (Martha Evelyn)            | 0 | 62.00 | 0 | 0 | 113572           | 80.0000 | B28  | <!----> |\n| 832 | 832 | 1 | 2 | Richards, Master. George Sibley                      | 1 |  0.83 | 1 | 1 | 29106            | 18.7500 | <!----> | S |\n| 837 | 837 | 0 | 3 | Pasic, Mr. Jakob                                     | 1 | 21.00 | 0 | 0 | 315097           |  8.6625 | <!----> | S |\n| 841 | 841 | 0 | 3 | Alhomaki, Mr. Ilmari Rudolf                          | 1 | 20.00 | 0 | 0 | SOTON/O2 3101287 |  7.9250 | <!----> | S |\n| 842 | 842 | 0 | 2 | Mudd, Mr. Thomas Charles                             | 1 | 16.00 | 0 | 0 | S.O./P.P. 3      | 10.5000 | <!----> | S |\n| 846 | 846 | 0 | 3 | Abbing, Mr. Anthony                                  | 1 | 42.00 | 0 | 0 | C.A. 5547        |  7.5500 | <!----> | S |\n| 851 | 851 | 0 | 3 | Andersson, Master. Sigvard Harald Elias              | 1 |  4.00 | 4 | 2 | 347082           | 31.2750 | <!----> | S |\n| 852 | 852 | 0 | 3 | Svensson, Mr. Johan                                  | 1 | 74.00 | 0 | 0 | 347060           |  7.7750 | <!----> | S |\n| 855 | 855 | 0 | 2 | Carter, Mrs. Ernest Courtenay (Lilian Hughes)        | 0 | 44.00 | 1 | 0 | 244252           | 26.0000 | <!----> | S |\n| 865 | 865 | 0 | 2 | Gill, Mr. John William                               | 1 | 24.00 | 0 | 0 | 233866           | 13.0000 | <!----> | S |\n| 871 | 871 | 0 | 3 | Balkic, Mr. Cerin                                    | 1 | 26.00 | 0 | 0 | 349248           |  7.8958 | <!----> | S |\n| 872 | 872 | 1 | 1 | Beckwith, Mrs. Richard Leonard (Sallie Monypeny)     | 0 | 47.00 | 1 | 1 | 11751            | 52.5542 | D35  | S |\n| 876 | 876 | 1 | 3 | Najib, Miss. Adele Kiamie \"Jane\"                     | 0 | 15.00 | 0 | 0 | 2667             |  7.2250 | <!----> | C |\n| 881 | 881 | 1 | 2 | Shelley, Mrs. William (Imanita Parrish Hall)         | 0 | 25.00 | 0 | 1 | 230433           | 26.0000 | <!----> | S |\n| 882 | 882 | 0 | 3 | Markun, Mr. Johann                                   | 1 | 33.00 | 0 | 0 | 349257           |  7.8958 | <!----> | S |\n| 890 | 890 | 1 | 1 | Behr, Mr. Karl Howell                                | 1 | 26.00 | 0 | 0 | 111369           | 30.0000 | C148 | C |\n\n",
            "text/latex": "A data.frame: 215 × 12\n\\begin{tabular}{r|llllllllllll}\n  & PassengerId & Survived & Pclass & Name & Sex & Age & SibSp & Parch & Ticket & Fare & Cabin & Embarked\\\\\n  & <int> & <int> & <int> & <chr> & <fct> & <dbl> & <int> & <int> & <chr> & <dbl> & <chr> & <chr>\\\\\n\\hline\n\t1 &  1 & 0 & 3 & Braund, Mr. Owen Harris                                 & 1 & 22.0 & 1 & 0 & A/5 21171     &  7.2500 &      & S\\\\\n\t4 &  4 & 1 & 1 & Futrelle, Mrs. Jacques Heath (Lily May Peel)            & 0 & 35.0 & 1 & 0 & 113803        & 53.1000 & C123 & S\\\\\n\t5 &  5 & 0 & 3 & Allen, Mr. William Henry                                & 1 & 35.0 & 0 & 0 & 373450        &  8.0500 &      & S\\\\\n\t7 &  7 & 0 & 1 & McCarthy, Mr. Timothy J                                 & 1 & 54.0 & 0 & 0 & 17463         & 51.8625 & E46  & S\\\\\n\t8 &  8 & 0 & 3 & Palsson, Master. Gosta Leonard                          & 1 &  2.0 & 3 & 1 & 349909        & 21.0750 &      & S\\\\\n\t10 & 10 & 1 & 2 & Nasser, Mrs. Nicholas (Adele Achem)                     & 0 & 14.0 & 1 & 0 & 237736        & 30.0708 &      & C\\\\\n\t12 & 12 & 1 & 1 & Bonnell, Miss. Elizabeth                                & 0 & 58.0 & 0 & 0 & 113783        & 26.5500 & C103 & S\\\\\n\t14 & 14 & 0 & 3 & Andersson, Mr. Anders Johan                             & 1 & 39.0 & 1 & 5 & 347082        & 31.2750 &      & S\\\\\n\t24 & 24 & 1 & 1 & Sloper, Mr. William Thompson                            & 1 & 28.0 & 0 & 0 & 113788        & 35.5000 & A6   & S\\\\\n\t38 & 38 & 0 & 3 & Cann, Mr. Ernest Charles                                & 1 & 21.0 & 0 & 0 & A./5. 2152    &  8.0500 &      & S\\\\\n\t41 & 41 & 0 & 3 & Ahlin, Mrs. Johan (Johanna Persdotter Larsson)          & 0 & 40.0 & 1 & 0 & 7546          &  9.4750 &      & S\\\\\n\t44 & 44 & 1 & 2 & Laroche, Miss. Simonne Marie Anne Andree                & 0 &  3.0 & 1 & 2 & SC/Paris 2123 & 41.5792 &      & C\\\\\n\t50 & 50 & 0 & 3 & Arnold-Franchi, Mrs. Josef (Josefine Franchi)           & 0 & 18.0 & 1 & 0 & 349237        & 17.8000 &      & S\\\\\n\t52 & 52 & 0 & 3 & Nosworthy, Mr. Richard Cater                            & 1 & 21.0 & 0 & 0 & A/4. 39886    &  7.8000 &      & S\\\\\n\t53 & 53 & 1 & 1 & Harper, Mrs. Henry Sleeper (Myna Haxtun)                & 0 & 49.0 & 1 & 0 & PC 17572      & 76.7292 & D33  & C\\\\\n\t58 & 58 & 0 & 3 & Novel, Mr. Mansouer                                     & 1 & 28.5 & 0 & 0 & 2697          &  7.2292 &      & C\\\\\n\t59 & 59 & 1 & 2 & West, Miss. Constance Mirium                            & 0 &  5.0 & 1 & 2 & C.A. 34651    & 27.7500 &      & S\\\\\n\t63 & 63 & 0 & 1 & Harris, Mr. Henry Birkhardt                             & 1 & 45.0 & 1 & 0 & 36973         & 83.4750 & C83  & S\\\\\n\t67 & 67 & 1 & 2 & Nye, Mrs. (Elizabeth Ramell)                            & 0 & 29.0 & 0 & 0 & C.A. 29395    & 10.5000 & F33  & S\\\\\n\t68 & 68 & 0 & 3 & Crease, Mr. Ernest James                                & 1 & 19.0 & 0 & 0 & S.P. 3464     &  8.1583 &      & S\\\\\n\t69 & 69 & 1 & 3 & Andersson, Miss. Erna Alexandra                         & 0 & 17.0 & 4 & 2 & 3101281       &  7.9250 &      & S\\\\\n\t72 & 72 & 0 & 3 & Goodwin, Miss. Lillian Amy                              & 0 & 16.0 & 5 & 2 & CA 2144       & 46.9000 &      & S\\\\\n\t75 & 75 & 1 & 3 & Bing, Mr. Lee                                           & 1 & 32.0 & 0 & 0 & 1601          & 56.4958 &      & S\\\\\n\t84 & 84 & 0 & 1 & Carrau, Mr. Francisco M                                 & 1 & 28.0 & 0 & 0 & 113059        & 47.1000 &      & S\\\\\n\t85 & 85 & 1 & 2 & Ilett, Miss. Bertha                                     & 0 & 17.0 & 0 & 0 & SO/C 14885    & 10.5000 &      & S\\\\\n\t86 & 86 & 1 & 3 & Backstrom, Mrs. Karl Alfred (Maria Mathilda Gustafsson) & 0 & 33.0 & 3 & 0 & 3101278       & 15.8500 &      & S\\\\\n\t90 & 90 & 0 & 3 & Celotti, Mr. Francesco                                  & 1 & 24.0 & 0 & 0 & 343275        &  8.0500 &      & S\\\\\n\t91 & 91 & 0 & 3 & Christmann, Mr. Emil                                    & 1 & 29.0 & 0 & 0 & 343276        &  8.0500 &      & S\\\\\n\t92 & 92 & 0 & 3 & Andreasson, Mr. Paul Edvin                              & 1 & 20.0 & 0 & 0 & 347466        &  7.8542 &      & S\\\\\n\t93 & 93 & 0 & 1 & Chaffee, Mr. Herbert Fuller                             & 1 & 46.0 & 1 & 0 & W.E.P. 5734   & 61.1750 & E31  & S\\\\\n\t⋮ & ⋮ & ⋮ & ⋮ & ⋮ & ⋮ & ⋮ & ⋮ & ⋮ & ⋮ & ⋮ & ⋮ & ⋮\\\\\n\t776 & 776 & 0 & 3 & Myhrman, Mr. Pehr Fabian Oliver Malkolm              & 1 & 18.00 & 0 & 0 & 347078           &  7.7500 &      & S\\\\\n\t783 & 783 & 0 & 1 & Long, Mr. Milton Clyde                               & 1 & 29.00 & 0 & 0 & 113501           & 30.0000 & D6   & S\\\\\n\t787 & 787 & 1 & 3 & Sjoblom, Miss. Anna Sofia                            & 0 & 18.00 & 0 & 0 & 3101265          &  7.4958 &      & S\\\\\n\t789 & 789 & 1 & 3 & Dean, Master. Bertram Vere                           & 1 &  1.00 & 1 & 2 & C.A. 2315        & 20.5750 &      & S\\\\\n\t796 & 796 & 0 & 2 & Otter, Mr. Richard                                   & 1 & 39.00 & 0 & 0 & 28213            & 13.0000 &      & S\\\\\n\t800 & 800 & 0 & 3 & Van Impe, Mrs. Jean Baptiste (Rosalie Paula Govaert) & 0 & 30.00 & 1 & 1 & 345773           & 24.1500 &      & S\\\\\n\t801 & 801 & 0 & 2 & Ponesell, Mr. Martin                                 & 1 & 34.00 & 0 & 0 & 250647           & 13.0000 &      & S\\\\\n\t810 & 810 & 1 & 1 & Chambers, Mrs. Norman Campbell (Bertha Griggs)       & 0 & 33.00 & 1 & 0 & 113806           & 53.1000 & E8   & S\\\\\n\t814 & 814 & 0 & 3 & Andersson, Miss. Ebba Iris Alfrida                   & 0 &  6.00 & 4 & 2 & 347082           & 31.2750 &      & S\\\\\n\t818 & 818 & 0 & 2 & Mallet, Mr. Albert                                   & 1 & 31.00 & 1 & 1 & S.C./PARIS 2079  & 37.0042 &      & C\\\\\n\t819 & 819 & 0 & 3 & Holm, Mr. John Fredrik Alexander                     & 1 & 43.00 & 0 & 0 & C 7075           &  6.4500 &      & S\\\\\n\t820 & 820 & 0 & 3 & Skoog, Master. Karl Thorsten                         & 1 & 10.00 & 3 & 2 & 347088           & 27.9000 &      & S\\\\\n\t821 & 821 & 1 & 1 & Hays, Mrs. Charles Melville (Clara Jennings Gregg)   & 0 & 52.00 & 1 & 1 & 12749            & 93.5000 & B69  & S\\\\\n\t828 & 828 & 1 & 2 & Mallet, Master. Andre                                & 1 &  1.00 & 0 & 2 & S.C./PARIS 2079  & 37.0042 &      & C\\\\\n\t830 & 830 & 1 & 1 & Stone, Mrs. George Nelson (Martha Evelyn)            & 0 & 62.00 & 0 & 0 & 113572           & 80.0000 & B28  &  \\\\\n\t832 & 832 & 1 & 2 & Richards, Master. George Sibley                      & 1 &  0.83 & 1 & 1 & 29106            & 18.7500 &      & S\\\\\n\t837 & 837 & 0 & 3 & Pasic, Mr. Jakob                                     & 1 & 21.00 & 0 & 0 & 315097           &  8.6625 &      & S\\\\\n\t841 & 841 & 0 & 3 & Alhomaki, Mr. Ilmari Rudolf                          & 1 & 20.00 & 0 & 0 & SOTON/O2 3101287 &  7.9250 &      & S\\\\\n\t842 & 842 & 0 & 2 & Mudd, Mr. Thomas Charles                             & 1 & 16.00 & 0 & 0 & S.O./P.P. 3      & 10.5000 &      & S\\\\\n\t846 & 846 & 0 & 3 & Abbing, Mr. Anthony                                  & 1 & 42.00 & 0 & 0 & C.A. 5547        &  7.5500 &      & S\\\\\n\t851 & 851 & 0 & 3 & Andersson, Master. Sigvard Harald Elias              & 1 &  4.00 & 4 & 2 & 347082           & 31.2750 &      & S\\\\\n\t852 & 852 & 0 & 3 & Svensson, Mr. Johan                                  & 1 & 74.00 & 0 & 0 & 347060           &  7.7750 &      & S\\\\\n\t855 & 855 & 0 & 2 & Carter, Mrs. Ernest Courtenay (Lilian Hughes)        & 0 & 44.00 & 1 & 0 & 244252           & 26.0000 &      & S\\\\\n\t865 & 865 & 0 & 2 & Gill, Mr. John William                               & 1 & 24.00 & 0 & 0 & 233866           & 13.0000 &      & S\\\\\n\t871 & 871 & 0 & 3 & Balkic, Mr. Cerin                                    & 1 & 26.00 & 0 & 0 & 349248           &  7.8958 &      & S\\\\\n\t872 & 872 & 1 & 1 & Beckwith, Mrs. Richard Leonard (Sallie Monypeny)     & 0 & 47.00 & 1 & 1 & 11751            & 52.5542 & D35  & S\\\\\n\t876 & 876 & 1 & 3 & Najib, Miss. Adele Kiamie \"Jane\"                     & 0 & 15.00 & 0 & 0 & 2667             &  7.2250 &      & C\\\\\n\t881 & 881 & 1 & 2 & Shelley, Mrs. William (Imanita Parrish Hall)         & 0 & 25.00 & 0 & 1 & 230433           & 26.0000 &      & S\\\\\n\t882 & 882 & 0 & 3 & Markun, Mr. Johann                                   & 1 & 33.00 & 0 & 0 & 349257           &  7.8958 &      & S\\\\\n\t890 & 890 & 1 & 1 & Behr, Mr. Karl Howell                                & 1 & 26.00 & 0 & 0 & 111369           & 30.0000 & C148 & C\\\\\n\\end{tabular}\n",
            "text/plain": [
              "    PassengerId Survived Pclass\n",
              "1    1          0        3     \n",
              "4    4          1        1     \n",
              "5    5          0        3     \n",
              "7    7          0        1     \n",
              "8    8          0        3     \n",
              "10  10          1        2     \n",
              "12  12          1        1     \n",
              "14  14          0        3     \n",
              "24  24          1        1     \n",
              "38  38          0        3     \n",
              "41  41          0        3     \n",
              "44  44          1        2     \n",
              "50  50          0        3     \n",
              "52  52          0        3     \n",
              "53  53          1        1     \n",
              "58  58          0        3     \n",
              "59  59          1        2     \n",
              "63  63          0        1     \n",
              "67  67          1        2     \n",
              "68  68          0        3     \n",
              "69  69          1        3     \n",
              "72  72          0        3     \n",
              "75  75          1        3     \n",
              "84  84          0        1     \n",
              "85  85          1        2     \n",
              "86  86          1        3     \n",
              "90  90          0        3     \n",
              "91  91          0        3     \n",
              "92  92          0        3     \n",
              "93  93          0        1     \n",
              "⋮   ⋮           ⋮        ⋮     \n",
              "776 776         0        3     \n",
              "783 783         0        1     \n",
              "787 787         1        3     \n",
              "789 789         1        3     \n",
              "796 796         0        2     \n",
              "800 800         0        3     \n",
              "801 801         0        2     \n",
              "810 810         1        1     \n",
              "814 814         0        3     \n",
              "818 818         0        2     \n",
              "819 819         0        3     \n",
              "820 820         0        3     \n",
              "821 821         1        1     \n",
              "828 828         1        2     \n",
              "830 830         1        1     \n",
              "832 832         1        2     \n",
              "837 837         0        3     \n",
              "841 841         0        3     \n",
              "842 842         0        2     \n",
              "846 846         0        3     \n",
              "851 851         0        3     \n",
              "852 852         0        3     \n",
              "855 855         0        2     \n",
              "865 865         0        2     \n",
              "871 871         0        3     \n",
              "872 872         1        1     \n",
              "876 876         1        3     \n",
              "881 881         1        2     \n",
              "882 882         0        3     \n",
              "890 890         1        1     \n",
              "    Name                                                    Sex Age   SibSp\n",
              "1   Braund, Mr. Owen Harris                                 1   22.0  1    \n",
              "4   Futrelle, Mrs. Jacques Heath (Lily May Peel)            0   35.0  1    \n",
              "5   Allen, Mr. William Henry                                1   35.0  0    \n",
              "7   McCarthy, Mr. Timothy J                                 1   54.0  0    \n",
              "8   Palsson, Master. Gosta Leonard                          1    2.0  3    \n",
              "10  Nasser, Mrs. Nicholas (Adele Achem)                     0   14.0  1    \n",
              "12  Bonnell, Miss. Elizabeth                                0   58.0  0    \n",
              "14  Andersson, Mr. Anders Johan                             1   39.0  1    \n",
              "24  Sloper, Mr. William Thompson                            1   28.0  0    \n",
              "38  Cann, Mr. Ernest Charles                                1   21.0  0    \n",
              "41  Ahlin, Mrs. Johan (Johanna Persdotter Larsson)          0   40.0  1    \n",
              "44  Laroche, Miss. Simonne Marie Anne Andree                0    3.0  1    \n",
              "50  Arnold-Franchi, Mrs. Josef (Josefine Franchi)           0   18.0  1    \n",
              "52  Nosworthy, Mr. Richard Cater                            1   21.0  0    \n",
              "53  Harper, Mrs. Henry Sleeper (Myna Haxtun)                0   49.0  1    \n",
              "58  Novel, Mr. Mansouer                                     1   28.5  0    \n",
              "59  West, Miss. Constance Mirium                            0    5.0  1    \n",
              "63  Harris, Mr. Henry Birkhardt                             1   45.0  1    \n",
              "67  Nye, Mrs. (Elizabeth Ramell)                            0   29.0  0    \n",
              "68  Crease, Mr. Ernest James                                1   19.0  0    \n",
              "69  Andersson, Miss. Erna Alexandra                         0   17.0  4    \n",
              "72  Goodwin, Miss. Lillian Amy                              0   16.0  5    \n",
              "75  Bing, Mr. Lee                                           1   32.0  0    \n",
              "84  Carrau, Mr. Francisco M                                 1   28.0  0    \n",
              "85  Ilett, Miss. Bertha                                     0   17.0  0    \n",
              "86  Backstrom, Mrs. Karl Alfred (Maria Mathilda Gustafsson) 0   33.0  3    \n",
              "90  Celotti, Mr. Francesco                                  1   24.0  0    \n",
              "91  Christmann, Mr. Emil                                    1   29.0  0    \n",
              "92  Andreasson, Mr. Paul Edvin                              1   20.0  0    \n",
              "93  Chaffee, Mr. Herbert Fuller                             1   46.0  1    \n",
              "⋮   ⋮                                                       ⋮   ⋮     ⋮    \n",
              "776 Myhrman, Mr. Pehr Fabian Oliver Malkolm                 1   18.00 0    \n",
              "783 Long, Mr. Milton Clyde                                  1   29.00 0    \n",
              "787 Sjoblom, Miss. Anna Sofia                               0   18.00 0    \n",
              "789 Dean, Master. Bertram Vere                              1    1.00 1    \n",
              "796 Otter, Mr. Richard                                      1   39.00 0    \n",
              "800 Van Impe, Mrs. Jean Baptiste (Rosalie Paula Govaert)    0   30.00 1    \n",
              "801 Ponesell, Mr. Martin                                    1   34.00 0    \n",
              "810 Chambers, Mrs. Norman Campbell (Bertha Griggs)          0   33.00 1    \n",
              "814 Andersson, Miss. Ebba Iris Alfrida                      0    6.00 4    \n",
              "818 Mallet, Mr. Albert                                      1   31.00 1    \n",
              "819 Holm, Mr. John Fredrik Alexander                        1   43.00 0    \n",
              "820 Skoog, Master. Karl Thorsten                            1   10.00 3    \n",
              "821 Hays, Mrs. Charles Melville (Clara Jennings Gregg)      0   52.00 1    \n",
              "828 Mallet, Master. Andre                                   1    1.00 0    \n",
              "830 Stone, Mrs. George Nelson (Martha Evelyn)               0   62.00 0    \n",
              "832 Richards, Master. George Sibley                         1    0.83 1    \n",
              "837 Pasic, Mr. Jakob                                        1   21.00 0    \n",
              "841 Alhomaki, Mr. Ilmari Rudolf                             1   20.00 0    \n",
              "842 Mudd, Mr. Thomas Charles                                1   16.00 0    \n",
              "846 Abbing, Mr. Anthony                                     1   42.00 0    \n",
              "851 Andersson, Master. Sigvard Harald Elias                 1    4.00 4    \n",
              "852 Svensson, Mr. Johan                                     1   74.00 0    \n",
              "855 Carter, Mrs. Ernest Courtenay (Lilian Hughes)           0   44.00 1    \n",
              "865 Gill, Mr. John William                                  1   24.00 0    \n",
              "871 Balkic, Mr. Cerin                                       1   26.00 0    \n",
              "872 Beckwith, Mrs. Richard Leonard (Sallie Monypeny)        0   47.00 1    \n",
              "876 Najib, Miss. Adele Kiamie \"Jane\"                        0   15.00 0    \n",
              "881 Shelley, Mrs. William (Imanita Parrish Hall)            0   25.00 0    \n",
              "882 Markun, Mr. Johann                                      1   33.00 0    \n",
              "890 Behr, Mr. Karl Howell                                   1   26.00 0    \n",
              "    Parch Ticket           Fare    Cabin Embarked\n",
              "1   0     A/5 21171         7.2500       S       \n",
              "4   0     113803           53.1000 C123  S       \n",
              "5   0     373450            8.0500       S       \n",
              "7   0     17463            51.8625 E46   S       \n",
              "8   1     349909           21.0750       S       \n",
              "10  0     237736           30.0708       C       \n",
              "12  0     113783           26.5500 C103  S       \n",
              "14  5     347082           31.2750       S       \n",
              "24  0     113788           35.5000 A6    S       \n",
              "38  0     A./5. 2152        8.0500       S       \n",
              "41  0     7546              9.4750       S       \n",
              "44  2     SC/Paris 2123    41.5792       C       \n",
              "50  0     349237           17.8000       S       \n",
              "52  0     A/4. 39886        7.8000       S       \n",
              "53  0     PC 17572         76.7292 D33   C       \n",
              "58  0     2697              7.2292       C       \n",
              "59  2     C.A. 34651       27.7500       S       \n",
              "63  0     36973            83.4750 C83   S       \n",
              "67  0     C.A. 29395       10.5000 F33   S       \n",
              "68  0     S.P. 3464         8.1583       S       \n",
              "69  2     3101281           7.9250       S       \n",
              "72  2     CA 2144          46.9000       S       \n",
              "75  0     1601             56.4958       S       \n",
              "84  0     113059           47.1000       S       \n",
              "85  0     SO/C 14885       10.5000       S       \n",
              "86  0     3101278          15.8500       S       \n",
              "90  0     343275            8.0500       S       \n",
              "91  0     343276            8.0500       S       \n",
              "92  0     347466            7.8542       S       \n",
              "93  0     W.E.P. 5734      61.1750 E31   S       \n",
              "⋮   ⋮     ⋮                ⋮       ⋮     ⋮       \n",
              "776 0     347078            7.7500       S       \n",
              "783 0     113501           30.0000 D6    S       \n",
              "787 0     3101265           7.4958       S       \n",
              "789 2     C.A. 2315        20.5750       S       \n",
              "796 0     28213            13.0000       S       \n",
              "800 1     345773           24.1500       S       \n",
              "801 0     250647           13.0000       S       \n",
              "810 0     113806           53.1000 E8    S       \n",
              "814 2     347082           31.2750       S       \n",
              "818 1     S.C./PARIS 2079  37.0042       C       \n",
              "819 0     C 7075            6.4500       S       \n",
              "820 2     347088           27.9000       S       \n",
              "821 1     12749            93.5000 B69   S       \n",
              "828 2     S.C./PARIS 2079  37.0042       C       \n",
              "830 0     113572           80.0000 B28           \n",
              "832 1     29106            18.7500       S       \n",
              "837 0     315097            8.6625       S       \n",
              "841 0     SOTON/O2 3101287  7.9250       S       \n",
              "842 0     S.O./P.P. 3      10.5000       S       \n",
              "846 0     C.A. 5547         7.5500       S       \n",
              "851 2     347082           31.2750       S       \n",
              "852 0     347060            7.7750       S       \n",
              "855 0     244252           26.0000       S       \n",
              "865 0     233866           13.0000       S       \n",
              "871 0     349248            7.8958       S       \n",
              "872 1     11751            52.5542 D35   S       \n",
              "876 0     2667              7.2250       C       \n",
              "881 1     230433           26.0000       S       \n",
              "882 0     349257            7.8958       S       \n",
              "890 0     111369           30.0000 C148  C       "
            ]
          },
          "metadata": {}
        }
      ]
    },
    {
      "cell_type": "code",
      "source": [
        "nrow(traindata)\n",
        "nrow(testdata)"
      ],
      "metadata": {
        "colab": {
          "base_uri": "https://localhost:8080/",
          "height": 52
        },
        "id": "0_eoUJBGevH-",
        "outputId": "321e406c-3e4d-4245-8a42-b7e42fdb3256"
      },
      "execution_count": null,
      "outputs": [
        {
          "output_type": "display_data",
          "data": {
            "text/html": [
              "499"
            ],
            "text/markdown": "499",
            "text/latex": "499",
            "text/plain": [
              "[1] 499"
            ]
          },
          "metadata": {}
        },
        {
          "output_type": "display_data",
          "data": {
            "text/html": [
              "215"
            ],
            "text/markdown": "215",
            "text/latex": "215",
            "text/plain": [
              "[1] 215"
            ]
          },
          "metadata": {}
        }
      ]
    },
    {
      "cell_type": "code",
      "source": [
        "## 2.2 สร้าง predict ของ train & add column in traindata ชื่อ p_train\n",
        "p_train = predict(train_model, type=\"response\")\n",
        "traindata$p_train = predict(train_model, type=\"response\")"
      ],
      "metadata": {
        "id": "FzmP_WRAfWRO"
      },
      "execution_count": null,
      "outputs": []
    },
    {
      "cell_type": "code",
      "source": [
        "## 2.3 add column : if_else ให้ปัดเป็น 0,1\n",
        "traindata$pred = if_else(p_train>=0.5,1,0)"
      ],
      "metadata": {
        "id": "r9jLChI3flF3"
      },
      "execution_count": null,
      "outputs": []
    },
    {
      "cell_type": "code",
      "source": [
        "## 2.4 add column : predict correct or not?\n",
        "traindata$correct = if_else(traindata$Survived==traindata$pred, 1, 0)"
      ],
      "metadata": {
        "id": "hXvw5uFofsOd"
      },
      "execution_count": null,
      "outputs": []
    },
    {
      "cell_type": "code",
      "source": [
        "traindata"
      ],
      "metadata": {
        "colab": {
          "base_uri": "https://localhost:8080/",
          "height": 1000
        },
        "collapsed": true,
        "id": "MuwTt3ixih73",
        "outputId": "f6511207-be31-4b7f-c727-19918a781c65"
      },
      "execution_count": null,
      "outputs": [
        {
          "output_type": "display_data",
          "data": {
            "text/html": [
              "<table class=\"dataframe\">\n",
              "<caption>A data.frame: 499 × 15</caption>\n",
              "<thead>\n",
              "\t<tr><th></th><th scope=col>PassengerId</th><th scope=col>Survived</th><th scope=col>Pclass</th><th scope=col>Name</th><th scope=col>Sex</th><th scope=col>Age</th><th scope=col>SibSp</th><th scope=col>Parch</th><th scope=col>Ticket</th><th scope=col>Fare</th><th scope=col>Cabin</th><th scope=col>Embarked</th><th scope=col>p_train</th><th scope=col>pred</th><th scope=col>correct</th></tr>\n",
              "\t<tr><th></th><th scope=col>&lt;int&gt;</th><th scope=col>&lt;int&gt;</th><th scope=col>&lt;int&gt;</th><th scope=col>&lt;chr&gt;</th><th scope=col>&lt;fct&gt;</th><th scope=col>&lt;dbl&gt;</th><th scope=col>&lt;int&gt;</th><th scope=col>&lt;int&gt;</th><th scope=col>&lt;chr&gt;</th><th scope=col>&lt;dbl&gt;</th><th scope=col>&lt;chr&gt;</th><th scope=col>&lt;chr&gt;</th><th scope=col>&lt;dbl&gt;</th><th scope=col>&lt;dbl&gt;</th><th scope=col>&lt;dbl&gt;</th></tr>\n",
              "</thead>\n",
              "<tbody>\n",
              "\t<tr><th scope=row>706</th><td>706</td><td>0</td><td>2</td><td>Morley, Mr. Henry Samuel (\"Mr Henry Marshall\")       </td><td>1</td><td>39</td><td>0</td><td>0</td><td>250655         </td><td> 26.0000</td><td>           </td><td>S</td><td>0.17529661</td><td>0</td><td>1</td></tr>\n",
              "\t<tr><th scope=row>399</th><td>399</td><td>0</td><td>2</td><td>Pain, Dr. Alfred                                     </td><td>1</td><td>23</td><td>0</td><td>0</td><td>244278         </td><td> 10.5000</td><td>           </td><td>S</td><td>0.32155058</td><td>0</td><td>1</td></tr>\n",
              "\t<tr><th scope=row>192</th><td>192</td><td>0</td><td>2</td><td>Carbines, Mr. William                                </td><td>1</td><td>19</td><td>0</td><td>0</td><td>28424          </td><td> 13.0000</td><td>           </td><td>S</td><td>0.36675049</td><td>0</td><td>1</td></tr>\n",
              "\t<tr><th scope=row>95</th><td> 95</td><td>0</td><td>3</td><td>Coxon, Mr. Daniel                                    </td><td>1</td><td>59</td><td>0</td><td>0</td><td>364500         </td><td>  7.2500</td><td>           </td><td>S</td><td>0.01720161</td><td>0</td><td>1</td></tr>\n",
              "\t<tr><th scope=row>283</th><td>283</td><td>0</td><td>3</td><td>de Pelsmaeker, Mr. Alfons                            </td><td>1</td><td>16</td><td>0</td><td>0</td><td>345778         </td><td>  9.5000</td><td>           </td><td>S</td><td>0.13120757</td><td>0</td><td>1</td></tr>\n",
              "\t<tr><th scope=row>183</th><td>183</td><td>0</td><td>3</td><td>Asplund, Master. Clarence Gustaf Hugo                </td><td>1</td><td> 9</td><td>4</td><td>2</td><td>347077         </td><td> 31.3875</td><td>           </td><td>S</td><td>0.04138625</td><td>0</td><td>1</td></tr>\n",
              "\t<tr><th scope=row>797</th><td>797</td><td>1</td><td>1</td><td>Leader, Dr. Alice (Farnham)                          </td><td>0</td><td>49</td><td>0</td><td>0</td><td>17465          </td><td> 25.9292</td><td>D17        </td><td>S</td><td>0.90538050</td><td>1</td><td>1</td></tr>\n",
              "\t<tr><th scope=row>64</th><td> 64</td><td>0</td><td>3</td><td>Skoog, Master. Harald                                </td><td>1</td><td> 4</td><td>3</td><td>2</td><td>347088         </td><td> 27.9000</td><td>           </td><td>S</td><td>0.07738954</td><td>0</td><td>1</td></tr>\n",
              "\t<tr><th scope=row>158</th><td>158</td><td>0</td><td>3</td><td>Corn, Mr. Harry                                      </td><td>1</td><td>30</td><td>0</td><td>0</td><td>SOTON/OQ 392090</td><td>  8.0500</td><td>           </td><td>S</td><td>0.06965657</td><td>0</td><td>1</td></tr>\n",
              "\t<tr><th scope=row>379</th><td>379</td><td>0</td><td>3</td><td>Betros, Mr. Tannous                                  </td><td>1</td><td>20</td><td>0</td><td>0</td><td>2648           </td><td>  4.0125</td><td>           </td><td>C</td><td>0.10999462</td><td>0</td><td>1</td></tr>\n",
              "\t<tr><th scope=row>28</th><td> 28</td><td>0</td><td>1</td><td>Fortune, Mr. Charles Alexander                       </td><td>1</td><td>19</td><td>3</td><td>2</td><td>19950          </td><td>263.0000</td><td>C23 C25 C27</td><td>S</td><td>0.44000634</td><td>0</td><td>1</td></tr>\n",
              "\t<tr><th scope=row>443</th><td>443</td><td>0</td><td>3</td><td>Petterson, Mr. Johan Emil                            </td><td>1</td><td>25</td><td>1</td><td>0</td><td>347076         </td><td>  7.7750</td><td>           </td><td>S</td><td>0.05980602</td><td>0</td><td>1</td></tr>\n",
              "\t<tr><th scope=row>754</th><td>754</td><td>0</td><td>3</td><td>Jonkoff, Mr. Lalio                                   </td><td>1</td><td>23</td><td>0</td><td>0</td><td>349204         </td><td>  7.8958</td><td>           </td><td>S</td><td>0.09611556</td><td>0</td><td>1</td></tr>\n",
              "\t<tr><th scope=row>207</th><td>207</td><td>0</td><td>3</td><td>Backstrom, Mr. Karl Alfred                           </td><td>1</td><td>32</td><td>1</td><td>0</td><td>3101278        </td><td> 15.8500</td><td>           </td><td>S</td><td>0.04286838</td><td>0</td><td>1</td></tr>\n",
              "\t<tr><th scope=row>781</th><td>781</td><td>1</td><td>3</td><td>Ayoub, Miss. Banoura                                 </td><td>0</td><td>13</td><td>0</td><td>0</td><td>2687           </td><td>  7.2292</td><td>           </td><td>C</td><td>0.74530983</td><td>1</td><td>1</td></tr>\n",
              "\t<tr><th scope=row>673</th><td>673</td><td>0</td><td>2</td><td>Mitchell, Mr. Henry Michael                          </td><td>1</td><td>70</td><td>0</td><td>0</td><td>C.A. 24580     </td><td> 10.5000</td><td>           </td><td>S</td><td>0.04301640</td><td>0</td><td>1</td></tr>\n",
              "\t<tr><th scope=row>515</th><td>515</td><td>0</td><td>3</td><td>Coleff, Mr. Satio                                    </td><td>1</td><td>24</td><td>0</td><td>0</td><td>349209         </td><td>  7.4958</td><td>           </td><td>S</td><td>0.09184870</td><td>0</td><td>1</td></tr>\n",
              "\t<tr><th scope=row>372</th><td>372</td><td>0</td><td>3</td><td>Wiklund, Mr. Jakob Alfred                            </td><td>1</td><td>18</td><td>1</td><td>0</td><td>3101267        </td><td>  6.4958</td><td>           </td><td>S</td><td>0.08285653</td><td>0</td><td>1</td></tr>\n",
              "\t<tr><th scope=row>877</th><td>877</td><td>0</td><td>3</td><td>Gustafsson, Mr. Alfred Ossian                        </td><td>1</td><td>20</td><td>0</td><td>0</td><td>7534           </td><td>  9.8458</td><td>           </td><td>S</td><td>0.10999462</td><td>0</td><td>1</td></tr>\n",
              "\t<tr><th scope=row>351</th><td>351</td><td>0</td><td>3</td><td>Odahl, Mr. Nils Martin                               </td><td>1</td><td>23</td><td>0</td><td>0</td><td>7267           </td><td>  9.2250</td><td>           </td><td>S</td><td>0.09611556</td><td>0</td><td>1</td></tr>\n",
              "\t<tr><th scope=row>780</th><td>780</td><td>1</td><td>1</td><td>Robert, Mrs. Edward Scott (Elisabeth Walton McMillan)</td><td>0</td><td>43</td><td>0</td><td>1</td><td>24160          </td><td>211.3375</td><td>B3         </td><td>S</td><td>0.92988121</td><td>1</td><td>1</td></tr>\n",
              "\t<tr><th scope=row>655</th><td>655</td><td>0</td><td>3</td><td>Hegarty, Miss. Hanora \"Nora\"                         </td><td>0</td><td>18</td><td>0</td><td>0</td><td>365226         </td><td>  6.7500</td><td>           </td><td>Q</td><td>0.69490709</td><td>1</td><td>0</td></tr>\n",
              "\t<tr><th scope=row>263</th><td>263</td><td>0</td><td>1</td><td>Taussig, Mr. Emil                                    </td><td>1</td><td>52</td><td>1</td><td>1</td><td>110413         </td><td> 79.6500</td><td>E67        </td><td>S</td><td>0.25095756</td><td>0</td><td>1</td></tr>\n",
              "\t<tr><th scope=row>322</th><td>322</td><td>0</td><td>3</td><td>Danoff, Mr. Yoto                                     </td><td>1</td><td>27</td><td>0</td><td>0</td><td>349219         </td><td>  7.8958</td><td>           </td><td>S</td><td>0.08005334</td><td>0</td><td>1</td></tr>\n",
              "\t<tr><th scope=row>392</th><td>392</td><td>1</td><td>3</td><td>Jansson, Mr. Carl Olof                               </td><td>1</td><td>21</td><td>0</td><td>0</td><td>350034         </td><td>  7.7958</td><td>           </td><td>S</td><td>0.10518332</td><td>0</td><td>0</td></tr>\n",
              "\t<tr><th scope=row>609</th><td>609</td><td>1</td><td>2</td><td>Laroche, Mrs. Joseph (Juliette Marie Louise Lafargue)</td><td>0</td><td>22</td><td>1</td><td>2</td><td>SC/Paris 2123  </td><td> 41.5792</td><td>           </td><td>C</td><td>0.85257265</td><td>1</td><td>1</td></tr>\n",
              "\t<tr><th scope=row>373</th><td>373</td><td>0</td><td>3</td><td>Beavan, Mr. William Thomas                           </td><td>1</td><td>19</td><td>0</td><td>0</td><td>323951         </td><td>  8.0500</td><td>           </td><td>S</td><td>0.11499772</td><td>0</td><td>1</td></tr>\n",
              "\t<tr><th scope=row>880</th><td>880</td><td>1</td><td>1</td><td>Potter, Mrs. Thomas Jr (Lily Alexenia Wilson)        </td><td>0</td><td>56</td><td>0</td><td>1</td><td>11767          </td><td> 83.1583</td><td>C50        </td><td>C</td><td>0.87361766</td><td>1</td><td>1</td></tr>\n",
              "\t<tr><th scope=row>198</th><td>198</td><td>0</td><td>3</td><td>Olsen, Mr. Karl Siegwart Andreas                     </td><td>1</td><td>42</td><td>0</td><td>1</td><td>4579           </td><td>  8.4042</td><td>           </td><td>S</td><td>0.04039841</td><td>0</td><td>1</td></tr>\n",
              "\t<tr><th scope=row>374</th><td>374</td><td>0</td><td>1</td><td>Ringhini, Mr. Sante                                  </td><td>1</td><td>22</td><td>0</td><td>0</td><td>PC 17760       </td><td>135.6333</td><td>           </td><td>C</td><td>0.68953755</td><td>1</td><td>0</td></tr>\n",
              "\t<tr><th scope=row>⋮</th><td>⋮</td><td>⋮</td><td>⋮</td><td>⋮</td><td>⋮</td><td>⋮</td><td>⋮</td><td>⋮</td><td>⋮</td><td>⋮</td><td>⋮</td><td>⋮</td><td>⋮</td><td>⋮</td><td>⋮</td></tr>\n",
              "\t<tr><th scope=row>437</th><td>437</td><td>0</td><td>3</td><td>Ford, Miss. Doolina Margaret \"Daisy\"             </td><td>0</td><td>21.0</td><td>2</td><td>2</td><td>W./C. 6608  </td><td> 34.3750</td><td>           </td><td>S</td><td>0.47426085</td><td>0</td><td>1</td></tr>\n",
              "\t<tr><th scope=row>248</th><td>248</td><td>1</td><td>2</td><td>Hamalainen, Mrs. William (Anna)                  </td><td>0</td><td>24.0</td><td>0</td><td>2</td><td>250649      </td><td> 14.5000</td><td>           </td><td>S</td><td>0.88778175</td><td>1</td><td>1</td></tr>\n",
              "\t<tr><th scope=row>277</th><td>277</td><td>0</td><td>3</td><td>Lindblom, Miss. Augusta Charlotta                </td><td>0</td><td>45.0</td><td>0</td><td>0</td><td>347073      </td><td>  7.7500</td><td>           </td><td>S</td><td>0.37051075</td><td>0</td><td>1</td></tr>\n",
              "\t<tr><th scope=row>643</th><td>643</td><td>0</td><td>3</td><td>Skoog, Miss. Margit Elizabeth                    </td><td>0</td><td> 2.0</td><td>3</td><td>2</td><td>347088      </td><td> 27.9000</td><td>           </td><td>S</td><td>0.60721065</td><td>1</td><td>0</td></tr>\n",
              "\t<tr><th scope=row>125</th><td>125</td><td>0</td><td>1</td><td>White, Mr. Percival Wayland                      </td><td>1</td><td>54.0</td><td>0</td><td>1</td><td>35281       </td><td> 77.2875</td><td>D26        </td><td>S</td><td>0.31428660</td><td>0</td><td>1</td></tr>\n",
              "\t<tr><th scope=row>342</th><td>342</td><td>1</td><td>1</td><td>Fortune, Miss. Alice Elizabeth                   </td><td>0</td><td>24.0</td><td>3</td><td>2</td><td>19950       </td><td>263.0000</td><td>C23 C25 C27</td><td>S</td><td>0.91068234</td><td>1</td><td>1</td></tr>\n",
              "\t<tr><th scope=row>581</th><td>581</td><td>1</td><td>2</td><td>Christy, Miss. Julie Rachel                      </td><td>0</td><td>25.0</td><td>1</td><td>1</td><td>237789      </td><td> 30.0000</td><td>           </td><td>S</td><td>0.82904908</td><td>1</td><td>1</td></tr>\n",
              "\t<tr><th scope=row>227</th><td>227</td><td>1</td><td>2</td><td>Mellors, Mr. William John                        </td><td>1</td><td>19.0</td><td>0</td><td>0</td><td>SW/PP 751   </td><td> 10.5000</td><td>           </td><td>S</td><td>0.36675049</td><td>0</td><td>0</td></tr>\n",
              "\t<tr><th scope=row>149</th><td>149</td><td>0</td><td>2</td><td>Navratil, Mr. Michel (\"Louis M Hoffman\")         </td><td>1</td><td>36.5</td><td>0</td><td>2</td><td>230080      </td><td> 26.0000</td><td>F2         </td><td>S</td><td>0.20231025</td><td>0</td><td>1</td></tr>\n",
              "\t<tr><th scope=row>219</th><td>219</td><td>1</td><td>1</td><td>Bazzani, Miss. Albina                            </td><td>0</td><td>32.0</td><td>0</td><td>0</td><td>11813       </td><td> 76.2917</td><td>D15        </td><td>C</td><td>0.95732375</td><td>1</td><td>1</td></tr>\n",
              "\t<tr><th scope=row>9</th><td>  9</td><td>1</td><td>3</td><td>Johnson, Mrs. Oscar W (Elisabeth Vilhelmina Berg)</td><td>0</td><td>27.0</td><td>0</td><td>2</td><td>347742      </td><td> 11.1333</td><td>           </td><td>S</td><td>0.60430394</td><td>1</td><td>1</td></tr>\n",
              "\t<tr><th scope=row>121</th><td>121</td><td>0</td><td>2</td><td>Hickman, Mr. Stanley George                      </td><td>1</td><td>21.0</td><td>2</td><td>0</td><td>S.O.C. 14879</td><td> 73.5000</td><td>           </td><td>S</td><td>0.18639515</td><td>0</td><td>1</td></tr>\n",
              "\t<tr><th scope=row>605</th><td>605</td><td>1</td><td>1</td><td>Homer, Mr. Harry (\"Mr E Haven\")                  </td><td>1</td><td>35.0</td><td>0</td><td>0</td><td>111426      </td><td> 26.5500</td><td>           </td><td>C</td><td>0.53654053</td><td>1</td><td>1</td></tr>\n",
              "\t<tr><th scope=row>718</th><td>718</td><td>1</td><td>2</td><td>Troutt, Miss. Edwina Celia \"Winnie\"              </td><td>0</td><td>27.0</td><td>0</td><td>0</td><td>34218       </td><td> 10.5000</td><td>E101       </td><td>S</td><td>0.86606372</td><td>1</td><td>1</td></tr>\n",
              "\t<tr><th scope=row>619</th><td>619</td><td>1</td><td>2</td><td>Becker, Miss. Marion Louise                      </td><td>0</td><td> 4.0</td><td>2</td><td>1</td><td>230136      </td><td> 39.0000</td><td>F4         </td><td>S</td><td>0.90183563</td><td>1</td><td>1</td></tr>\n",
              "\t<tr><th scope=row>436</th><td>436</td><td>1</td><td>1</td><td>Carter, Miss. Lucile Polk                        </td><td>0</td><td>14.0</td><td>1</td><td>2</td><td>113760      </td><td>120.0000</td><td>B96 B98    </td><td>S</td><td>0.97467625</td><td>1</td><td>1</td></tr>\n",
              "\t<tr><th scope=row>400</th><td>400</td><td>1</td><td>2</td><td>Trout, Mrs. William H (Jessie L)                 </td><td>0</td><td>28.0</td><td>0</td><td>0</td><td>240929      </td><td> 12.6500</td><td>           </td><td>S</td><td>0.86014276</td><td>1</td><td>1</td></tr>\n",
              "\t<tr><th scope=row>527</th><td>527</td><td>1</td><td>2</td><td>Ridsdale, Miss. Lucy                             </td><td>0</td><td>50.0</td><td>0</td><td>0</td><td>W./C. 14258 </td><td> 10.5000</td><td>           </td><td>S</td><td>0.67125760</td><td>1</td><td>1</td></tr>\n",
              "\t<tr><th scope=row>21</th><td> 21</td><td>0</td><td>2</td><td>Fynney, Mr. Joseph J                             </td><td>1</td><td>35.0</td><td>0</td><td>0</td><td>239865      </td><td> 26.0000</td><td>           </td><td>S</td><td>0.20618575</td><td>0</td><td>1</td></tr>\n",
              "\t<tr><th scope=row>447</th><td>447</td><td>1</td><td>2</td><td>Mellinger, Miss. Madeleine Violet                </td><td>0</td><td>13.0</td><td>0</td><td>1</td><td>250644      </td><td> 19.5000</td><td>           </td><td>S</td><td>0.93046882</td><td>1</td><td>1</td></tr>\n",
              "\t<tr><th scope=row>345</th><td>345</td><td>0</td><td>2</td><td>Fox, Mr. Stanley Hubert                          </td><td>1</td><td>36.0</td><td>0</td><td>0</td><td>229236      </td><td> 13.0000</td><td>           </td><td>S</td><td>0.19810347</td><td>0</td><td>1</td></tr>\n",
              "\t<tr><th scope=row>165</th><td>165</td><td>0</td><td>3</td><td>Panula, Master. Eino Viljami                     </td><td>1</td><td> 1.0</td><td>4</td><td>1</td><td>3101295     </td><td> 39.6875</td><td>           </td><td>S</td><td>0.05911920</td><td>0</td><td>1</td></tr>\n",
              "\t<tr><th scope=row>40</th><td> 40</td><td>1</td><td>3</td><td>Nicola-Yarred, Miss. Jamila                      </td><td>0</td><td>14.0</td><td>1</td><td>0</td><td>2651        </td><td> 11.2417</td><td>           </td><td>C</td><td>0.64795007</td><td>1</td><td>1</td></tr>\n",
              "\t<tr><th scope=row>73</th><td> 73</td><td>0</td><td>2</td><td>Hood, Mr. Ambrose Jr                             </td><td>1</td><td>21.0</td><td>0</td><td>0</td><td>S.O.C. 14879</td><td> 73.5000</td><td>           </td><td>S</td><td>0.34379698</td><td>0</td><td>1</td></tr>\n",
              "\t<tr><th scope=row>521</th><td>521</td><td>1</td><td>1</td><td>Perreault, Miss. Anne                            </td><td>0</td><td>30.0</td><td>0</td><td>0</td><td>12749       </td><td> 93.5000</td><td>B73        </td><td>S</td><td>0.96123627</td><td>1</td><td>1</td></tr>\n",
              "\t<tr><th scope=row>260</th><td>260</td><td>1</td><td>2</td><td>Parrish, Mrs. (Lutie Davis)                      </td><td>0</td><td>50.0</td><td>0</td><td>1</td><td>230433      </td><td> 26.0000</td><td>           </td><td>S</td><td>0.67689622</td><td>1</td><td>1</td></tr>\n",
              "\t<tr><th scope=row>704</th><td>704</td><td>0</td><td>3</td><td>Gallagher, Mr. Martin                            </td><td>1</td><td>25.0</td><td>0</td><td>0</td><td>36864       </td><td>  7.7417</td><td>           </td><td>Q</td><td>0.08775287</td><td>0</td><td>1</td></tr>\n",
              "\t<tr><th scope=row>576</th><td>576</td><td>0</td><td>3</td><td>Patchett, Mr. George                             </td><td>1</td><td>19.0</td><td>0</td><td>0</td><td>358585      </td><td> 14.5000</td><td>           </td><td>S</td><td>0.11499772</td><td>0</td><td>1</td></tr>\n",
              "\t<tr><th scope=row>309</th><td>309</td><td>0</td><td>2</td><td>Abelson, Mr. Samuel                              </td><td>1</td><td>30.0</td><td>1</td><td>0</td><td>P/PP 3381   </td><td> 24.0000</td><td>           </td><td>C</td><td>0.18077951</td><td>0</td><td>1</td></tr>\n",
              "\t<tr><th scope=row>22</th><td> 22</td><td>1</td><td>2</td><td>Beesley, Mr. Lawrence                            </td><td>1</td><td>34.0</td><td>0</td><td>0</td><td>248698      </td><td> 13.0000</td><td>D56        </td><td>S</td><td>0.21450957</td><td>0</td><td>0</td></tr>\n",
              "</tbody>\n",
              "</table>\n"
            ],
            "text/markdown": "\nA data.frame: 499 × 15\n\n| <!--/--> | PassengerId &lt;int&gt; | Survived &lt;int&gt; | Pclass &lt;int&gt; | Name &lt;chr&gt; | Sex &lt;fct&gt; | Age &lt;dbl&gt; | SibSp &lt;int&gt; | Parch &lt;int&gt; | Ticket &lt;chr&gt; | Fare &lt;dbl&gt; | Cabin &lt;chr&gt; | Embarked &lt;chr&gt; | p_train &lt;dbl&gt; | pred &lt;dbl&gt; | correct &lt;dbl&gt; |\n|---|---|---|---|---|---|---|---|---|---|---|---|---|---|---|---|\n| 706 | 706 | 0 | 2 | Morley, Mr. Henry Samuel (\"Mr Henry Marshall\")        | 1 | 39 | 0 | 0 | 250655          |  26.0000 | <!----> | S | 0.17529661 | 0 | 1 |\n| 399 | 399 | 0 | 2 | Pain, Dr. Alfred                                      | 1 | 23 | 0 | 0 | 244278          |  10.5000 | <!----> | S | 0.32155058 | 0 | 1 |\n| 192 | 192 | 0 | 2 | Carbines, Mr. William                                 | 1 | 19 | 0 | 0 | 28424           |  13.0000 | <!----> | S | 0.36675049 | 0 | 1 |\n| 95 |  95 | 0 | 3 | Coxon, Mr. Daniel                                     | 1 | 59 | 0 | 0 | 364500          |   7.2500 | <!----> | S | 0.01720161 | 0 | 1 |\n| 283 | 283 | 0 | 3 | de Pelsmaeker, Mr. Alfons                             | 1 | 16 | 0 | 0 | 345778          |   9.5000 | <!----> | S | 0.13120757 | 0 | 1 |\n| 183 | 183 | 0 | 3 | Asplund, Master. Clarence Gustaf Hugo                 | 1 |  9 | 4 | 2 | 347077          |  31.3875 | <!----> | S | 0.04138625 | 0 | 1 |\n| 797 | 797 | 1 | 1 | Leader, Dr. Alice (Farnham)                           | 0 | 49 | 0 | 0 | 17465           |  25.9292 | D17         | S | 0.90538050 | 1 | 1 |\n| 64 |  64 | 0 | 3 | Skoog, Master. Harald                                 | 1 |  4 | 3 | 2 | 347088          |  27.9000 | <!----> | S | 0.07738954 | 0 | 1 |\n| 158 | 158 | 0 | 3 | Corn, Mr. Harry                                       | 1 | 30 | 0 | 0 | SOTON/OQ 392090 |   8.0500 | <!----> | S | 0.06965657 | 0 | 1 |\n| 379 | 379 | 0 | 3 | Betros, Mr. Tannous                                   | 1 | 20 | 0 | 0 | 2648            |   4.0125 | <!----> | C | 0.10999462 | 0 | 1 |\n| 28 |  28 | 0 | 1 | Fortune, Mr. Charles Alexander                        | 1 | 19 | 3 | 2 | 19950           | 263.0000 | C23 C25 C27 | S | 0.44000634 | 0 | 1 |\n| 443 | 443 | 0 | 3 | Petterson, Mr. Johan Emil                             | 1 | 25 | 1 | 0 | 347076          |   7.7750 | <!----> | S | 0.05980602 | 0 | 1 |\n| 754 | 754 | 0 | 3 | Jonkoff, Mr. Lalio                                    | 1 | 23 | 0 | 0 | 349204          |   7.8958 | <!----> | S | 0.09611556 | 0 | 1 |\n| 207 | 207 | 0 | 3 | Backstrom, Mr. Karl Alfred                            | 1 | 32 | 1 | 0 | 3101278         |  15.8500 | <!----> | S | 0.04286838 | 0 | 1 |\n| 781 | 781 | 1 | 3 | Ayoub, Miss. Banoura                                  | 0 | 13 | 0 | 0 | 2687            |   7.2292 | <!----> | C | 0.74530983 | 1 | 1 |\n| 673 | 673 | 0 | 2 | Mitchell, Mr. Henry Michael                           | 1 | 70 | 0 | 0 | C.A. 24580      |  10.5000 | <!----> | S | 0.04301640 | 0 | 1 |\n| 515 | 515 | 0 | 3 | Coleff, Mr. Satio                                     | 1 | 24 | 0 | 0 | 349209          |   7.4958 | <!----> | S | 0.09184870 | 0 | 1 |\n| 372 | 372 | 0 | 3 | Wiklund, Mr. Jakob Alfred                             | 1 | 18 | 1 | 0 | 3101267         |   6.4958 | <!----> | S | 0.08285653 | 0 | 1 |\n| 877 | 877 | 0 | 3 | Gustafsson, Mr. Alfred Ossian                         | 1 | 20 | 0 | 0 | 7534            |   9.8458 | <!----> | S | 0.10999462 | 0 | 1 |\n| 351 | 351 | 0 | 3 | Odahl, Mr. Nils Martin                                | 1 | 23 | 0 | 0 | 7267            |   9.2250 | <!----> | S | 0.09611556 | 0 | 1 |\n| 780 | 780 | 1 | 1 | Robert, Mrs. Edward Scott (Elisabeth Walton McMillan) | 0 | 43 | 0 | 1 | 24160           | 211.3375 | B3          | S | 0.92988121 | 1 | 1 |\n| 655 | 655 | 0 | 3 | Hegarty, Miss. Hanora \"Nora\"                          | 0 | 18 | 0 | 0 | 365226          |   6.7500 | <!----> | Q | 0.69490709 | 1 | 0 |\n| 263 | 263 | 0 | 1 | Taussig, Mr. Emil                                     | 1 | 52 | 1 | 1 | 110413          |  79.6500 | E67         | S | 0.25095756 | 0 | 1 |\n| 322 | 322 | 0 | 3 | Danoff, Mr. Yoto                                      | 1 | 27 | 0 | 0 | 349219          |   7.8958 | <!----> | S | 0.08005334 | 0 | 1 |\n| 392 | 392 | 1 | 3 | Jansson, Mr. Carl Olof                                | 1 | 21 | 0 | 0 | 350034          |   7.7958 | <!----> | S | 0.10518332 | 0 | 0 |\n| 609 | 609 | 1 | 2 | Laroche, Mrs. Joseph (Juliette Marie Louise Lafargue) | 0 | 22 | 1 | 2 | SC/Paris 2123   |  41.5792 | <!----> | C | 0.85257265 | 1 | 1 |\n| 373 | 373 | 0 | 3 | Beavan, Mr. William Thomas                            | 1 | 19 | 0 | 0 | 323951          |   8.0500 | <!----> | S | 0.11499772 | 0 | 1 |\n| 880 | 880 | 1 | 1 | Potter, Mrs. Thomas Jr (Lily Alexenia Wilson)         | 0 | 56 | 0 | 1 | 11767           |  83.1583 | C50         | C | 0.87361766 | 1 | 1 |\n| 198 | 198 | 0 | 3 | Olsen, Mr. Karl Siegwart Andreas                      | 1 | 42 | 0 | 1 | 4579            |   8.4042 | <!----> | S | 0.04039841 | 0 | 1 |\n| 374 | 374 | 0 | 1 | Ringhini, Mr. Sante                                   | 1 | 22 | 0 | 0 | PC 17760        | 135.6333 | <!----> | C | 0.68953755 | 1 | 0 |\n| ⋮ | ⋮ | ⋮ | ⋮ | ⋮ | ⋮ | ⋮ | ⋮ | ⋮ | ⋮ | ⋮ | ⋮ | ⋮ | ⋮ | ⋮ | ⋮ |\n| 437 | 437 | 0 | 3 | Ford, Miss. Doolina Margaret \"Daisy\"              | 0 | 21.0 | 2 | 2 | W./C. 6608   |  34.3750 | <!----> | S | 0.47426085 | 0 | 1 |\n| 248 | 248 | 1 | 2 | Hamalainen, Mrs. William (Anna)                   | 0 | 24.0 | 0 | 2 | 250649       |  14.5000 | <!----> | S | 0.88778175 | 1 | 1 |\n| 277 | 277 | 0 | 3 | Lindblom, Miss. Augusta Charlotta                 | 0 | 45.0 | 0 | 0 | 347073       |   7.7500 | <!----> | S | 0.37051075 | 0 | 1 |\n| 643 | 643 | 0 | 3 | Skoog, Miss. Margit Elizabeth                     | 0 |  2.0 | 3 | 2 | 347088       |  27.9000 | <!----> | S | 0.60721065 | 1 | 0 |\n| 125 | 125 | 0 | 1 | White, Mr. Percival Wayland                       | 1 | 54.0 | 0 | 1 | 35281        |  77.2875 | D26         | S | 0.31428660 | 0 | 1 |\n| 342 | 342 | 1 | 1 | Fortune, Miss. Alice Elizabeth                    | 0 | 24.0 | 3 | 2 | 19950        | 263.0000 | C23 C25 C27 | S | 0.91068234 | 1 | 1 |\n| 581 | 581 | 1 | 2 | Christy, Miss. Julie Rachel                       | 0 | 25.0 | 1 | 1 | 237789       |  30.0000 | <!----> | S | 0.82904908 | 1 | 1 |\n| 227 | 227 | 1 | 2 | Mellors, Mr. William John                         | 1 | 19.0 | 0 | 0 | SW/PP 751    |  10.5000 | <!----> | S | 0.36675049 | 0 | 0 |\n| 149 | 149 | 0 | 2 | Navratil, Mr. Michel (\"Louis M Hoffman\")          | 1 | 36.5 | 0 | 2 | 230080       |  26.0000 | F2          | S | 0.20231025 | 0 | 1 |\n| 219 | 219 | 1 | 1 | Bazzani, Miss. Albina                             | 0 | 32.0 | 0 | 0 | 11813        |  76.2917 | D15         | C | 0.95732375 | 1 | 1 |\n| 9 |   9 | 1 | 3 | Johnson, Mrs. Oscar W (Elisabeth Vilhelmina Berg) | 0 | 27.0 | 0 | 2 | 347742       |  11.1333 | <!----> | S | 0.60430394 | 1 | 1 |\n| 121 | 121 | 0 | 2 | Hickman, Mr. Stanley George                       | 1 | 21.0 | 2 | 0 | S.O.C. 14879 |  73.5000 | <!----> | S | 0.18639515 | 0 | 1 |\n| 605 | 605 | 1 | 1 | Homer, Mr. Harry (\"Mr E Haven\")                   | 1 | 35.0 | 0 | 0 | 111426       |  26.5500 | <!----> | C | 0.53654053 | 1 | 1 |\n| 718 | 718 | 1 | 2 | Troutt, Miss. Edwina Celia \"Winnie\"               | 0 | 27.0 | 0 | 0 | 34218        |  10.5000 | E101        | S | 0.86606372 | 1 | 1 |\n| 619 | 619 | 1 | 2 | Becker, Miss. Marion Louise                       | 0 |  4.0 | 2 | 1 | 230136       |  39.0000 | F4          | S | 0.90183563 | 1 | 1 |\n| 436 | 436 | 1 | 1 | Carter, Miss. Lucile Polk                         | 0 | 14.0 | 1 | 2 | 113760       | 120.0000 | B96 B98     | S | 0.97467625 | 1 | 1 |\n| 400 | 400 | 1 | 2 | Trout, Mrs. William H (Jessie L)                  | 0 | 28.0 | 0 | 0 | 240929       |  12.6500 | <!----> | S | 0.86014276 | 1 | 1 |\n| 527 | 527 | 1 | 2 | Ridsdale, Miss. Lucy                              | 0 | 50.0 | 0 | 0 | W./C. 14258  |  10.5000 | <!----> | S | 0.67125760 | 1 | 1 |\n| 21 |  21 | 0 | 2 | Fynney, Mr. Joseph J                              | 1 | 35.0 | 0 | 0 | 239865       |  26.0000 | <!----> | S | 0.20618575 | 0 | 1 |\n| 447 | 447 | 1 | 2 | Mellinger, Miss. Madeleine Violet                 | 0 | 13.0 | 0 | 1 | 250644       |  19.5000 | <!----> | S | 0.93046882 | 1 | 1 |\n| 345 | 345 | 0 | 2 | Fox, Mr. Stanley Hubert                           | 1 | 36.0 | 0 | 0 | 229236       |  13.0000 | <!----> | S | 0.19810347 | 0 | 1 |\n| 165 | 165 | 0 | 3 | Panula, Master. Eino Viljami                      | 1 |  1.0 | 4 | 1 | 3101295      |  39.6875 | <!----> | S | 0.05911920 | 0 | 1 |\n| 40 |  40 | 1 | 3 | Nicola-Yarred, Miss. Jamila                       | 0 | 14.0 | 1 | 0 | 2651         |  11.2417 | <!----> | C | 0.64795007 | 1 | 1 |\n| 73 |  73 | 0 | 2 | Hood, Mr. Ambrose Jr                              | 1 | 21.0 | 0 | 0 | S.O.C. 14879 |  73.5000 | <!----> | S | 0.34379698 | 0 | 1 |\n| 521 | 521 | 1 | 1 | Perreault, Miss. Anne                             | 0 | 30.0 | 0 | 0 | 12749        |  93.5000 | B73         | S | 0.96123627 | 1 | 1 |\n| 260 | 260 | 1 | 2 | Parrish, Mrs. (Lutie Davis)                       | 0 | 50.0 | 0 | 1 | 230433       |  26.0000 | <!----> | S | 0.67689622 | 1 | 1 |\n| 704 | 704 | 0 | 3 | Gallagher, Mr. Martin                             | 1 | 25.0 | 0 | 0 | 36864        |   7.7417 | <!----> | Q | 0.08775287 | 0 | 1 |\n| 576 | 576 | 0 | 3 | Patchett, Mr. George                              | 1 | 19.0 | 0 | 0 | 358585       |  14.5000 | <!----> | S | 0.11499772 | 0 | 1 |\n| 309 | 309 | 0 | 2 | Abelson, Mr. Samuel                               | 1 | 30.0 | 1 | 0 | P/PP 3381    |  24.0000 | <!----> | C | 0.18077951 | 0 | 1 |\n| 22 |  22 | 1 | 2 | Beesley, Mr. Lawrence                             | 1 | 34.0 | 0 | 0 | 248698       |  13.0000 | D56         | S | 0.21450957 | 0 | 0 |\n\n",
            "text/latex": "A data.frame: 499 × 15\n\\begin{tabular}{r|lllllllllllllll}\n  & PassengerId & Survived & Pclass & Name & Sex & Age & SibSp & Parch & Ticket & Fare & Cabin & Embarked & p\\_train & pred & correct\\\\\n  & <int> & <int> & <int> & <chr> & <fct> & <dbl> & <int> & <int> & <chr> & <dbl> & <chr> & <chr> & <dbl> & <dbl> & <dbl>\\\\\n\\hline\n\t706 & 706 & 0 & 2 & Morley, Mr. Henry Samuel (\"Mr Henry Marshall\")        & 1 & 39 & 0 & 0 & 250655          &  26.0000 &             & S & 0.17529661 & 0 & 1\\\\\n\t399 & 399 & 0 & 2 & Pain, Dr. Alfred                                      & 1 & 23 & 0 & 0 & 244278          &  10.5000 &             & S & 0.32155058 & 0 & 1\\\\\n\t192 & 192 & 0 & 2 & Carbines, Mr. William                                 & 1 & 19 & 0 & 0 & 28424           &  13.0000 &             & S & 0.36675049 & 0 & 1\\\\\n\t95 &  95 & 0 & 3 & Coxon, Mr. Daniel                                     & 1 & 59 & 0 & 0 & 364500          &   7.2500 &             & S & 0.01720161 & 0 & 1\\\\\n\t283 & 283 & 0 & 3 & de Pelsmaeker, Mr. Alfons                             & 1 & 16 & 0 & 0 & 345778          &   9.5000 &             & S & 0.13120757 & 0 & 1\\\\\n\t183 & 183 & 0 & 3 & Asplund, Master. Clarence Gustaf Hugo                 & 1 &  9 & 4 & 2 & 347077          &  31.3875 &             & S & 0.04138625 & 0 & 1\\\\\n\t797 & 797 & 1 & 1 & Leader, Dr. Alice (Farnham)                           & 0 & 49 & 0 & 0 & 17465           &  25.9292 & D17         & S & 0.90538050 & 1 & 1\\\\\n\t64 &  64 & 0 & 3 & Skoog, Master. Harald                                 & 1 &  4 & 3 & 2 & 347088          &  27.9000 &             & S & 0.07738954 & 0 & 1\\\\\n\t158 & 158 & 0 & 3 & Corn, Mr. Harry                                       & 1 & 30 & 0 & 0 & SOTON/OQ 392090 &   8.0500 &             & S & 0.06965657 & 0 & 1\\\\\n\t379 & 379 & 0 & 3 & Betros, Mr. Tannous                                   & 1 & 20 & 0 & 0 & 2648            &   4.0125 &             & C & 0.10999462 & 0 & 1\\\\\n\t28 &  28 & 0 & 1 & Fortune, Mr. Charles Alexander                        & 1 & 19 & 3 & 2 & 19950           & 263.0000 & C23 C25 C27 & S & 0.44000634 & 0 & 1\\\\\n\t443 & 443 & 0 & 3 & Petterson, Mr. Johan Emil                             & 1 & 25 & 1 & 0 & 347076          &   7.7750 &             & S & 0.05980602 & 0 & 1\\\\\n\t754 & 754 & 0 & 3 & Jonkoff, Mr. Lalio                                    & 1 & 23 & 0 & 0 & 349204          &   7.8958 &             & S & 0.09611556 & 0 & 1\\\\\n\t207 & 207 & 0 & 3 & Backstrom, Mr. Karl Alfred                            & 1 & 32 & 1 & 0 & 3101278         &  15.8500 &             & S & 0.04286838 & 0 & 1\\\\\n\t781 & 781 & 1 & 3 & Ayoub, Miss. Banoura                                  & 0 & 13 & 0 & 0 & 2687            &   7.2292 &             & C & 0.74530983 & 1 & 1\\\\\n\t673 & 673 & 0 & 2 & Mitchell, Mr. Henry Michael                           & 1 & 70 & 0 & 0 & C.A. 24580      &  10.5000 &             & S & 0.04301640 & 0 & 1\\\\\n\t515 & 515 & 0 & 3 & Coleff, Mr. Satio                                     & 1 & 24 & 0 & 0 & 349209          &   7.4958 &             & S & 0.09184870 & 0 & 1\\\\\n\t372 & 372 & 0 & 3 & Wiklund, Mr. Jakob Alfred                             & 1 & 18 & 1 & 0 & 3101267         &   6.4958 &             & S & 0.08285653 & 0 & 1\\\\\n\t877 & 877 & 0 & 3 & Gustafsson, Mr. Alfred Ossian                         & 1 & 20 & 0 & 0 & 7534            &   9.8458 &             & S & 0.10999462 & 0 & 1\\\\\n\t351 & 351 & 0 & 3 & Odahl, Mr. Nils Martin                                & 1 & 23 & 0 & 0 & 7267            &   9.2250 &             & S & 0.09611556 & 0 & 1\\\\\n\t780 & 780 & 1 & 1 & Robert, Mrs. Edward Scott (Elisabeth Walton McMillan) & 0 & 43 & 0 & 1 & 24160           & 211.3375 & B3          & S & 0.92988121 & 1 & 1\\\\\n\t655 & 655 & 0 & 3 & Hegarty, Miss. Hanora \"Nora\"                          & 0 & 18 & 0 & 0 & 365226          &   6.7500 &             & Q & 0.69490709 & 1 & 0\\\\\n\t263 & 263 & 0 & 1 & Taussig, Mr. Emil                                     & 1 & 52 & 1 & 1 & 110413          &  79.6500 & E67         & S & 0.25095756 & 0 & 1\\\\\n\t322 & 322 & 0 & 3 & Danoff, Mr. Yoto                                      & 1 & 27 & 0 & 0 & 349219          &   7.8958 &             & S & 0.08005334 & 0 & 1\\\\\n\t392 & 392 & 1 & 3 & Jansson, Mr. Carl Olof                                & 1 & 21 & 0 & 0 & 350034          &   7.7958 &             & S & 0.10518332 & 0 & 0\\\\\n\t609 & 609 & 1 & 2 & Laroche, Mrs. Joseph (Juliette Marie Louise Lafargue) & 0 & 22 & 1 & 2 & SC/Paris 2123   &  41.5792 &             & C & 0.85257265 & 1 & 1\\\\\n\t373 & 373 & 0 & 3 & Beavan, Mr. William Thomas                            & 1 & 19 & 0 & 0 & 323951          &   8.0500 &             & S & 0.11499772 & 0 & 1\\\\\n\t880 & 880 & 1 & 1 & Potter, Mrs. Thomas Jr (Lily Alexenia Wilson)         & 0 & 56 & 0 & 1 & 11767           &  83.1583 & C50         & C & 0.87361766 & 1 & 1\\\\\n\t198 & 198 & 0 & 3 & Olsen, Mr. Karl Siegwart Andreas                      & 1 & 42 & 0 & 1 & 4579            &   8.4042 &             & S & 0.04039841 & 0 & 1\\\\\n\t374 & 374 & 0 & 1 & Ringhini, Mr. Sante                                   & 1 & 22 & 0 & 0 & PC 17760        & 135.6333 &             & C & 0.68953755 & 1 & 0\\\\\n\t⋮ & ⋮ & ⋮ & ⋮ & ⋮ & ⋮ & ⋮ & ⋮ & ⋮ & ⋮ & ⋮ & ⋮ & ⋮ & ⋮ & ⋮ & ⋮\\\\\n\t437 & 437 & 0 & 3 & Ford, Miss. Doolina Margaret \"Daisy\"              & 0 & 21.0 & 2 & 2 & W./C. 6608   &  34.3750 &             & S & 0.47426085 & 0 & 1\\\\\n\t248 & 248 & 1 & 2 & Hamalainen, Mrs. William (Anna)                   & 0 & 24.0 & 0 & 2 & 250649       &  14.5000 &             & S & 0.88778175 & 1 & 1\\\\\n\t277 & 277 & 0 & 3 & Lindblom, Miss. Augusta Charlotta                 & 0 & 45.0 & 0 & 0 & 347073       &   7.7500 &             & S & 0.37051075 & 0 & 1\\\\\n\t643 & 643 & 0 & 3 & Skoog, Miss. Margit Elizabeth                     & 0 &  2.0 & 3 & 2 & 347088       &  27.9000 &             & S & 0.60721065 & 1 & 0\\\\\n\t125 & 125 & 0 & 1 & White, Mr. Percival Wayland                       & 1 & 54.0 & 0 & 1 & 35281        &  77.2875 & D26         & S & 0.31428660 & 0 & 1\\\\\n\t342 & 342 & 1 & 1 & Fortune, Miss. Alice Elizabeth                    & 0 & 24.0 & 3 & 2 & 19950        & 263.0000 & C23 C25 C27 & S & 0.91068234 & 1 & 1\\\\\n\t581 & 581 & 1 & 2 & Christy, Miss. Julie Rachel                       & 0 & 25.0 & 1 & 1 & 237789       &  30.0000 &             & S & 0.82904908 & 1 & 1\\\\\n\t227 & 227 & 1 & 2 & Mellors, Mr. William John                         & 1 & 19.0 & 0 & 0 & SW/PP 751    &  10.5000 &             & S & 0.36675049 & 0 & 0\\\\\n\t149 & 149 & 0 & 2 & Navratil, Mr. Michel (\"Louis M Hoffman\")          & 1 & 36.5 & 0 & 2 & 230080       &  26.0000 & F2          & S & 0.20231025 & 0 & 1\\\\\n\t219 & 219 & 1 & 1 & Bazzani, Miss. Albina                             & 0 & 32.0 & 0 & 0 & 11813        &  76.2917 & D15         & C & 0.95732375 & 1 & 1\\\\\n\t9 &   9 & 1 & 3 & Johnson, Mrs. Oscar W (Elisabeth Vilhelmina Berg) & 0 & 27.0 & 0 & 2 & 347742       &  11.1333 &             & S & 0.60430394 & 1 & 1\\\\\n\t121 & 121 & 0 & 2 & Hickman, Mr. Stanley George                       & 1 & 21.0 & 2 & 0 & S.O.C. 14879 &  73.5000 &             & S & 0.18639515 & 0 & 1\\\\\n\t605 & 605 & 1 & 1 & Homer, Mr. Harry (\"Mr E Haven\")                   & 1 & 35.0 & 0 & 0 & 111426       &  26.5500 &             & C & 0.53654053 & 1 & 1\\\\\n\t718 & 718 & 1 & 2 & Troutt, Miss. Edwina Celia \"Winnie\"               & 0 & 27.0 & 0 & 0 & 34218        &  10.5000 & E101        & S & 0.86606372 & 1 & 1\\\\\n\t619 & 619 & 1 & 2 & Becker, Miss. Marion Louise                       & 0 &  4.0 & 2 & 1 & 230136       &  39.0000 & F4          & S & 0.90183563 & 1 & 1\\\\\n\t436 & 436 & 1 & 1 & Carter, Miss. Lucile Polk                         & 0 & 14.0 & 1 & 2 & 113760       & 120.0000 & B96 B98     & S & 0.97467625 & 1 & 1\\\\\n\t400 & 400 & 1 & 2 & Trout, Mrs. William H (Jessie L)                  & 0 & 28.0 & 0 & 0 & 240929       &  12.6500 &             & S & 0.86014276 & 1 & 1\\\\\n\t527 & 527 & 1 & 2 & Ridsdale, Miss. Lucy                              & 0 & 50.0 & 0 & 0 & W./C. 14258  &  10.5000 &             & S & 0.67125760 & 1 & 1\\\\\n\t21 &  21 & 0 & 2 & Fynney, Mr. Joseph J                              & 1 & 35.0 & 0 & 0 & 239865       &  26.0000 &             & S & 0.20618575 & 0 & 1\\\\\n\t447 & 447 & 1 & 2 & Mellinger, Miss. Madeleine Violet                 & 0 & 13.0 & 0 & 1 & 250644       &  19.5000 &             & S & 0.93046882 & 1 & 1\\\\\n\t345 & 345 & 0 & 2 & Fox, Mr. Stanley Hubert                           & 1 & 36.0 & 0 & 0 & 229236       &  13.0000 &             & S & 0.19810347 & 0 & 1\\\\\n\t165 & 165 & 0 & 3 & Panula, Master. Eino Viljami                      & 1 &  1.0 & 4 & 1 & 3101295      &  39.6875 &             & S & 0.05911920 & 0 & 1\\\\\n\t40 &  40 & 1 & 3 & Nicola-Yarred, Miss. Jamila                       & 0 & 14.0 & 1 & 0 & 2651         &  11.2417 &             & C & 0.64795007 & 1 & 1\\\\\n\t73 &  73 & 0 & 2 & Hood, Mr. Ambrose Jr                              & 1 & 21.0 & 0 & 0 & S.O.C. 14879 &  73.5000 &             & S & 0.34379698 & 0 & 1\\\\\n\t521 & 521 & 1 & 1 & Perreault, Miss. Anne                             & 0 & 30.0 & 0 & 0 & 12749        &  93.5000 & B73         & S & 0.96123627 & 1 & 1\\\\\n\t260 & 260 & 1 & 2 & Parrish, Mrs. (Lutie Davis)                       & 0 & 50.0 & 0 & 1 & 230433       &  26.0000 &             & S & 0.67689622 & 1 & 1\\\\\n\t704 & 704 & 0 & 3 & Gallagher, Mr. Martin                             & 1 & 25.0 & 0 & 0 & 36864        &   7.7417 &             & Q & 0.08775287 & 0 & 1\\\\\n\t576 & 576 & 0 & 3 & Patchett, Mr. George                              & 1 & 19.0 & 0 & 0 & 358585       &  14.5000 &             & S & 0.11499772 & 0 & 1\\\\\n\t309 & 309 & 0 & 2 & Abelson, Mr. Samuel                               & 1 & 30.0 & 1 & 0 & P/PP 3381    &  24.0000 &             & C & 0.18077951 & 0 & 1\\\\\n\t22 &  22 & 1 & 2 & Beesley, Mr. Lawrence                             & 1 & 34.0 & 0 & 0 & 248698       &  13.0000 & D56         & S & 0.21450957 & 0 & 0\\\\\n\\end{tabular}\n",
            "text/plain": [
              "    PassengerId Survived Pclass\n",
              "706 706         0        2     \n",
              "399 399         0        2     \n",
              "192 192         0        2     \n",
              "95   95         0        3     \n",
              "283 283         0        3     \n",
              "183 183         0        3     \n",
              "797 797         1        1     \n",
              "64   64         0        3     \n",
              "158 158         0        3     \n",
              "379 379         0        3     \n",
              "28   28         0        1     \n",
              "443 443         0        3     \n",
              "754 754         0        3     \n",
              "207 207         0        3     \n",
              "781 781         1        3     \n",
              "673 673         0        2     \n",
              "515 515         0        3     \n",
              "372 372         0        3     \n",
              "877 877         0        3     \n",
              "351 351         0        3     \n",
              "780 780         1        1     \n",
              "655 655         0        3     \n",
              "263 263         0        1     \n",
              "322 322         0        3     \n",
              "392 392         1        3     \n",
              "609 609         1        2     \n",
              "373 373         0        3     \n",
              "880 880         1        1     \n",
              "198 198         0        3     \n",
              "374 374         0        1     \n",
              "⋮   ⋮           ⋮        ⋮     \n",
              "437 437         0        3     \n",
              "248 248         1        2     \n",
              "277 277         0        3     \n",
              "643 643         0        3     \n",
              "125 125         0        1     \n",
              "342 342         1        1     \n",
              "581 581         1        2     \n",
              "227 227         1        2     \n",
              "149 149         0        2     \n",
              "219 219         1        1     \n",
              "9     9         1        3     \n",
              "121 121         0        2     \n",
              "605 605         1        1     \n",
              "718 718         1        2     \n",
              "619 619         1        2     \n",
              "436 436         1        1     \n",
              "400 400         1        2     \n",
              "527 527         1        2     \n",
              "21   21         0        2     \n",
              "447 447         1        2     \n",
              "345 345         0        2     \n",
              "165 165         0        3     \n",
              "40   40         1        3     \n",
              "73   73         0        2     \n",
              "521 521         1        1     \n",
              "260 260         1        2     \n",
              "704 704         0        3     \n",
              "576 576         0        3     \n",
              "309 309         0        2     \n",
              "22   22         1        2     \n",
              "    Name                                                  Sex Age  SibSp Parch\n",
              "706 Morley, Mr. Henry Samuel (\"Mr Henry Marshall\")        1   39   0     0    \n",
              "399 Pain, Dr. Alfred                                      1   23   0     0    \n",
              "192 Carbines, Mr. William                                 1   19   0     0    \n",
              "95  Coxon, Mr. Daniel                                     1   59   0     0    \n",
              "283 de Pelsmaeker, Mr. Alfons                             1   16   0     0    \n",
              "183 Asplund, Master. Clarence Gustaf Hugo                 1    9   4     2    \n",
              "797 Leader, Dr. Alice (Farnham)                           0   49   0     0    \n",
              "64  Skoog, Master. Harald                                 1    4   3     2    \n",
              "158 Corn, Mr. Harry                                       1   30   0     0    \n",
              "379 Betros, Mr. Tannous                                   1   20   0     0    \n",
              "28  Fortune, Mr. Charles Alexander                        1   19   3     2    \n",
              "443 Petterson, Mr. Johan Emil                             1   25   1     0    \n",
              "754 Jonkoff, Mr. Lalio                                    1   23   0     0    \n",
              "207 Backstrom, Mr. Karl Alfred                            1   32   1     0    \n",
              "781 Ayoub, Miss. Banoura                                  0   13   0     0    \n",
              "673 Mitchell, Mr. Henry Michael                           1   70   0     0    \n",
              "515 Coleff, Mr. Satio                                     1   24   0     0    \n",
              "372 Wiklund, Mr. Jakob Alfred                             1   18   1     0    \n",
              "877 Gustafsson, Mr. Alfred Ossian                         1   20   0     0    \n",
              "351 Odahl, Mr. Nils Martin                                1   23   0     0    \n",
              "780 Robert, Mrs. Edward Scott (Elisabeth Walton McMillan) 0   43   0     1    \n",
              "655 Hegarty, Miss. Hanora \"Nora\"                          0   18   0     0    \n",
              "263 Taussig, Mr. Emil                                     1   52   1     1    \n",
              "322 Danoff, Mr. Yoto                                      1   27   0     0    \n",
              "392 Jansson, Mr. Carl Olof                                1   21   0     0    \n",
              "609 Laroche, Mrs. Joseph (Juliette Marie Louise Lafargue) 0   22   1     2    \n",
              "373 Beavan, Mr. William Thomas                            1   19   0     0    \n",
              "880 Potter, Mrs. Thomas Jr (Lily Alexenia Wilson)         0   56   0     1    \n",
              "198 Olsen, Mr. Karl Siegwart Andreas                      1   42   0     1    \n",
              "374 Ringhini, Mr. Sante                                   1   22   0     0    \n",
              "⋮   ⋮                                                     ⋮   ⋮    ⋮     ⋮    \n",
              "437 Ford, Miss. Doolina Margaret \"Daisy\"                  0   21.0 2     2    \n",
              "248 Hamalainen, Mrs. William (Anna)                       0   24.0 0     2    \n",
              "277 Lindblom, Miss. Augusta Charlotta                     0   45.0 0     0    \n",
              "643 Skoog, Miss. Margit Elizabeth                         0    2.0 3     2    \n",
              "125 White, Mr. Percival Wayland                           1   54.0 0     1    \n",
              "342 Fortune, Miss. Alice Elizabeth                        0   24.0 3     2    \n",
              "581 Christy, Miss. Julie Rachel                           0   25.0 1     1    \n",
              "227 Mellors, Mr. William John                             1   19.0 0     0    \n",
              "149 Navratil, Mr. Michel (\"Louis M Hoffman\")              1   36.5 0     2    \n",
              "219 Bazzani, Miss. Albina                                 0   32.0 0     0    \n",
              "9   Johnson, Mrs. Oscar W (Elisabeth Vilhelmina Berg)     0   27.0 0     2    \n",
              "121 Hickman, Mr. Stanley George                           1   21.0 2     0    \n",
              "605 Homer, Mr. Harry (\"Mr E Haven\")                       1   35.0 0     0    \n",
              "718 Troutt, Miss. Edwina Celia \"Winnie\"                   0   27.0 0     0    \n",
              "619 Becker, Miss. Marion Louise                           0    4.0 2     1    \n",
              "436 Carter, Miss. Lucile Polk                             0   14.0 1     2    \n",
              "400 Trout, Mrs. William H (Jessie L)                      0   28.0 0     0    \n",
              "527 Ridsdale, Miss. Lucy                                  0   50.0 0     0    \n",
              "21  Fynney, Mr. Joseph J                                  1   35.0 0     0    \n",
              "447 Mellinger, Miss. Madeleine Violet                     0   13.0 0     1    \n",
              "345 Fox, Mr. Stanley Hubert                               1   36.0 0     0    \n",
              "165 Panula, Master. Eino Viljami                          1    1.0 4     1    \n",
              "40  Nicola-Yarred, Miss. Jamila                           0   14.0 1     0    \n",
              "73  Hood, Mr. Ambrose Jr                                  1   21.0 0     0    \n",
              "521 Perreault, Miss. Anne                                 0   30.0 0     0    \n",
              "260 Parrish, Mrs. (Lutie Davis)                           0   50.0 0     1    \n",
              "704 Gallagher, Mr. Martin                                 1   25.0 0     0    \n",
              "576 Patchett, Mr. George                                  1   19.0 0     0    \n",
              "309 Abelson, Mr. Samuel                                   1   30.0 1     0    \n",
              "22  Beesley, Mr. Lawrence                                 1   34.0 0     0    \n",
              "    Ticket          Fare     Cabin       Embarked p_train    pred correct\n",
              "706 250655           26.0000             S        0.17529661 0    1      \n",
              "399 244278           10.5000             S        0.32155058 0    1      \n",
              "192 28424            13.0000             S        0.36675049 0    1      \n",
              "95  364500            7.2500             S        0.01720161 0    1      \n",
              "283 345778            9.5000             S        0.13120757 0    1      \n",
              "183 347077           31.3875             S        0.04138625 0    1      \n",
              "797 17465            25.9292 D17         S        0.90538050 1    1      \n",
              "64  347088           27.9000             S        0.07738954 0    1      \n",
              "158 SOTON/OQ 392090   8.0500             S        0.06965657 0    1      \n",
              "379 2648              4.0125             C        0.10999462 0    1      \n",
              "28  19950           263.0000 C23 C25 C27 S        0.44000634 0    1      \n",
              "443 347076            7.7750             S        0.05980602 0    1      \n",
              "754 349204            7.8958             S        0.09611556 0    1      \n",
              "207 3101278          15.8500             S        0.04286838 0    1      \n",
              "781 2687              7.2292             C        0.74530983 1    1      \n",
              "673 C.A. 24580       10.5000             S        0.04301640 0    1      \n",
              "515 349209            7.4958             S        0.09184870 0    1      \n",
              "372 3101267           6.4958             S        0.08285653 0    1      \n",
              "877 7534              9.8458             S        0.10999462 0    1      \n",
              "351 7267              9.2250             S        0.09611556 0    1      \n",
              "780 24160           211.3375 B3          S        0.92988121 1    1      \n",
              "655 365226            6.7500             Q        0.69490709 1    0      \n",
              "263 110413           79.6500 E67         S        0.25095756 0    1      \n",
              "322 349219            7.8958             S        0.08005334 0    1      \n",
              "392 350034            7.7958             S        0.10518332 0    0      \n",
              "609 SC/Paris 2123    41.5792             C        0.85257265 1    1      \n",
              "373 323951            8.0500             S        0.11499772 0    1      \n",
              "880 11767            83.1583 C50         C        0.87361766 1    1      \n",
              "198 4579              8.4042             S        0.04039841 0    1      \n",
              "374 PC 17760        135.6333             C        0.68953755 1    0      \n",
              "⋮   ⋮               ⋮        ⋮           ⋮        ⋮          ⋮    ⋮      \n",
              "437 W./C. 6608       34.3750             S        0.47426085 0    1      \n",
              "248 250649           14.5000             S        0.88778175 1    1      \n",
              "277 347073            7.7500             S        0.37051075 0    1      \n",
              "643 347088           27.9000             S        0.60721065 1    0      \n",
              "125 35281            77.2875 D26         S        0.31428660 0    1      \n",
              "342 19950           263.0000 C23 C25 C27 S        0.91068234 1    1      \n",
              "581 237789           30.0000             S        0.82904908 1    1      \n",
              "227 SW/PP 751        10.5000             S        0.36675049 0    0      \n",
              "149 230080           26.0000 F2          S        0.20231025 0    1      \n",
              "219 11813            76.2917 D15         C        0.95732375 1    1      \n",
              "9   347742           11.1333             S        0.60430394 1    1      \n",
              "121 S.O.C. 14879     73.5000             S        0.18639515 0    1      \n",
              "605 111426           26.5500             C        0.53654053 1    1      \n",
              "718 34218            10.5000 E101        S        0.86606372 1    1      \n",
              "619 230136           39.0000 F4          S        0.90183563 1    1      \n",
              "436 113760          120.0000 B96 B98     S        0.97467625 1    1      \n",
              "400 240929           12.6500             S        0.86014276 1    1      \n",
              "527 W./C. 14258      10.5000             S        0.67125760 1    1      \n",
              "21  239865           26.0000             S        0.20618575 0    1      \n",
              "447 250644           19.5000             S        0.93046882 1    1      \n",
              "345 229236           13.0000             S        0.19810347 0    1      \n",
              "165 3101295          39.6875             S        0.05911920 0    1      \n",
              "40  2651             11.2417             C        0.64795007 1    1      \n",
              "73  S.O.C. 14879     73.5000             S        0.34379698 0    1      \n",
              "521 12749            93.5000 B73         S        0.96123627 1    1      \n",
              "260 230433           26.0000             S        0.67689622 1    1      \n",
              "704 36864             7.7417             Q        0.08775287 0    1      \n",
              "576 358585           14.5000             S        0.11499772 0    1      \n",
              "309 P/PP 3381        24.0000             C        0.18077951 0    1      \n",
              "22  248698           13.0000 D56         S        0.21450957 0    0      "
            ]
          },
          "metadata": {}
        }
      ]
    },
    {
      "cell_type": "code",
      "source": [
        "## 2.5 calculate mean accuracy of trained group\n",
        "mean(traindata$Survived==traindata$pred)     # train's mean accuracy = 81.36%"
      ],
      "metadata": {
        "colab": {
          "base_uri": "https://localhost:8080/",
          "height": 34
        },
        "id": "anpP3pu9ipFU",
        "outputId": "7827c069-289f-409f-ddd9-31db0c2d84f0"
      },
      "execution_count": null,
      "outputs": [
        {
          "output_type": "display_data",
          "data": {
            "text/html": [
              "0.813627254509018"
            ],
            "text/markdown": "0.813627254509018",
            "text/latex": "0.813627254509018",
            "text/plain": [
              "[1] 0.8136273"
            ]
          },
          "metadata": {}
        }
      ]
    },
    {
      "cell_type": "code",
      "source": [
        "## create confusion matrix of trained group\n",
        "confuse = table(traindata$pred,  traindata$Survived,  dnn = c(\"predicted\", \"actual\"))\n",
        "confuse"
      ],
      "metadata": {
        "colab": {
          "base_uri": "https://localhost:8080/",
          "height": 86
        },
        "id": "CbcpfYJljgDU",
        "outputId": "94dbb772-82a8-4835-ab23-4ea93d935ee6"
      },
      "execution_count": null,
      "outputs": [
        {
          "output_type": "display_data",
          "data": {
            "text/plain": [
              "         actual\n",
              "predicted   0   1\n",
              "        0 256  52\n",
              "        1  41 150"
            ]
          },
          "metadata": {}
        }
      ]
    },
    {
      "cell_type": "code",
      "source": [
        "## calculate accuracy (train)\n",
        "accuracy = (confuse[1,1]+confuse[2,2])/nrow(traindata)\n",
        "accuracy"
      ],
      "metadata": {
        "colab": {
          "base_uri": "https://localhost:8080/",
          "height": 34
        },
        "id": "nVaLlZNSkvMg",
        "outputId": "474b6cf9-e475-43f1-cb72-7640ca4d87e4"
      },
      "execution_count": null,
      "outputs": [
        {
          "output_type": "display_data",
          "data": {
            "text/html": [
              "0.813627254509018"
            ],
            "text/markdown": "0.813627254509018",
            "text/latex": "0.813627254509018",
            "text/plain": [
              "[1] 0.8136273"
            ]
          },
          "metadata": {}
        }
      ]
    },
    {
      "cell_type": "code",
      "source": [
        "## calculate precision (train)\n",
        "precision = confuse[2,2]/(confuse[2,1]+confuse[2,2])\n",
        "precision"
      ],
      "metadata": {
        "colab": {
          "base_uri": "https://localhost:8080/",
          "height": 34
        },
        "id": "YBoAWK0SlPLp",
        "outputId": "d6b16e53-369d-461c-d09c-336955ed519d"
      },
      "execution_count": null,
      "outputs": [
        {
          "output_type": "display_data",
          "data": {
            "text/html": [
              "0.785340314136126"
            ],
            "text/markdown": "0.785340314136126",
            "text/latex": "0.785340314136126",
            "text/plain": [
              "[1] 0.7853403"
            ]
          },
          "metadata": {}
        }
      ]
    },
    {
      "cell_type": "code",
      "source": [
        "## calculate recall (train)\n",
        "recall = confuse[2,2] / (confuse[1,2]+confuse[2,2])\n",
        "recall"
      ],
      "metadata": {
        "colab": {
          "base_uri": "https://localhost:8080/",
          "height": 34
        },
        "id": "xc__oOFkliTE",
        "outputId": "46c93b0f-cb96-41a1-f8ba-86cc0d1e9ba9"
      },
      "execution_count": null,
      "outputs": [
        {
          "output_type": "display_data",
          "data": {
            "text/html": [
              "0.742574257425743"
            ],
            "text/markdown": "0.742574257425743",
            "text/latex": "0.742574257425743",
            "text/plain": [
              "[1] 0.7425743"
            ]
          },
          "metadata": {}
        }
      ]
    },
    {
      "cell_type": "code",
      "source": [
        "## calculate F1 (train)\n",
        " F1 = 2 * ( (precision*recall) / (precision+recall ) )\n",
        " F1"
      ],
      "metadata": {
        "colab": {
          "base_uri": "https://localhost:8080/",
          "height": 34
        },
        "id": "S09WSMUSlqFr",
        "outputId": "d0b3da96-fc12-49aa-a4ce-095c618c0107"
      },
      "execution_count": null,
      "outputs": [
        {
          "output_type": "display_data",
          "data": {
            "text/html": [
              "0.763358778625954"
            ],
            "text/markdown": "0.763358778625954",
            "text/latex": "0.763358778625954",
            "text/plain": [
              "[1] 0.7633588"
            ]
          },
          "metadata": {}
        }
      ]
    },
    {
      "cell_type": "markdown",
      "source": [
        "3. test"
      ],
      "metadata": {
        "id": "qwxFsaOHi-nW"
      }
    },
    {
      "cell_type": "code",
      "source": [
        "## 3.2 สร้าง predict ของ test & add column in testdata ชื่อ p_test\n",
        "p_test = predict(train_model, newdata=testdata, type=\"response\")\n",
        "testdata$p_test = predict(train_model, newdata=testdata, type=\"response\")"
      ],
      "metadata": {
        "id": "iRdjGQ10i9qx"
      },
      "execution_count": null,
      "outputs": []
    },
    {
      "cell_type": "code",
      "source": [
        "## 3.3 add column : if_else ให้ปัดเป็น 0,1\n",
        "testdata$pred = if_else(p_test>=0.5,1,0)"
      ],
      "metadata": {
        "id": "-XQmnXB-jI_M"
      },
      "execution_count": null,
      "outputs": []
    },
    {
      "cell_type": "code",
      "source": [
        "## 3.4 add column : predict correct or not?\n",
        "testdata$correct = if_else(testdata$Survived==testdata$pred,1,0)"
      ],
      "metadata": {
        "id": "hIyH5sINjMm5"
      },
      "execution_count": null,
      "outputs": []
    },
    {
      "cell_type": "code",
      "source": [
        "## 3.5 calculate mean accuracy\n",
        "mean(testdata$Survived==testdata$pred)   # test's mean accuracy = 80%"
      ],
      "metadata": {
        "colab": {
          "base_uri": "https://localhost:8080/",
          "height": 34
        },
        "id": "78iI-yCejTdN",
        "outputId": "7c78decc-bf16-456e-b741-ab09d96697b4"
      },
      "execution_count": null,
      "outputs": [
        {
          "output_type": "display_data",
          "data": {
            "text/html": [
              "0.8"
            ],
            "text/markdown": "0.8",
            "text/latex": "0.8",
            "text/plain": [
              "[1] 0.8"
            ]
          },
          "metadata": {}
        }
      ]
    },
    {
      "cell_type": "code",
      "source": [
        "## create confusion matrix of tested group\n",
        "confuse_test = table(testdata$pred,  testdata$Survived,  dnn = c(\"predicted\", \"actual\"))\n",
        "confuse_test"
      ],
      "metadata": {
        "colab": {
          "base_uri": "https://localhost:8080/",
          "height": 86
        },
        "id": "IuAhRyQ4joGP",
        "outputId": "541dac8d-4176-4b93-efec-e8e89a6de09d"
      },
      "execution_count": null,
      "outputs": [
        {
          "output_type": "display_data",
          "data": {
            "text/plain": [
              "         actual\n",
              "predicted   0   1\n",
              "        0 110  26\n",
              "        1  17  62"
            ]
          },
          "metadata": {}
        }
      ]
    },
    {
      "cell_type": "code",
      "source": [
        "## calculate accuracy (test)\n",
        "accuracy_test = (confuse_test[1,1]+confuse_test[2,2])/nrow(testdata)\n",
        "accuracy_test"
      ],
      "metadata": {
        "colab": {
          "base_uri": "https://localhost:8080/",
          "height": 34
        },
        "id": "ljxK-ovPmV73",
        "outputId": "06643e51-7b77-40c9-f026-ab1151755ad8"
      },
      "execution_count": null,
      "outputs": [
        {
          "output_type": "display_data",
          "data": {
            "text/html": [
              "0.8"
            ],
            "text/markdown": "0.8",
            "text/latex": "0.8",
            "text/plain": [
              "[1] 0.8"
            ]
          },
          "metadata": {}
        }
      ]
    },
    {
      "cell_type": "code",
      "source": [
        "## calculate precision (test)\n",
        "precision_test = confuse_test[2,2]/(confuse_test[2,1]+confuse_test[2,2])\n",
        "precision_test"
      ],
      "metadata": {
        "colab": {
          "base_uri": "https://localhost:8080/",
          "height": 34
        },
        "id": "SjtP6my0mrry",
        "outputId": "c8c4a857-91a5-4477-b29e-770d1d07fe98"
      },
      "execution_count": null,
      "outputs": [
        {
          "output_type": "display_data",
          "data": {
            "text/html": [
              "0.784810126582278"
            ],
            "text/markdown": "0.784810126582278",
            "text/latex": "0.784810126582278",
            "text/plain": [
              "[1] 0.7848101"
            ]
          },
          "metadata": {}
        }
      ]
    },
    {
      "cell_type": "code",
      "source": [
        "## calculate recall (test)\n",
        "recall_test = confuse_test[2,2] / (confuse_test[1,2]+confuse_test[2,2])\n",
        "recall_test"
      ],
      "metadata": {
        "colab": {
          "base_uri": "https://localhost:8080/",
          "height": 34
        },
        "id": "1V38YrjLm1s8",
        "outputId": "529cbd36-facc-4c20-be85-7f575079a155"
      },
      "execution_count": null,
      "outputs": [
        {
          "output_type": "display_data",
          "data": {
            "text/html": [
              "0.704545454545455"
            ],
            "text/markdown": "0.704545454545455",
            "text/latex": "0.704545454545455",
            "text/plain": [
              "[1] 0.7045455"
            ]
          },
          "metadata": {}
        }
      ]
    },
    {
      "cell_type": "code",
      "source": [
        "## calculate F1 (test)\n",
        " F1_test = 2 * ( (precision_test*recall_test) / (precision_test+recall_test ) )\n",
        " F1_test"
      ],
      "metadata": {
        "colab": {
          "base_uri": "https://localhost:8080/",
          "height": 34
        },
        "id": "ODchMW_dnAbb",
        "outputId": "30ee128e-5227-4ac3-8521-5d71cc00bd02"
      },
      "execution_count": null,
      "outputs": [
        {
          "output_type": "display_data",
          "data": {
            "text/html": [
              "0.74251497005988"
            ],
            "text/markdown": "0.74251497005988",
            "text/latex": "0.74251497005988",
            "text/plain": [
              "[1] 0.742515"
            ]
          },
          "metadata": {}
        }
      ]
    },
    {
      "cell_type": "markdown",
      "source": [
        "4. evaluate : Trained model is better because it provides higher accuracy, precision, recall, and F1 score."
      ],
      "metadata": {
        "id": "KbimqQ6pnNUN"
      }
    }
  ]
}