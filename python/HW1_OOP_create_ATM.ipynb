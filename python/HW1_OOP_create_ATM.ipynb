{
  "nbformat": 4,
  "nbformat_minor": 0,
  "metadata": {
    "colab": {
      "provenance": []
    },
    "kernelspec": {
      "name": "python3",
      "display_name": "Python 3"
    },
    "language_info": {
      "name": "python"
    }
  },
  "cells": [
    {
      "cell_type": "code",
      "execution_count": null,
      "metadata": {
        "id": "muq_Pltwz6XL"
      },
      "outputs": [],
      "source": [
        "class ATM:\n",
        "    def __init__(self, name, bank, balance):\n",
        "        self.name = name\n",
        "        self.bank = bank\n",
        "        self.balance = balance\n",
        "        print(f\"Welcome {self.name} to {self.bank}\")\n",
        "\n",
        "    # เช็คยอดเงิน\n",
        "    def check_balance(self):\n",
        "        print(f\"Your balance is {self.balance}\")\n",
        "\n",
        "    # ฝากเงิน\n",
        "    def deposit(self, amount):\n",
        "        self.balance += amount\n",
        "        print(f\"You deposit {amount}\")\n",
        "        print(f\"Your balance is {self.balance}\")\n",
        "\n",
        "    # ถอนเงิน\n",
        "    def withdraw(self, amount):\n",
        "        if amount > self.balance:\n",
        "            print(\"Insufficient balance\")\n",
        "        else:\n",
        "            self.balance -= amount\n",
        "            print(f\"You withdraw {amount}\")\n",
        "            print(f\"Your balance is {self.balance}\")\n",
        "\n",
        "    # โอนเงิน\n",
        "    def transfer(self, amount, receiver):\n",
        "        if amount > self.balance:\n",
        "            print(\"Insufficient balance\")\n",
        "        else:\n",
        "            self.balance -= amount\n",
        "            receiver.balance += amount\n",
        "            print(f\"You transfer {amount} to {receiver.name}\")\n",
        "            print(f\"Your balance is {self.balance}\")"
      ]
    },
    {
      "cell_type": "code",
      "source": [
        "account = ATM(\"Tawan\", \"Kbank\", 10000)"
      ],
      "metadata": {
        "colab": {
          "base_uri": "https://localhost:8080/"
        },
        "id": "SMeiZK0h1siz",
        "outputId": "0e523673-2509-44d1-9ec7-4fcb248b89c5"
      },
      "execution_count": null,
      "outputs": [
        {
          "output_type": "stream",
          "name": "stdout",
          "text": [
            "Welcome Tawan to Kbank\n"
          ]
        }
      ]
    },
    {
      "cell_type": "code",
      "source": [
        "account2 = ATM(\"John\", \"SCB\", 20000)"
      ],
      "metadata": {
        "colab": {
          "base_uri": "https://localhost:8080/"
        },
        "id": "dt9M0E4n3XWD",
        "outputId": "416b755b-1f5a-4ea4-c0dd-30d953f85bb2"
      },
      "execution_count": null,
      "outputs": [
        {
          "output_type": "stream",
          "name": "stdout",
          "text": [
            "Welcome John to SCB\n"
          ]
        }
      ]
    },
    {
      "cell_type": "code",
      "source": [
        "account.check_balance()"
      ],
      "metadata": {
        "colab": {
          "base_uri": "https://localhost:8080/"
        },
        "id": "DZZ3TRGQ13Tm",
        "outputId": "ad3838e5-d6c4-477c-d7f2-3b54975f0825"
      },
      "execution_count": null,
      "outputs": [
        {
          "output_type": "stream",
          "name": "stdout",
          "text": [
            "Your balance is 10000\n"
          ]
        }
      ]
    },
    {
      "cell_type": "code",
      "source": [
        "account.deposit(5000)"
      ],
      "metadata": {
        "colab": {
          "base_uri": "https://localhost:8080/"
        },
        "id": "d46OsvaE18MU",
        "outputId": "94964a4c-4aec-4b94-dfd1-840bf791084c"
      },
      "execution_count": null,
      "outputs": [
        {
          "output_type": "stream",
          "name": "stdout",
          "text": [
            "You deposit 5000\n",
            "Your balance is 15000\n"
          ]
        }
      ]
    },
    {
      "cell_type": "code",
      "source": [
        "account.withdraw(2000)"
      ],
      "metadata": {
        "colab": {
          "base_uri": "https://localhost:8080/"
        },
        "id": "51HEdBOs1-xO",
        "outputId": "b0c2c950-6d58-4cfd-f697-f246d5dd65f8"
      },
      "execution_count": null,
      "outputs": [
        {
          "output_type": "stream",
          "name": "stdout",
          "text": [
            "You withdraw 2000\n",
            "Your balance is 13000\n"
          ]
        }
      ]
    },
    {
      "cell_type": "code",
      "source": [
        "account.withdraw(20000)"
      ],
      "metadata": {
        "colab": {
          "base_uri": "https://localhost:8080/"
        },
        "id": "HQMaNgK_2EXK",
        "outputId": "41e79b11-7bff-44a7-b350-e32209e763ee"
      },
      "execution_count": null,
      "outputs": [
        {
          "output_type": "stream",
          "name": "stdout",
          "text": [
            "Insufficient balance\n"
          ]
        }
      ]
    },
    {
      "cell_type": "code",
      "source": [
        "account.transfer(5000, account2)"
      ],
      "metadata": {
        "colab": {
          "base_uri": "https://localhost:8080/"
        },
        "id": "gVgvGHcy2HsG",
        "outputId": "8b3954d1-fbd1-48c5-8a87-bb63a8954a8c"
      },
      "execution_count": null,
      "outputs": [
        {
          "output_type": "stream",
          "name": "stdout",
          "text": [
            "You transfer 5000 to John\n",
            "Your balance is 8000\n"
          ]
        }
      ]
    },
    {
      "cell_type": "code",
      "source": [],
      "metadata": {
        "id": "omIDxKkT3Tl_"
      },
      "execution_count": null,
      "outputs": []
    }
  ]
}