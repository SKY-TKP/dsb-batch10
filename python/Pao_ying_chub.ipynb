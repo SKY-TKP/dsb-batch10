{
  "nbformat": 4,
  "nbformat_minor": 0,
  "metadata": {
    "colab": {
      "provenance": []
    },
    "kernelspec": {
      "name": "python3",
      "display_name": "Python 3"
    },
    "language_info": {
      "name": "python"
    }
  },
  "cells": [
    {
      "cell_type": "markdown",
      "source": [
        "# Pao-Ying-Chub Game!!"
      ],
      "metadata": {
        "id": "QsFtUkobTeYy"
      }
    },
    {
      "cell_type": "code",
      "source": [
        "from random import choice\n",
        "\n",
        "round_game = 1\n",
        "hands = (\"rock\", \"paper\", \"scissors\")\n",
        "player_score = 0\n",
        "computer_score = 0\n",
        "\n",
        "def paoyingchub():\n",
        "    round_game = 1\n",
        "    hands = (\"rock\", \"paper\", \"scissors\")\n",
        "    player_score = 0\n",
        "    computer_score = 0\n",
        "\n",
        "    while True:\n",
        "        print(\"Welcome to Pao-Ying-Chub Game!!\")\n",
        "        print(\"You can choose your Rock-Paper-Scissors to beat me!\")\n",
        "        ayr = input(\"Are you Ready?(y/n): \").lower()\n",
        "        if ayr == \"y\":\n",
        "            print(\"Let's start!\")\n",
        "            for round_game in range(1,11):\n",
        "                print(f\"Round {round_game}\")\n",
        "                player_turn = input(\"Your turn!: \").lower()\n",
        "                com_turn = choice(hands)\n",
        "                print(f\"computer turn: {com_turn}\")\n",
        "                if player_turn == com_turn:\n",
        "                    print(\"IT's tie!\")\n",
        "                elif ((player_turn == \"rock\" and com_turn == \"scissors\")   or\n",
        "                  (player_turn == \"paper\" and com_turn == \"rock\")      or\n",
        "                  (player_turn == \"scissors\" and com_turn == \"paper\")):\n",
        "                    print(\"You're here to WIN!\")\n",
        "                    player_score = player_score + 1\n",
        "                else:\n",
        "                    print(\"You lose\")\n",
        "                    computer_score = computer_score + 1\n",
        "\n",
        "            print(f\"Final Score is you : computer = {player_score} : {computer_score}\")\n",
        "            if player_score > computer_score:\n",
        "                print(\"You're WIN!\")\n",
        "                print(\"Winer Winer Chicken Dinner!\")\n",
        "            elif player_score < computer_score:\n",
        "                print(\"Computer is Win!\")\n",
        "            else:\n",
        "                print(\"IT's tie!\")\n",
        "\n",
        "            again = input(\"Do you want to play again?(y/n): \").lower()\n",
        "            if again == \"y\":\n",
        "                paoyingchub()\n",
        "            else:\n",
        "                print(\"See you next time!!\")\n",
        "                break\n",
        "\n",
        "        else:\n",
        "            return \"Until next time!\"\n",
        "            break"
      ],
      "metadata": {
        "id": "3vvLnl6V1zZg"
      },
      "execution_count": null,
      "outputs": []
    },
    {
      "cell_type": "code",
      "source": [
        "paoyingchub()"
      ],
      "metadata": {
        "colab": {
          "base_uri": "https://localhost:8080/"
        },
        "id": "opbEwWKBZnyl",
        "outputId": "5ebe0ff1-df9e-42dc-b498-b26da9e9f4f5"
      },
      "execution_count": null,
      "outputs": [
        {
          "output_type": "stream",
          "name": "stdout",
          "text": [
            "Welcome to Pao-Ying-Chub Game!!\n",
            "You can choose your Rock-Paper-Scissors to beat me!\n",
            "Are you Ready?(y/n): y\n",
            "Let's start!\n",
            "Round 1\n",
            "Your turn!: rock\n",
            "computer turn: rock\n",
            "IT's tie!\n",
            "Round 2\n",
            "Your turn!: rock\n",
            "computer turn: paper\n",
            "You lose\n",
            "Round 3\n",
            "Your turn!: paper\n",
            "computer turn: rock\n",
            "You're here to WIN!\n",
            "Round 4\n",
            "Your turn!: scissors\n",
            "computer turn: paper\n",
            "You're here to WIN!\n",
            "Round 5\n",
            "Your turn!: paper\n",
            "computer turn: rock\n",
            "You're here to WIN!\n",
            "Round 6\n",
            "Your turn!: rock\n",
            "computer turn: scissors\n",
            "You're here to WIN!\n",
            "Round 7\n",
            "Your turn!: scissors\n",
            "computer turn: paper\n",
            "You're here to WIN!\n",
            "Round 8\n",
            "Your turn!: rock\n",
            "computer turn: scissors\n",
            "You're here to WIN!\n",
            "Round 9\n",
            "Your turn!: rock\n",
            "computer turn: paper\n",
            "You lose\n",
            "Round 10\n",
            "Your turn!: paper\n",
            "computer turn: scissors\n",
            "You lose\n",
            "Final Score is you : computer = 6 : 3\n",
            "You're WIN!\n",
            "Winer Winer Chicken Dinner!\n",
            "Do you want to play again?(y/n): n\n",
            "See you next time!!\n"
          ]
        }
      ]
    },
    {
      "cell_type": "code",
      "source": [
        "dp = [\"Snow White\", \"Cinderella\", \"Aurora\", \"Ariel\", \"Jasmine\", \"Rapunzel\"]\n",
        "pp = [\"Rajah\",\"Pascal\", \"Maximus\", \"Teacup\"]\n",
        "dp.extend(pp)"
      ],
      "metadata": {
        "id": "Xwwq4oiIbUJU"
      },
      "execution_count": null,
      "outputs": []
    },
    {
      "cell_type": "code",
      "source": [
        "dp"
      ],
      "metadata": {
        "colab": {
          "base_uri": "https://localhost:8080/"
        },
        "id": "D5P43SGa9hjv",
        "outputId": "b0255699-86ea-4a7d-f54d-cc5a3ca1c670"
      },
      "execution_count": null,
      "outputs": [
        {
          "output_type": "execute_result",
          "data": {
            "text/plain": [
              "['Snow White',\n",
              " 'Cinderella',\n",
              " 'Aurora',\n",
              " 'Ariel',\n",
              " 'Jasmine',\n",
              " 'Rapunzel',\n",
              " 'Rajah',\n",
              " 'Pascal',\n",
              " 'Maximus',\n",
              " 'Teacup']"
            ]
          },
          "metadata": {},
          "execution_count": 29
        }
      ]
    },
    {
      "cell_type": "code",
      "source": [],
      "metadata": {
        "id": "RzANNh9qqLIi"
      },
      "execution_count": null,
      "outputs": []
    }
  ]
}